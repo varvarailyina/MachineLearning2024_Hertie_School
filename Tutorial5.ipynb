{
 "cells": [
  {
   "cell_type": "markdown",
   "metadata": {},
   "source": [
    "\n",
    "![image](https://storage.googleapis.com/kaggle-datasets-images/4134888/7159329/8685cd8fb7c162e34269921f17687cbe/dataset-cover.jpeg?t=2023-12-09-07-27-45)\n"
   ]
  },
  {
   "cell_type": "markdown",
   "metadata": {},
   "source": [
    "# <div style=\"color:white;display:inline-block;border-radius:5px;background-image: url(https://i.postimg.cc/fyD3nrX4/cardiovas-jcdumlao.png);font-family:Nexa;overflow:hidden\"><p style=\"padding:15px;color:white;overflow:hidden;font-size:95%;letter-spacing:0.5px;margin:0\"><b>ﮩ٨ـ❤️ﮩ٨ـﮩﮩ</b>Introduction</p></div>\n",
    "\n",
    "This heart disease dataset, sourced from a reputable multispecialty hospital in India, comprises a rich array of information encompassing 14 common features, making it a valuable resource for cardiovascular research. With a cohort of 1000 subjects and 12 distinct features, this dataset serves as a pivotal tool for developing early-stage heart disease detection methods and constructing predictive machine-learning models. Its diverse and comprehensive nature positions it as a significant asset in advancing research endeavors aimed at understanding and mitigating cardiovascular risks."
   ]
  },
  {
   "cell_type": "markdown",
   "metadata": {},
   "source": [
    "<h2 style='border:0; border-radius: 15px; font-weight: 150; color:#9b006e; font-size:250%'><center> Cardiovascular Disease Dataset Description\n",
    "</center></h2>\n",
    "\n",
    "|S.No|Attribute|Explain|Unit|Type of Data|\n",
    "|----|---------|-------|----|------------|\n",
    "|1|**Patient Identification Number**|patientid|Numeric|Number|\n",
    "|2|**Age**|age|Numeric|In Years|\n",
    "|3|**Gender**|gender|Binary|0 (female) / 1 (male)|\n",
    "|4|**Resting blood pressure**|restingBP|Numeric|94-200 (in mm HG)|\n",
    "|5|**Serum cholesterol**|serumcholestrol|Numeric|126-564 (in mg/dl)|\n",
    "|6|**Fasting blood sugar**|fastingbloodsugar|Binary|0 (false) / 1 (true) > 120 mg/dl|\n",
    "|7|**Chest pain type**|chestpain|Nominal|0 (typical angina), 1 (atypical angina), 2 (non-anginal pain), 3 (asymptomatic)|\n",
    "|8|**Resting electrocardiogram results**|restingelectro|Nominal|0 (normal), 1 (ST-T wave abnormality), 2 (probable or definite left ventricular hypertrophy)|\n",
    "|9|**Maximum heart rate achieved**|maxheartrate|Numeric|71-202|\n",
    "|10|**Exercise induced angina**|exerciseangina|Binary|0 (no) / 1 (yes)|\n",
    "|11|**Oldpeak = ST**|oldpeak|Numeric|0-6.2|\n",
    "|12|**Slope of the peak exercise ST segment**|slope|Nominal|1 (upsloping), 2 (flat), 3 (downsloping)|\n",
    "|13|**Number of major vessels**|noofmajorvessels|Numeric|0, 1, 2, 3|\n",
    "|14|**Classification (target)**|target|Binary|0 (Absence of Heart Disease), 1 (Presence of Heart Disease)|\n"
   ]
  },
  {
   "cell_type": "markdown",
   "metadata": {},
   "source": [
    "# <div style=\"color:white;display:inline-block;border-radius:5px;background-image: url(https://i.postimg.cc/fyD3nrX4/cardiovas-jcdumlao.png);font-family:Nexa;overflow:hidden\"><p style=\"padding:15px;color:white;overflow:hidden;font-size:95%;letter-spacing:0.5px;margin:0\"><b>ﮩ٨ـ❤️ﮩ٨ـﮩﮩ</b>Import Modules</p></div>\n"
   ]
  },
  {
   "cell_type": "code",
   "execution_count": null,
   "metadata": {},
   "outputs": [],
   "source": [
    "import pandas as pd\n",
    "import numpy as np\n",
    "import seaborn as sns\n",
    "import matplotlib.pyplot as plt\n",
    "import warnings\n",
    "from termcolor import colored\n",
    "\n",
    "\n",
    "\n",
    "import warnings\n",
    "warnings.filterwarnings(\"ignore\")\n",
    "\n",
    "print(colored('\\nAll libraries imported succesfully.', 'blue'))"
   ]
  },
  {
   "cell_type": "markdown",
   "metadata": {},
   "source": [
    "# <div style=\"color:white;display:inline-block;border-radius:5px;background-image: url(https://i.postimg.cc/fyD3nrX4/cardiovas-jcdumlao.png);font-family:Nexa;overflow:hidden\"><p style=\"padding:15px;color:white;overflow:hidden;font-size:95%;letter-spacing:0.5px;margin:0\"><b>ﮩ٨ـ❤️ﮩ٨ـﮩﮩ</b>Load the Data</p></div>\n"
   ]
  },
  {
   "cell_type": "code",
   "execution_count": null,
   "metadata": {},
   "outputs": [],
   "source": [
    "df = pd.read_csv('Cardiovascular_Disease_Dataset/Cardiovascular_Disease_Dataset.csv')\n",
    "df.head().style.set_properties(**{'background-color':'blue','color':'white','border-color':'#8b8c8c'})"
   ]
  },
  {
   "cell_type": "markdown",
   "metadata": {},
   "source": [
    "# <div style=\"color:white;display:inline-block;border-radius:5px;background-image: url(https://i.postimg.cc/fyD3nrX4/cardiovas-jcdumlao.png);font-family:Nexa;overflow:hidden\"><p style=\"padding:15px;color:white;overflow:hidden;font-size:95%;letter-spacing:0.5px;margin:0\"><b>ﮩ٨ـ❤️ﮩ٨ـﮩﮩ</b>Data Information</p></div>"
   ]
  },
  {
   "cell_type": "code",
   "execution_count": null,
   "metadata": {},
   "outputs": [],
   "source": [
    "shape_of_dataframe = df.shape\n",
    "\n",
    "print(\"No. of samples:\")\n",
    "print(\"No. of columns:\",)\n",
    "\n"
   ]
  },
  {
   "cell_type": "code",
   "execution_count": null,
   "metadata": {},
   "outputs": [],
   "source": [
    "df.info()"
   ]
  },
  {
   "cell_type": "markdown",
   "metadata": {},
   "source": [
    "## Summary Statistics"
   ]
  },
  {
   "cell_type": "code",
   "execution_count": null,
   "metadata": {},
   "outputs": [],
   "source": []
  },
  {
   "cell_type": "markdown",
   "metadata": {},
   "source": [
    "# <div style=\"color:white;display:inline-block;border-radius:5px;background-image: url(https://i.postimg.cc/fyD3nrX4/cardiovas-jcdumlao.png);font-family:Nexa;overflow:hidden\"><p style=\"padding:15px;color:white;overflow:hidden;font-size:95%;letter-spacing:0.5px;margin:0\">ﮩ٨ـ❤️ﮩ٨ـﮩﮩ<b> </b>Data Preprocessning</p></div>"
   ]
  },
  {
   "cell_type": "markdown",
   "metadata": {},
   "source": [
    "## Handling Missing Values"
   ]
  },
  {
   "cell_type": "code",
   "execution_count": null,
   "metadata": {},
   "outputs": [],
   "source": []
  },
  {
   "cell_type": "code",
   "execution_count": null,
   "metadata": {},
   "outputs": [],
   "source": [
    "df.columns"
   ]
  },
  {
   "cell_type": "markdown",
   "metadata": {},
   "source": [
    "# <div style=\"color:white;display:inline-block;border-radius:5px;background-image: url(https://i.postimg.cc/fyD3nrX4/cardiovas-jcdumlao.png);font-family:Nexa;overflow:hidden\"><p style=\"padding:15px;color:white;overflow:hidden;font-size:95%;letter-spacing:0.5px;margin:0\"><b>ﮩ٨ـ❤️ﮩ٨ـﮩﮩ</b>Exploratory Data Analysis (EDA)📊</p></div>\n"
   ]
  },
  {
   "cell_type": "markdown",
   "metadata": {},
   "source": [
    "<div style=\"border-radius: 10px; border: 2px solid #FFD700; padding: 15px; background-color:#FDF5E6; font-size: 100%; text-align: left;\">\n",
    "    \n",
    "<font size=\"+1\" color=\"#059c99\"><b>💞 1.What is the age range of patients in the dataset?</b></font>\n",
    "\n",
    "**Answer: Age Range: 20 - 80**\n",
    "\n",
    "**Explanation: The age range is determined by finding the minimum and maximum age values in the dataset. In this case, patients' ages range from 20 to 80 years. Use df['age'].min() and df['age'].max()**"
   ]
  },
  {
   "cell_type": "code",
   "execution_count": null,
   "metadata": {},
   "outputs": [],
   "source": [
    "min_age=\n",
    "max_age=\n",
    "age_range = f\"Age Range: {min_age} - {max_age}\"\n",
    "print(age_range)\n"
   ]
  },
  {
   "cell_type": "markdown",
   "metadata": {},
   "source": [
    "<div style=\"border-radius: 10px; border: 2px solid #FFD700; padding: 15px; background-color:#FDF5E6; font-size: 100%; text-align: left;\">\n",
    "    \n",
    "<font size=\"+1\" color=\"#059c99\"><b>💞 2. How many males and females are represented in the dataset?</b></font>\n",
    "\n",
    "**Answer: Female: 1, Male: 0**\n",
    "\n",
    "**Explanation: The dataset contains only female patients, as indicated by the 'gender' column where 1 represents female and 0 represents male. Use df['gender'].value_counts()**\n"
   ]
  },
  {
   "cell_type": "code",
   "execution_count": null,
   "metadata": {},
   "outputs": [],
   "source": [
    "gender_count = \n",
    "print(gender_count)\n"
   ]
  },
  {
   "cell_type": "markdown",
   "metadata": {},
   "source": [
    "## Visualise Age Distribution by Gender:\n",
    "\n",
    "What do you interpret from this plot?"
   ]
  },
  {
   "cell_type": "code",
   "execution_count": null,
   "metadata": {},
   "outputs": [],
   "source": [
    "# Visualization:\n",
    "plt.figure(figsize=(10, 6))\n",
    "sns.histplot(x='age', hue='gender', data=df, palette='muted', multiple='stack', bins=15)\n",
    "plt.title('Age Distribution by Gender')\n",
    "plt.xlabel('Age')\n",
    "plt.ylabel('Count')\n",
    "plt.legend(title='Gender', labels=['Female', 'Male'])\n",
    "plt.show()"
   ]
  },
  {
   "cell_type": "markdown",
   "metadata": {},
   "source": [
    "<div style=\"border-radius: 10px; border: 2px solid #FFD700; padding: 15px; background-color:#FDF5E6; font-size: 100%; text-align: left;\">\n",
    "    \n",
    "<font size=\"+1\" color=\"#059c99\"><b>💞 3. What is the most common type of chest pain observed in the patients?</b></font>\n",
    "\n",
    "**chestpain --> 0 (typical angina), 1 (atypical angina), 2 (non-anginal pain), 3 (asymptomatic)**\n",
    "**Answer: Chest Pain Type 0**\n",
    "\n",
    "**Explanation: Chest pain type 0 is the most common among the patients, as determined by counting the occurrences in the 'chestpain' column. Use df['chestpain'].value_counts()**\n"
   ]
  },
  {
   "cell_type": "code",
   "execution_count": null,
   "metadata": {},
   "outputs": [],
   "source": [
    "chest_pain_counts = \n",
    "print(chest_pain_counts)"
   ]
  },
  {
   "cell_type": "markdown",
   "metadata": {},
   "source": [
    "<div style=\"border-radius: 10px; border: 2px solid #FFD700; padding: 15px; background-color:#FDF5E6; font-size: 100%; text-align: left;\">\n",
    "    \n",
    "<font size=\"+1\" color=\"#059c99\"><b>💞 4. What is the average resting blood pressure among the patients?</b></font>\n",
    "\n",
    "**Answer: Average Resting Blood Pressure: 151.75 mm Hg**\n",
    "\n",
    "**Explanation: The average resting blood pressure is calculated by taking the mean of the values in the 'restingBP' column. Use df['restingBP'].mean()**\n"
   ]
  },
  {
   "cell_type": "code",
   "execution_count": null,
   "metadata": {},
   "outputs": [],
   "source": [
    "average_resting_bp = \n",
    "print(f\"Average Resting Blood Pressure: {average_resting_bp:.2f} mm Hg\")\n"
   ]
  },
  {
   "cell_type": "markdown",
   "metadata": {},
   "source": [
    "## Distribution of resting blood pressure:\n",
    "\n",
    "What do you interpret from this plot?"
   ]
  },
  {
   "cell_type": "code",
   "execution_count": null,
   "metadata": {},
   "outputs": [],
   "source": [
    "sns.histplot(df['restingBP'], color='mediumseagreen') \n",
    "plt.title('Distribution of Resting Blood Pressure')\n",
    "plt.show()"
   ]
  },
  {
   "cell_type": "markdown",
   "metadata": {},
   "source": [
    "<div style=\"border-radius: 10px; border: 2px solid #FFD700; padding: 15px; background-color:#FDF5E6; font-size: 100%; text-align: left;\">\n",
    "    \n",
    "<font size=\"+1\" color=\"#059c99\"><b>💞 5. How does serum cholesterol vary across different patients?</b></font>\n",
    "\n",
    "**Explanation: Serum cholesterol distribution is visualized using both histogram and a boxplot, providing insights into the spread and central tendency of cholesterol levels among patients.**\n"
   ]
  },
  {
   "cell_type": "code",
   "execution_count": null,
   "metadata": {},
   "outputs": [],
   "source": [
    "sns.histplot(df['serumcholestrol'], color='blue') \n",
    "plt.title('Distribution of Serum Cholesterol')\n",
    "plt.xlabel('Serum Cholesterol')\n",
    "plt.ylabel('Frequency')\n",
    "plt.show()"
   ]
  },
  {
   "cell_type": "code",
   "execution_count": null,
   "metadata": {},
   "outputs": [],
   "source": [
    "plt.figure(figsize=(10, 6))\n",
    "sns.boxplot(x='serumcholestrol', data=df, color='royalblue')\n",
    "plt.title('Distribution of Serum Cholesterol')\n",
    "plt.xlabel('Serum Cholesterol')\n",
    "plt.show()"
   ]
  },
  {
   "cell_type": "markdown",
   "metadata": {},
   "source": [
    "## Annotating the Box Plot"
   ]
  },
  {
   "cell_type": "markdown",
   "metadata": {},
   "source": [
    "plt.text(x, y, text) adds text at position x, y. Here, x is the median value, and y is arbitrarily set to 0.1 to position the text on the plot. The text displays the median value, formatted to two decimal places.\n",
    "\n",
    "ha='center' and va='center' set the horizontal and vertical alignment of the text, respectively.\n",
    "\n",
    "fontweight='bold', color='white', and backgroundcolor='green' style the text, making it bold with white letters on a green background."
   ]
  },
  {
   "cell_type": "code",
   "execution_count": null,
   "metadata": {},
   "outputs": [],
   "source": [
    "serumcholestrol_data=df['serumcholestrol']\n",
    "# Recreating the boxplot for serum cholesterol data\n",
    "plt.figure(figsize=(12, 8))\n",
    "boxplot = sns.boxplot(x=serumcholestrol_data, color='royalblue')\n",
    "\n",
    "# Calculating statistics for annotations\n",
    "median = np.median(serumcholestrol_data)\n",
    "quartile1 = np.percentile(serumcholestrol_data, 25)\n",
    "quartile3 = np.percentile(serumcholestrol_data, 75)\n",
    "iqr = quartile3 - quartile1  # Interquartile range\n",
    "upper_whisker = quartile3 + 1.5 * iqr\n",
    "lower_whisker = quartile1 - 1.5 * iqr\n",
    "\n",
    "# Annotating the median\n",
    "plt.text(median, 0.1, f'Median: {median:.2f}', ha='center', va='center', fontweight='bold', color='white', backgroundcolor='green')\n",
    "\n",
    "# Annotating the quartiles\n",
    "plt.text(quartile1, 0.2, f'Q1: {quartile1:.2f}', ha='center', va='center', fontweight='bold', color='white', backgroundcolor='blue')\n",
    "plt.text(quartile3, 0.2, f'Q3: {quartile3:.2f}', ha='center', va='center', fontweight='bold', color='white', backgroundcolor='blue')\n",
    "\n",
    "# Annotating the whiskers\n",
    "plt.text(upper_whisker, 0.1, f'Upper Whisker: {upper_whisker:.2f}', ha='center', va='center', fontweight='bold', color='white', backgroundcolor='red')\n",
    "plt.text(lower_whisker, 0.1, f'Lower Whisker: {lower_whisker:.2f}', ha='center', va='center', fontweight='bold', color='white', backgroundcolor='red')\n",
    "\n",
    "plt.title('Annotated Distribution of Serum Cholesterol')\n",
    "plt.xlabel('Serum Cholesterol')\n"
   ]
  },
  {
   "cell_type": "markdown",
   "metadata": {},
   "source": [
    "<div style=\"border-radius: 10px; border: 2px solid #FFD700; padding: 15px; background-color:#FDF5E6; font-size: 100%; text-align: left;\">\n",
    "    \n",
    "<font size=\"+1\" color=\"#059c99\"><b>💞 6. What percentage of patients have fasting blood sugar greater than 120 mg/dl? </b></font>\n",
    "\n",
    "**Answer: Percentage of patients with fasting blood sugar > 120 mg/dl: 29.60%**\n",
    "\n",
    "**Explanation: The percentage is calculated by dividing the number of patients with fasting blood sugar greater than 120 mg/dl by the total number of patients. Use (df['fastingbloodsugar'].sum() / len(df)) * 100**\n"
   ]
  },
  {
   "cell_type": "code",
   "execution_count": null,
   "metadata": {},
   "outputs": [],
   "source": [
    "percentage_high_fasting_sugar = \n",
    "print(f\"Percentage of patients with fasting blood sugar > 120 mg/dl: {percentage_high_fasting_sugar:.2f}%\")\n"
   ]
  },
  {
   "cell_type": "markdown",
   "metadata": {},
   "source": [
    "<div style=\"border-radius: 10px; border: 2px solid #FFD700; padding: 15px; background-color:#FDF5E6; font-size: 100%; text-align: left;\">\n",
    "    \n",
    "<font size=\"+1\" color=\"#059c99\"><b>💞 7. What are the predominant resting electrocardiogram results in the dataset?</b></font>\n",
    "\n",
    "**Answer: 0 (normal), 1 (ST-T wave abnormality), 2 (probable or definite left ventricular hypertrophy)**\n",
    "\n",
    "**Explanation: The counts of normal and abnormal resting electrocardiogram results are determined from the 'restingrelectro' column. Use df['restingrelectro'].value_counts()**\n"
   ]
  },
  {
   "cell_type": "code",
   "execution_count": null,
   "metadata": {},
   "outputs": [],
   "source": [
    "resting_electro_counts = \n",
    "print(resting_electro_counts)\n"
   ]
  },
  {
   "cell_type": "markdown",
   "metadata": {},
   "source": [
    "## Visualization:\n",
    "\n",
    "What do you interpret from this plot?"
   ]
  },
  {
   "cell_type": "code",
   "execution_count": null,
   "metadata": {},
   "outputs": [],
   "source": [
    "chestpain_labels = {0: 'normal', 1: 'ST-T wave abnormality', 2: 'probable or definite'}\n",
    "counts = df['restingrelectro'].value_counts() \n",
    "\n",
    "# Replace index with descriptive labels using chestpain_labels dictionary\n",
    "counts.index = counts.index.map(chestpain_labels)\n",
    "\n",
    "# Plotting\n",
    "ax = counts.plot(kind='bar', color='skyblue', title='Distribution of Resting Electrocardiogram Results')\n",
    "ax.set_xlabel('Resting Electrocardiogram Results')\n",
    "ax.set_ylabel('Count')\n",
    "\n",
    "# Annotating bars with counts\n",
    "for p in ax.patches:\n",
    "    ax.annotate(str(p.get_height()), (p.get_x() + p.get_width() / 2., p.get_height()),\n",
    "                ha='center', va='bottom', color='black')\n",
    "\n",
    "plt.show()"
   ]
  },
  {
   "cell_type": "markdown",
   "metadata": {},
   "source": [
    "<div style=\"border-radius: 10px; border: 2px solid #FFD700; padding: 15px; background-color:#FDF5E6; font-size: 100%; text-align: left;\">\n",
    "    \n",
    "<font size=\"+1\" color=\"#059c99\"><b>💞 8. What is the average maximum heart rate achieved by the patients on average?</b></font>\n",
    "\n",
    "**Answer: Average Maximum Heart Rate: 145.48**\n",
    "\n",
    "**Explanation: The average maximum heart rate is calculated by taking the mean of values in the 'maxheartrate' column. Use df['maxheartrate'].mean()**\n"
   ]
  },
  {
   "cell_type": "code",
   "execution_count": null,
   "metadata": {},
   "outputs": [],
   "source": [
    "average_max_heart_rate = \n",
    "print(f\"Average Maximum Heart Rate: {average_max_heart_rate:.2f}\")\n"
   ]
  },
  {
   "cell_type": "markdown",
   "metadata": {},
   "source": [
    "<div style=\"border-radius: 10px; border: 2px solid #FFD700; padding: 15px; background-color:#FDF5E6; font-size: 100%; text-align: left;\">\n",
    "    \n",
    "<font size=\"+1\" color=\"#059c99\"><b>💞 9. How many patients experienced exercise-induced angina?</b></font>\n",
    "\n",
    "**Answer: Number of Patients with Exercise-Induced Angina: 498**\n",
    "\n",
    "**Explanation: The count of patients with exercise-induced angina is obtained from the 'exerciseangia' column. Use df['exerciseangia'].sum()**\n"
   ]
  },
  {
   "cell_type": "code",
   "execution_count": null,
   "metadata": {},
   "outputs": [],
   "source": [
    "exercise_angina_count = \n",
    "print(f\"Number of Patients with Exercise-Induced Angina: {exercise_angina_count}\")\n"
   ]
  },
  {
   "cell_type": "code",
   "execution_count": null,
   "metadata": {},
   "outputs": [],
   "source": []
  },
  {
   "cell_type": "markdown",
   "metadata": {},
   "source": [
    "<div style=\"border-radius: 10px; border: 2px solid #FFD700; padding: 15px; background-color:#FDF5E6; font-size: 100%; text-align: left;\">\n",
    "    \n",
    "<font size=\"+1\" color=\"#059c99\"><b>💞 10. What is the average oldpeak (ST depression induced by exercise relative to rest) among the patients?</b></font>\n",
    "\n",
    "**Answer: Average Oldpeak: 2.71**\n",
    "\n",
    "**Explanation: The average oldpeak is calculated by taking the mean of values in the 'oldpeak' column. Use df['oldpeak'].mean()**"
   ]
  },
  {
   "cell_type": "code",
   "execution_count": null,
   "metadata": {},
   "outputs": [],
   "source": [
    "average_oldpeak = \n",
    "print(f\"Average Oldpeak: {average_oldpeak:.2f}\")\n"
   ]
  },
  {
   "cell_type": "markdown",
   "metadata": {},
   "source": [
    "<div style=\"border-radius: 10px; border: 2px solid #FFD700; padding: 15px; background-color:#FDF5E6; font-size: 100%; text-align: left;\">\n",
    "    \n",
    "<font size=\"+1\" color=\"#059c99\"><b>💞 11. How is the slope of the peak exercise ST segment distributed in the dataset?</b></font>\n",
    "\n",
    "**Explanation: The distribution of the slope is visualized using a countplot, showing the frequency of each slope type in the 'slope' \n",
    "column.**\n",
    "\n",
    "**1 (upsloping), 2 (flat), 3 (downsloping)**\n"
   ]
  },
  {
   "cell_type": "code",
   "execution_count": null,
   "metadata": {},
   "outputs": [],
   "source": [
    "plt.figure(figsize=(10, 6))\n",
    "sns.countplot(x='slope', data=df, palette='viridis')\n",
    "plt.title('Distribution of Slope of Peak Exercise ST Segment')\n",
    "plt.xlabel('Slope')\n",
    "plt.ylabel('Count')\n",
    "plt.show()"
   ]
  },
  {
   "cell_type": "markdown",
   "metadata": {},
   "source": [
    "<div style=\"border-radius: 10px; border: 2px solid #FFD700; padding: 15px; background-color:#FDF5E6; font-size: 100%; text-align: left;\">\n",
    "    \n",
    "<font size=\"+1\" color=\"#059c99\"><b>💞 12. What is the range of the number of major vessels in the patients?</b></font>\n",
    "\n",
    "**Answer: Number of Major Vessels Range: 0 - 3**\n",
    "\n",
    "**Explanation: The range is determined by finding the minimum and maximum values in the 'noofmajorvessels' column.\n",
    "Use df['noofmajorvessels'].min() df['noofmajorvessels'].max()**\n"
   ]
  },
  {
   "cell_type": "code",
   "execution_count": null,
   "metadata": {},
   "outputs": [],
   "source": [
    "min_vessels=\n",
    "max_vessels=\n",
    "vessels_range = f\"Number of Major Vessels Range: {min_vessels} - {max_vessels}\"\n",
    "print(vessels_range)\n"
   ]
  },
  {
   "cell_type": "markdown",
   "metadata": {},
   "source": [
    "## Visualization:\n",
    "\n",
    "What do you interpret from this plot?"
   ]
  },
  {
   "cell_type": "code",
   "execution_count": null,
   "metadata": {},
   "outputs": [],
   "source": [
    "plt.figure(figsize=(10, 6))\n",
    "sns.countplot(x='noofmajorvessels', data=df, palette='viridis')\n",
    "plt.title('Number of major vessels')\n",
    "plt.xlabel('Major Vessels')\n",
    "plt.ylabel('Count')\n",
    "plt.show\n",
    "\n"
   ]
  },
  {
   "cell_type": "markdown",
   "metadata": {},
   "source": [
    "<div style=\"border-radius: 10px; border: 2px solid #FFD700; padding: 15px; background-color:#FDF5E6; font-size: 100%; text-align: left;\">\n",
    "    \n",
    "<font size=\"+1\" color=\"#059c99\"><b>💞 13. What percentage of patients in the dataset have heart disease (target = 1)?</b></font>\n",
    "\n",
    "**Answer: Percentage of Patients with Heart Disease: 58.00%**\n",
    "\n",
    "**Explanation: The percentage is calculated by dividing the number of patients with heart disease (target = 1) by the total number of patients. Use (df['target'].sum() / len(df)) * 100**"
   ]
  },
  {
   "cell_type": "code",
   "execution_count": null,
   "metadata": {},
   "outputs": [],
   "source": [
    "percentage_heart_disease = \n",
    "print(f\"Percentage of Patients with Heart Disease: {percentage_heart_disease:.2f}%\")\n"
   ]
  },
  {
   "cell_type": "markdown",
   "metadata": {},
   "source": [
    "<div style=\"border-radius: 10px; border: 2px solid #FFD700; padding: 15px; background-color:#FDF5E6; font-size: 100%; text-align: left;\">\n",
    "    \n",
    "<font size=\"+1\" color=\"#059c99\"><b>💞 14. Can you identify the patient with the highest age in the dataset?</b></font>\n",
    "\n",
    "**Answer:**\n",
    "* Patient ID: 1160678\n",
    "* Age: 80\n",
    "* Gender: Female\n",
    "* Chest Pain: 1\n",
    "* Target: 1 (Heart Disease)\n",
    "\n",
    "**Explanation: The patient with the highest age is identified by finding the maximum value in the 'age' column and extracting other details.**"
   ]
  },
  {
   "cell_type": "code",
   "execution_count": null,
   "metadata": {},
   "outputs": [],
   "source": [
    "# Find the maximum age in the dataset\n",
    "max_age = df['age'].max()\n",
    "\n",
    "# Filter the DataFrame to only include rows where the age is equal to the maximum age\n",
    "oldest_patients = df[df['age'] == max_age]\n",
    "\n",
    "print(\"Details of the Oldest Patients:\")\n",
    "print(oldest_patients)\n",
    "\n"
   ]
  },
  {
   "cell_type": "markdown",
   "metadata": {},
   "source": [
    "<div style=\"border-radius: 10px; border: 2px solid #FFD700; padding: 15px; background-color:#FDF5E6; font-size: 100%; text-align: left;\">\n",
    "    \n",
    "<font size=\"+1\" color=\"#059c99\"><b>💞 15. Who is the patient with the lowest resting blood pressure?</b></font>\n",
    "\n",
    "**Answer:**\n",
    "* Patient ID: 119250\n",
    "* Age: 40\n",
    "* Gender: Female\n",
    "* Chest Pain: 0\n",
    "* Target: 0 (No Heart Disease)\n",
    "\n",
    "**Explanation: The patient with the lowest resting blood pressure is identified by finding the minimum value in the 'restingBP' column and extracting other details.**\n"
   ]
  },
  {
   "cell_type": "code",
   "execution_count": null,
   "metadata": {},
   "outputs": [],
   "source": [
    "min_BP = df['restingBP'].min()\n",
    "print(\"Lowest resting BP is\", min_BP)\n",
    "\n",
    "lowest_BP = df[df['restingBP'] == min_BP]\n",
    "\n",
    "print(\"Details of the patient withlowest resting blood pressure:\")\n",
    "print(lowest_BP)"
   ]
  },
  {
   "cell_type": "markdown",
   "metadata": {},
   "source": [
    "<div style=\"border-radius: 10px; border: 2px solid #FFD700; padding: 15px; background-color:#FDF5E6; font-size: 100%; text-align: left;\">\n",
    "    \n",
    "<font size=\"+1\" color=\"#059c99\"><b>💞 16. What is the correlation between age and maximum heart rate?</b></font>\n",
    "\n",
    "**Answer: Correlation between Age and Maximum Heart Rate: -0.04**\n",
    "\n",
    "**Explanation: The correlation coefficient is calculated to quantify the relationship between age and maximum heart rate. Use df['age'].corr(df['maxheartrate'])**\n"
   ]
  },
  {
   "cell_type": "code",
   "execution_count": null,
   "metadata": {},
   "outputs": [],
   "source": [
    "correlation_age_maxheartrate = \n",
    "print(f\"Correlation between Age and Maximum Heart Rate: {correlation_age_maxheartrate:.2f}\")\n"
   ]
  },
  {
   "cell_type": "markdown",
   "metadata": {},
   "source": [
    "<div style=\"border-radius: 10px; border: 2px solid #FFD700; padding: 15px; background-color:#FDF5E6; font-size: 100%; text-align: left;\">\n",
    "    \n",
    "<font size=\"+1\" color=\"#059c99\"><b>💞 17. Is there a relationship between chest pain type and the presence of heart disease?</b></font>\n",
    "\n",
    "**Explanation: The relationship is visualized using a countplot, showing the distribution of heart disease (yes/no) for each chest pain type.\n",
    "What do you interpret from the plot?**\n"
   ]
  },
  {
   "cell_type": "code",
   "execution_count": null,
   "metadata": {},
   "outputs": [],
   "source": [
    "plt.figure(figsize=(10, 6))\n",
    "ax = sns.countplot(x=df['chestpain'].astype(str), hue=df['target'].astype(str), data=df, palette='Set1')\n",
    "plt.title('Heart Disease Presence by Chest Pain Type')\n",
    "# Custom legend\n",
    "handles, labels = ax.get_legend_handles_labels()\n",
    "ax.legend(handles=handles, labels=['No', 'Yes'], title='Heart Disease')\n",
    "# Set the x-tick labels without modifying the dataset\n",
    "ax.set_xticklabels(['Typical Angina', 'Atypical Angina', 'Non-Anginal Pain', 'Asymptomatic'], rotation=45)\n",
    "plt.xlabel('Chest Pain Type')\n",
    "plt.ylabel('Count')\n",
    "plt.tight_layout()  # Adjust layout to make room for the rotated x-tick labels\n",
    "plt.show()\n"
   ]
  },
  {
   "cell_type": "markdown",
   "metadata": {},
   "source": [
    "<div style=\"border-radius: 10px; border: 2px solid #FFD700; padding: 15px; background-color:#FDF5E6; font-size: 100%; text-align: left;\">\n",
    "    \n",
    "<font size=\"+1\" color=\"#059c99\"><b>💞 18. How does serum cholesterol differ between patients with and without heart disease?</b></font>\n",
    "\n",
    "**Explanation: The difference in serum cholesterol levels is visualized using a boxplot, comparing patients with and without heart disease. What do you observe from the boxplot?**\n"
   ]
  },
  {
   "cell_type": "code",
   "execution_count": null,
   "metadata": {},
   "outputs": [],
   "source": [
    "plt.figure(figsize=(10, 6))\n",
    "sns.boxplot(x='target', y='serumcholestrol', data=df, palette='pastel')\n",
    "plt.title('Serum Cholesterol Distribution by Heart Disease Presence')\n",
    "plt.xlabel('Heart Disease Presence')\n",
    "plt.ylabel('Serum Cholesterol')\n",
    "plt.xticks(ticks=[0, 1], labels=['No Heart Disease', 'Heart Disease'])\n",
    "plt.show()"
   ]
  },
  {
   "cell_type": "markdown",
   "metadata": {},
   "source": [
    "<!-- <div style=\"border-radius: 10px; border: 2px solid #FFD700; padding: 15px; background-color:#FDF5E6; font-size: 100%; text-align: left;\">\n",
    "    \n",
    "<font size=\"+1\" color=\"#059c99\"><b>💞 19. What is the distribution of oldpeak values for patients with heart disease?</b></font>\n",
    "\n",
    "**Explanation: The distribution is visualized using a histogram with kernel density estimation, providing insights into the distribution of oldpeak values among patients with heart disease.**\n",
    " -->"
   ]
  },
  {
   "cell_type": "markdown",
   "metadata": {},
   "source": [
    "# <div style=\"color:white;display:inline-block;border-radius:5px;background-image: url(https://i.postimg.cc/fyD3nrX4/cardiovas-jcdumlao.png);font-family:Nexa;overflow:hidden\"><p style=\"padding:15px;color:white;overflow:hidden;font-size:95%;letter-spacing:0.5px;margin:0\"><b>ﮩ٨ـ❤️ﮩ٨ـﮩﮩ</b>Target Categorizing</p></div>"
   ]
  },
  {
   "cell_type": "code",
   "execution_count": null,
   "metadata": {},
   "outputs": [],
   "source": [
    "# target classes :\n",
    "df.target.unique()"
   ]
  },
  {
   "cell_type": "code",
   "execution_count": null,
   "metadata": {},
   "outputs": [],
   "source": [
    "df.head()"
   ]
  },
  {
   "cell_type": "markdown",
   "metadata": {},
   "source": [
    " # <div style=\"color:white;display:inline-block;border-radius:5px;background-image: url(https://i.postimg.cc/fyD3nrX4/cardiovas-jcdumlao.png);font-family:Nexa;overflow:hidden\"><p style=\"padding:15px;color:white;overflow:hidden;font-size:95%;letter-spacing:0.5px;margin:0\"><b>ﮩ٨ـ❤️ﮩ٨ـﮩﮩ</b>Standardization</p></div>\n",
    " "
   ]
  },
  {
   "cell_type": "code",
   "execution_count": null,
   "metadata": {},
   "outputs": [],
   "source": [
    "# Create X from DataFrame and y as Target\n",
    "X_disease = df.drop(columns='target')\n",
    "y = df.target"
   ]
  },
  {
   "cell_type": "code",
   "execution_count": null,
   "metadata": {},
   "outputs": [],
   "source": []
  },
  {
   "cell_type": "code",
   "execution_count": null,
   "metadata": {},
   "outputs": [],
   "source": [
    "from sklearn.preprocessing import StandardScaler\n",
    "\n",
    "\n",
    "# Assuming X_disease is your DataFrame containing the features to be scaled\n",
    "scaler = StandardScaler().fit_transform(X_disease)\n",
    "X = pd.DataFrame(scaler, columns=X_disease.columns)\n",
    "\n",
    "# Display the descriptive statistics of the scaled features\n",
    "X.describe().T.style.background_gradient(axis=0, cmap='plasma')\n"
   ]
  },
  {
   "cell_type": "markdown",
   "metadata": {},
   "source": [
    "# <div style=\"color:white;display:inline-block;border-radius:5px;background-image: url(https://i.postimg.cc/fyD3nrX4/cardiovas-jcdumlao.png);font-family:Nexa;overflow:hidden\"><p style=\"padding:15px;color:white;overflow:hidden;font-size:95%;letter-spacing:0.5px;margin:0\"><b>ﮩ٨ـ❤️ﮩ٨ـﮩﮩ</b>Modelling</p></div>\n"
   ]
  },
  {
   "cell_type": "markdown",
   "metadata": {},
   "source": [
    "### Test train Split"
   ]
  },
  {
   "cell_type": "code",
   "execution_count": null,
   "metadata": {},
   "outputs": [],
   "source": [
    "df.target.value_counts()"
   ]
  },
  {
   "cell_type": "code",
   "execution_count": null,
   "metadata": {},
   "outputs": [],
   "source": [
    "# Split Dataframe\n",
    "X_train, X_test, y_train, y_test = train_test_split(X, y, test_size=0.20, random_state=0)"
   ]
  },
  {
   "cell_type": "markdown",
   "metadata": {},
   "source": [
    "# <div style=\"color:white;display:inline-block;border-radius:5px;background-image: url(https://i.postimg.cc/fyD3nrX4/cardiovas-jcdumlao.png);font-family:Nexa;overflow:hidden\"><p style=\"padding:15px;color:white;overflow:hidden;font-size:95%;letter-spacing:0.5px;margin:0\"><b>ﮩ٨ـ❤️ﮩ٨ـﮩﮩ</b>Ridge Regression</p></div>\n"
   ]
  },
  {
   "cell_type": "markdown",
   "metadata": {},
   "source": [
    "## Performing Ridge Regression with Cross-Validation"
   ]
  },
  {
   "cell_type": "code",
   "execution_count": null,
   "metadata": {},
   "outputs": [],
   "source": [
    "from sklearn.linear_model import RidgeCV\n",
    "from sklearn.metrics import confusion_matrix\n"
   ]
  },
  {
   "cell_type": "code",
   "execution_count": null,
   "metadata": {},
   "outputs": [],
   "source": [
    "# Define alphas for cross-validation\n",
    "alphas = [0.01, 0.1, 1, 10, 100]\n",
    "\n",
    "# Setup the ridge regression with built-in cross-validation\n",
    "ridge_cv = RidgeCV(alphas=alphas, cv=5)\n",
    "\n",
    "# Fit the model\n",
    "ridge_cv.fit(X_train, y_train)\n",
    "\n",
    "# ridge_cv.alpha_ gives you the best alpha value found during CV\n",
    "print(\"Best alpha value:\", ridge_cv.alpha_)\n"
   ]
  },
  {
   "cell_type": "code",
   "execution_count": null,
   "metadata": {},
   "outputs": [],
   "source": [
    "# Predict on the test set\n",
    "y_pred = ridge_cv.predict(X_test)\n",
    "print(y_pred)"
   ]
  },
  {
   "cell_type": "code",
   "execution_count": null,
   "metadata": {},
   "outputs": [],
   "source": [
    "# Apply manual threshold of 0.5\n",
    "\n",
    "y_pred_ridge = (y_pred > 0.5).astype(int)"
   ]
  },
  {
   "cell_type": "code",
   "execution_count": null,
   "metadata": {},
   "outputs": [],
   "source": [
    "# Generate the confusion matrix\n",
    "\n"
   ]
  },
  {
   "cell_type": "markdown",
   "metadata": {},
   "source": [
    "# <div style=\"color:white;display:inline-block;border-radius:5px;background-image: url(https://i.postimg.cc/fyD3nrX4/cardiovas-jcdumlao.png);font-family:Nexa;overflow:hidden\"><p style=\"padding:15px;color:white;overflow:hidden;font-size:95%;letter-spacing:0.5px;margin:0\"><b>ﮩ٨ـ❤️ﮩ٨ـﮩﮩ</b>Lasso</p></div>\n"
   ]
  },
  {
   "cell_type": "code",
   "execution_count": null,
   "metadata": {},
   "outputs": [],
   "source": [
    "from sklearn.linear_model import LassoCV"
   ]
  },
  {
   "cell_type": "code",
   "execution_count": null,
   "metadata": {},
   "outputs": [],
   "source": [
    "# Define a range of alpha values for Lasso\n",
    "alphas = [0.001, 0.01, 0.1, 1, 10, 100]\n",
    "\n",
    "# Fit Lasso model with cross-validation to select the best alpha\n",
    "lasso = LassoCV(alphas=alphas, cv=5, max_iter=10000).fit(X_train, y_train)\n",
    "\n",
    "# After fitting, lasso.alpha_ will give you the best alpha value found\n",
    "print(\"Best alpha value found:\", lasso.alpha_)"
   ]
  },
  {
   "cell_type": "code",
   "execution_count": null,
   "metadata": {},
   "outputs": [],
   "source": [
    "# Predict with the Lasso model\n",
    "predictions = lasso.predict(X_test)\n",
    "\n",
    "# print(predictions)"
   ]
  },
  {
   "cell_type": "code",
   "execution_count": null,
   "metadata": {},
   "outputs": [],
   "source": [
    "# Define a threshold for classification\n",
    "threshold = 0.5 \n",
    "y_pred_lasso = (predictions >= threshold).astype(int)"
   ]
  },
  {
   "cell_type": "code",
   "execution_count": null,
   "metadata": {},
   "outputs": [],
   "source": [
    "# Generate the confusion matrix\n"
   ]
  },
  {
   "cell_type": "code",
   "execution_count": null,
   "metadata": {},
   "outputs": [],
   "source": []
  },
  {
   "cell_type": "markdown",
   "metadata": {},
   "source": [
    "# <div style=\"color:white;display:inline-block;border-radius:5px;background-image: url(https://i.postimg.cc/fyD3nrX4/cardiovas-jcdumlao.png);font-family:Nexa;overflow:hidden\"><p style=\"padding:15px;color:white;overflow:hidden;font-size:95%;letter-spacing:0.5px;margin:0\"><b>ﮩ٨ـ❤️ﮩ٨ـﮩﮩ</b>feature Importance using Lasso</p></div>\n"
   ]
  },
  {
   "cell_type": "code",
   "execution_count": null,
   "metadata": {},
   "outputs": [],
   "source": [
    " # 'lasso' is your fitted LassoCV model and 'X' is your DataFrame of features\n",
    "\n",
    "# Extract all coefficients\n",
    "coefficients = lasso.coef_\n",
    "\n",
    "# Get column names from the DataFrame\n",
    "feature_names = X.columns\n",
    "\n",
    "# Create a Series for the coefficients for easier plotting, including zeros\n",
    "coeff_series_all = pd.Series(coefficients, index=feature_names)\n",
    "\n",
    "# Sort the coefficients for better visualization\n",
    "sorted_coeffs_all = coeff_series_all.sort_values()\n",
    "\n",
    "# Plotting\n",
    "plt.figure(figsize=(10, 6))\n",
    "sorted_coeffs_all.plot(kind='barh')\n",
    "plt.title('Importance of features for heart disease')\n",
    "plt.xlabel('Coefficient Value')\n",
    "plt.ylabel('Features')\n",
    "plt.show()\n"
   ]
  },
  {
   "cell_type": "markdown",
   "metadata": {},
   "source": [
    "# <div style=\"color:white;display:inline-block;border-radius:5px;background-image: url(https://i.postimg.cc/fyD3nrX4/cardiovas-jcdumlao.png);font-family:Nexa;overflow:hidden\"><p style=\"padding:15px;color:white;overflow:hidden;font-size:95%;letter-spacing:0.5px;margin:0\"><b>ﮩ٨ـ❤️ﮩ٨ـﮩﮩ</b>LogisticRegression</p></div>\n"
   ]
  },
  {
   "cell_type": "code",
   "execution_count": null,
   "metadata": {},
   "outputs": [],
   "source": [
    "# Library of logistic regression with cross validation integrated:\n",
    "from sklearn.linear_model import LogisticRegressionCV"
   ]
  },
  {
   "cell_type": "code",
   "execution_count": null,
   "metadata": {},
   "outputs": [],
   "source": [
    "# Initialize and fit the logistic regression model with cross-validation\n",
    "log_reg_cv = LogisticRegressionCV(cv=5, max_iter=10000).fit(X_train, y_train)"
   ]
  },
  {
   "cell_type": "code",
   "execution_count": null,
   "metadata": {},
   "outputs": [],
   "source": [
    "# Predict on the test set\n",
    "y_pred_log = log_reg_cv.predict(X_test)"
   ]
  },
  {
   "cell_type": "code",
   "execution_count": null,
   "metadata": {},
   "outputs": [],
   "source": [
    "# Generate the confusion matrix\n",
    "conf_matrix = confusion_matrix(y_test, y_pred_lasso)\n"
   ]
  },
  {
   "cell_type": "markdown",
   "metadata": {},
   "source": [
    "# <div style=\"color:white;display:inline-block;border-radius:5px;background-image: url(https://i.postimg.cc/fyD3nrX4/cardiovas-jcdumlao.png);font-family:Nexa;overflow:hidden\"><p style=\"padding:15px;color:white;overflow:hidden;font-size:95%;letter-spacing:0.5px;margin:0\"><b>ﮩ٨ـ❤️ﮩ٨ـﮩﮩ</b>Comparing Methods based on accuracy</p></div>"
   ]
  },
  {
   "cell_type": "markdown",
   "metadata": {},
   "source": [
    "## Results :\n",
    "\n",
    "### Question: Based on the above plots, best algorithm base on Score is?\n"
   ]
  },
  {
   "cell_type": "markdown",
   "metadata": {},
   "source": [
    "# <div style=\"color:white;display:inline-block;border-radius:5px;background-image: url(https://i.postimg.cc/fyD3nrX4/cardiovas-jcdumlao.png);font-family:Nexa;overflow:hidden\"><p style=\"padding:15px;color:white;overflow:hidden;font-size:95%;letter-spacing:0.5px;margin:0\"><b>ﮩ٨ـ❤️ﮩ٨ـﮩﮩ</b>Final Modeling</p></div>\n"
   ]
  },
  {
   "cell_type": "code",
   "execution_count": null,
   "metadata": {},
   "outputs": [],
   "source": [
    "from sklearn.metrics import accuracy_score\n",
    "\n",
    "# y_pred_ridge, y_pred_lasso, and y_pred_log are the predictions from Ridge, Lasso, and Logistic Regression models, respectively\n",
    "\n",
    "accuracy_ridge = accuracy_score(y_test, y_pred_ridge)\n",
    "accuracy_lasso = accuracy_score(y_test, y_pred_lasso)\n",
    "accuracy_logistic = accuracy_score(y_test, y_pred_log)"
   ]
  },
  {
   "cell_type": "code",
   "execution_count": null,
   "metadata": {},
   "outputs": [],
   "source": [
    "# Model names\n",
    "models = ['Ridge', 'Lasso', 'Logistic Regression']\n",
    "\n",
    "# Corresponding accuracies\n",
    "accuracies = [accuracy_ridge, accuracy_lasso, accuracy_logistic]\n",
    "\n",
    "plt.figure(figsize=(10, 6))\n",
    "bars = plt.bar(models, accuracies, color=['blue', 'green', 'orange'])\n",
    "\n",
    "# Adding accuracy value on top of each bar\n",
    "for bar in bars:\n",
    "    yval = bar.get_height()\n",
    "    plt.text(bar.get_x() + bar.get_width()/2, yval + 0.01, round(yval, 2), ha='center', va='bottom')\n",
    "\n",
    "plt.title('Model Comparison based on Accuracy')\n",
    "plt.xlabel('Model')\n",
    "plt.ylabel('Accuracy')\n",
    "plt.ylim([0, 1.1])  # Extend y-axis to make room for text\n",
    "plt.show()"
   ]
  },
  {
   "cell_type": "markdown",
   "metadata": {},
   "source": [
    "<div class=\"alert alert-block alert-info\"> \"In the next Lab we will do Kernel Ridge Regression for various kernels. Dataset:yet to be decided.!\" 😊📌</div>"
   ]
  },
  {
   "cell_type": "code",
   "execution_count": null,
   "metadata": {},
   "outputs": [],
   "source": []
  }
 ],
 "metadata": {
  "kaggle": {
   "accelerator": "none",
   "dataSources": [
    {
     "datasetId": 4134888,
     "sourceId": 7159329,
     "sourceType": "datasetVersion"
    }
   ],
   "dockerImageVersionId": 30615,
   "isGpuEnabled": false,
   "isInternetEnabled": true,
   "language": "python",
   "sourceType": "notebook"
  },
  "kernelspec": {
   "display_name": "Python 3 (ipykernel)",
   "language": "python",
   "name": "python3"
  },
  "language_info": {
   "codemirror_mode": {
    "name": "ipython",
    "version": 3
   },
   "file_extension": ".py",
   "mimetype": "text/x-python",
   "name": "python",
   "nbconvert_exporter": "python",
   "pygments_lexer": "ipython3",
   "version": "3.9.18"
  }
 },
 "nbformat": 4,
 "nbformat_minor": 4
}
