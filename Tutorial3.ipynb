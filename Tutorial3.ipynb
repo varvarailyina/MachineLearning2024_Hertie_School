{
 "cells": [
  {
   "cell_type": "markdown",
   "id": "1e455bbf-d581-49cc-bfe8-bdf10730e084",
   "metadata": {},
   "source": [
    "### Ridge Regression:"
   ]
  },
  {
   "cell_type": "markdown",
   "id": "70f20cb8-9d5a-4ebc-8b93-114890d44943",
   "metadata": {},
   "source": [
    "Use scikit-learn to perform Ridge Regression"
   ]
  },
  {
   "cell_type": "markdown",
   "id": "71f7b2ce-9159-44da-9d32-fdcdf4a4d02a",
   "metadata": {},
   "source": [
    "Import Necessary Libraries"
   ]
  },
  {
   "cell_type": "code",
   "execution_count": null,
   "id": "2f657465-c319-4f58-bd12-298f9751915d",
   "metadata": {},
   "outputs": [],
   "source": [
    "import numpy as np\n",
    "import matplotlib.pyplot as plt\n",
    "import pandas as pd\n",
    "from sklearn.linear_model import Ridge\n",
    "from sklearn.metrics import mean_squared_error\n",
    "from sklearn.model_selection import train_test_split\n"
   ]
  },
  {
   "cell_type": "markdown",
   "id": "a3452ea1-e7c8-4015-adf6-2283a88405d0",
   "metadata": {},
   "source": [
    "Load Your Data\n",
    "1. read attributes.csv\n",
    "2. read the data\n",
    "3. drop non predictive variables\n",
    "4. check for ? and replace it with nan\n",
    "   "
   ]
  },
  {
   "cell_type": "code",
   "execution_count": null,
   "id": "4b63c84b-0672-446b-a886-b861f7d713f9",
   "metadata": {},
   "outputs": [],
   "source": [
    "attrib = "
   ]
  },
  {
   "cell_type": "code",
   "execution_count": null,
   "id": "baae369c-c6d5-435d-9f6a-9a3c1d8ef5ce",
   "metadata": {},
   "outputs": [],
   "source": [
    "data = "
   ]
  },
  {
   "cell_type": "code",
   "execution_count": null,
   "id": "ba4ae913-0846-4f54-b305-caafac7e4ca3",
   "metadata": {},
   "outputs": [],
   "source": [
    "data = data.drop"
   ]
  },
  {
   "cell_type": "code",
   "execution_count": null,
   "id": "37af7a4c-1d98-4cde-87d0-9750c5520c73",
   "metadata": {},
   "outputs": [],
   "source": [
    "data = data.replace\n",
    "data.head()"
   ]
  },
  {
   "cell_type": "code",
   "execution_count": null,
   "id": "ab9eeedf-e8b5-4d68-9f9d-cf817ce44c3e",
   "metadata": {},
   "outputs": [],
   "source": [
    "feat_miss = data.columns[data.isnull().any()]\n",
    "\n",
    "print(feat_miss)\n",
    "feat_miss.shape"
   ]
  },
  {
   "cell_type": "markdown",
   "id": "1539809a-f034-44d4-81d3-22ca7c11ce2a",
   "metadata": {},
   "source": [
    "fill missing values:"
   ]
  },
  {
   "cell_type": "code",
   "execution_count": null,
   "id": "d702b8df-aee4-4b0d-bdca-9e7b949a33cd",
   "metadata": {},
   "outputs": [],
   "source": [
    "from sklearn.impute import SimpleImputer"
   ]
  },
  {
   "cell_type": "code",
   "execution_count": null,
   "id": "62f7dc3d-daeb-42c9-ba49-fd76ce353a2c",
   "metadata": {},
   "outputs": [],
   "source": [
    "# Create an instance of SimpleImputer with mean strategy\n",
    "imputer = SimpleImputer\n",
    "\n",
    "# Fit the imputer on the data and transform the column 'OtherPerCap' in one step\n",
    "data['OtherPerCap'] = imputer.fit_transform"
   ]
  },
  {
   "cell_type": "markdown",
   "id": "bc45103d-d672-4fcb-9f70-c5f3b7390dae",
   "metadata": {},
   "source": [
    "The other variables have a lot of missing values. Drop them for now:\n",
    "\n",
    "Now see the shape of the data \n",
    "\n",
    "Also see first 5 columns of your data using the head function."
   ]
  },
  {
   "cell_type": "code",
   "execution_count": null,
   "id": "b5199d00-1e0d-46bc-800f-67f2b075c9a9",
   "metadata": {},
   "outputs": [],
   "source": [
    "data = data.dropna\n"
   ]
  },
  {
   "cell_type": "markdown",
   "id": "766a4918-d665-4a14-900c-96657f764c4e",
   "metadata": {},
   "source": [
    "Read your feature matrix into a variable X using data.iloc and output variable in y:"
   ]
  },
  {
   "cell_type": "code",
   "execution_count": null,
   "id": "21562f8d-93b9-4fa8-83cf-0605684dc579",
   "metadata": {},
   "outputs": [],
   "source": [
    "X = data.iloc #(data)\n",
    "y = data.iloc  #(the attribute/feature to be predicted)"
   ]
  },
  {
   "cell_type": "markdown",
   "id": "21abfeff-15d3-4901-beae-3ea7deb0d64c",
   "metadata": {},
   "source": [
    "Divide your data into train and test using 70 % data for training and 30 % for testing:"
   ]
  },
  {
   "cell_type": "code",
   "execution_count": null,
   "id": "058616a4-806d-468d-a0e1-2e038eab0227",
   "metadata": {},
   "outputs": [],
   "source": [
    "seed = 0\n",
    "\n",
    "X_train, X_test, y_train, y_test = train_test_split\n",
    "print(X.shape)\n",
    "print(y.shape)"
   ]
  },
  {
   "cell_type": "markdown",
   "id": "aabe02f8-3cfb-4e64-bae2-3b18cf295614",
   "metadata": {},
   "source": [
    "Standardize features by removing the mean and scaling to unit variance"
   ]
  },
  {
   "cell_type": "code",
   "execution_count": null,
   "id": "a616d77e-9239-43ae-9c13-d77d9d73044a",
   "metadata": {},
   "outputs": [],
   "source": [
    "from sklearn.preprocessing import StandardScaler\n",
    "sc = StandardScaler()\n",
    "X_train = sc.fit_transform\n",
    "X_test = sc.transform\n",
    "print(X_train)\n",
    "print(X_test)"
   ]
  },
  {
   "cell_type": "markdown",
   "id": "59a05ab7-a2d1-43da-87a1-c64f2752e540",
   "metadata": {},
   "source": [
    " Split your training data further into training(80 %) and validation sets(20%)"
   ]
  },
  {
   "cell_type": "code",
   "execution_count": null,
   "id": "3568e347-7c3f-44a2-8a2a-9cd0e38b7872",
   "metadata": {},
   "outputs": [],
   "source": [
    "\n",
    "X_train_1, X_val, y_train_1, y_val = train_test_split"
   ]
  },
  {
   "cell_type": "markdown",
   "id": "7ec599c4-46b0-485a-93fc-11adcd5359cb",
   "metadata": {},
   "source": [
    "Define a Range of Alpha Values\n",
    "\n",
    "In scikit learn, the lambda of ridge regression is referred to as alpha.\n"
   ]
  },
  {
   "cell_type": "code",
   "execution_count": null,
   "id": "9e3ee7de-805b-4288-b80f-7da9b5f8944d",
   "metadata": {},
   "outputs": [],
   "source": [
    "alphas = np.logspace(-4, 4, 100)\n"
   ]
  },
  {
   "cell_type": "markdown",
   "id": "5d40bdc4-6db9-41c3-aac1-3220cf041bba",
   "metadata": {},
   "source": [
    "Initialize Lists to Store Results"
   ]
  },
  {
   "cell_type": "code",
   "execution_count": null,
   "id": "12aaea3f-8526-405d-8dfa-24d7f8f7fc76",
   "metadata": {},
   "outputs": [],
   "source": [
    "alpha_values = []\n",
    "mse_values = []\n"
   ]
  },
  {
   "cell_type": "markdown",
   "id": "6fee2e12-d328-47a5-9790-130a426d7cce",
   "metadata": {},
   "source": [
    "Loop Over Alpha Values, Fit the Model, and Record MSE\n",
    "\n",
    "For each alpha value, fit a Ridge Regression model and evaluate its performance on the validation set."
   ]
  },
  {
   "cell_type": "code",
   "execution_count": null,
   "id": "d388cdfc-636b-4ca8-bb70-fc284c153ce7",
   "metadata": {},
   "outputs": [],
   "source": [
    "for alpha in alphas:\n",
    "    model = Ridge(alpha=alpha)\n",
    "    model.fit(X_train_1, y_train_1)  # Train the model\n",
    "    y_pred = model.predict(X_val)  # Predict on validation set\n",
    "    mse = mean_squared_error(y_val, y_pred)  # Calculate MSE\n",
    "    \n",
    "    alpha_values.append(alpha)  # Store alpha\n",
    "    mse_values.append(mse)  # Store MSE\n"
   ]
  },
  {
   "cell_type": "markdown",
   "id": "9f629a8c-d358-494a-b101-b3ddad9267e0",
   "metadata": {},
   "source": [
    "Identify the Best Alpha and Its Corresponding MSE"
   ]
  },
  {
   "cell_type": "markdown",
   "id": "ce53235c-87b5-4649-946e-88686e79e295",
   "metadata": {},
   "source": [
    "Find the alpha value that results in the lowest MSE."
   ]
  },
  {
   "cell_type": "markdown",
   "id": "eb2cadb1-98c3-439f-9009-14abe5ff717e",
   "metadata": {},
   "source": [
    "The np.argmin function in NumPy is used to find the index of the minimum value in an array. When you use np.argmin(mse_values), it returns the index of the smallest value in the mse_values array."
   ]
  },
  {
   "cell_type": "code",
   "execution_count": null,
   "id": "27cfe5d2-f6ba-417a-a7c8-c81f7cc879c0",
   "metadata": {},
   "outputs": [],
   "source": [
    "best_alpha = alpha_values[np.argmin(mse_values)]\n",
    "best_mse = min(mse_values)\n",
    "print(f\"Best Alpha: {best_alpha}\")\n",
    "print(f\"Lowest MSE: {best_mse}\")\n"
   ]
  },
  {
   "cell_type": "markdown",
   "id": "dce08fa8-95d9-4556-a88d-05e581086cc6",
   "metadata": {},
   "source": [
    "Plot MSE vs. Alpha\n",
    "Create a plot to visualize how MSE changes with different alpha values."
   ]
  },
  {
   "cell_type": "code",
   "execution_count": null,
   "id": "d0793ad8-6dd4-4094-a16d-db27b6157e71",
   "metadata": {},
   "outputs": [],
   "source": [
    "plt.figure(figsize=(10, 6))\n",
    "plt.semilogx(alpha_values, mse_values, marker='o', linestyle='-', color='b')\n",
    "plt.xlabel('Alpha')\n",
    "plt.ylabel('Mean Squared Error (MSE)')\n",
    "plt.title('MSE vs. Alpha for Ridge Regression')\n",
    "plt.grid(True)\n",
    "plt.show()\n"
   ]
  },
  {
   "cell_type": "markdown",
   "id": "27b843d3-b419-4c77-832d-5d819d2e6db7",
   "metadata": {},
   "source": [
    "To calculate the final Mean Squared Error (MSE) on the test set using the best alpha value identified from the validation set, we follow the steps ahead. This will give us an estimate of how well your Ridge Regression model is expected to perform on unseen data."
   ]
  },
  {
   "cell_type": "markdown",
   "id": "cf49a203-a4a8-4207-baf6-d3b890b64466",
   "metadata": {},
   "source": [
    "Combine Training and Validation Sets\n",
    "For the final model, you'll use both the training and validation data to train it, maximizing the amount of data the model can learn from."
   ]
  },
  {
   "cell_type": "markdown",
   "id": "58409950-9359-480b-b295-74370f8d3007",
   "metadata": {},
   "source": [
    "X_train_1 and X_val are two arrays that are stacked vertically to form a new array X_train_val. This means that if X_train_1 has a shape of (m, n) and X_val has a shape of (k, n), the resulting array X_train_val will have a shape of (m+k, n), effectively combining the rows of both arrays into one."
   ]
  },
  {
   "cell_type": "markdown",
   "id": "aaab5d5e-3d8a-4fdd-b25d-90db7605fa6d",
   "metadata": {},
   "source": [
    "y_train_1 and y_val are one-dimensional arrays (labels or targets for a machine learning model), and np.concatenate is used to join them end-to-end into a single one-dimensional array y_train_val. If y_train_1 has a shape of (m,) and y_val has a shape of (k,), then y_train_val will have a shape of (m+k,)."
   ]
  },
  {
   "cell_type": "code",
   "execution_count": null,
   "id": "e9b776ee-4103-468b-a1cd-450c0d5f44cc",
   "metadata": {},
   "outputs": [],
   "source": [
    "# Combine the training and validation sets\n",
    "X_train_val = np.vstack((X_train_1, X_val))\n",
    "y_train_val = np.concatenate((y_train_1, y_val))\n"
   ]
  },
  {
   "cell_type": "markdown",
   "id": "0475f607-5333-4b63-a8e2-358e5a9bac98",
   "metadata": {},
   "source": [
    "Train the Final Model on the Combined Data\n",
    "Using the best alpha value found, train the Ridge Regression model on the combined training and validation data."
   ]
  },
  {
   "cell_type": "code",
   "execution_count": null,
   "id": "1b5dc160-cf26-42d5-849d-1bf0ac725bc1",
   "metadata": {},
   "outputs": [],
   "source": [
    "final_model = Ridge(alpha=best_alpha)\n",
    "final_model.fit(X_train_val, y_train_val)\n"
   ]
  },
  {
   "cell_type": "markdown",
   "id": "5ca9a996-ecd4-4231-82e7-79bb79b5d680",
   "metadata": {},
   "source": [
    "Make Predictions on the Test Set and Calculate MSE.\n",
    "\n",
    "Finally, predict on the test set using the final model and calculate the Mean Squared Error."
   ]
  },
  {
   "cell_type": "code",
   "execution_count": null,
   "id": "e899e863-7ffc-4e53-a61e-41018e17e059",
   "metadata": {},
   "outputs": [],
   "source": [
    "y_test_pred = final_model.predict(X_test)  # Predict on the test set\n",
    "final_test_mse = mean_squared_error(y_test, y_test_pred)  # Calculate MSE on the test set\n",
    "print(f\"Final Test MSE: {final_test_mse}\")\n"
   ]
  },
  {
   "cell_type": "markdown",
   "id": "f6ae12e4-73b5-4fbb-9f14-07254774ed63",
   "metadata": {},
   "source": [
    "### Lasso Regression:"
   ]
  },
  {
   "cell_type": "code",
   "execution_count": null,
   "id": "7ba5200a-eae6-4949-b4fc-fecbdd8def48",
   "metadata": {},
   "outputs": [],
   "source": [
    "from sklearn.linear_model import Lasso"
   ]
  },
  {
   "cell_type": "markdown",
   "id": "3e9e148b-a3be-4156-91fc-f3e4d064ac46",
   "metadata": {},
   "source": [
    "Define a Range of Alpha Values\n",
    "Choose a range of alpha values to test. "
   ]
  },
  {
   "cell_type": "code",
   "execution_count": null,
   "id": "97bcc44f-07b0-466d-9cca-7b77470ec66a",
   "metadata": {},
   "outputs": [],
   "source": [
    "#Define alpha as ridge\n",
    "alphas = \n"
   ]
  },
  {
   "cell_type": "markdown",
   "id": "071f5151-c135-49c0-9ce0-296722382549",
   "metadata": {},
   "source": [
    "Loop Over Alpha Values and Store Results\n",
    "\n",
    "Initialize lists to store alpha values and their corresponding MSEs. Then, loop over the alpha values, fit a Lasso model for each, and evaluate its performance on the validation set."
   ]
  },
  {
   "cell_type": "code",
   "execution_count": null,
   "id": "0b96e0b7-1c61-4a56-a651-c421ee151390",
   "metadata": {},
   "outputs": [],
   "source": [
    "alpha_values = []\n",
    "mse_values = []\n",
    "best_alpha = None\n",
    "lowest_mse = np.inf\n",
    "\n",
    "for alpha in alphas:\n",
    "    model = Lasso(alpha=alpha)\n",
    "    model.fit(X_train_1, y_train_1)\n",
    "    y_pred = \n",
    "    mse = \n",
    "    \n",
    "    alpha_values.append(alpha)\n",
    "    mse_values.append(mse)\n",
    "    \n",
    "    if mse < lowest_mse:\n",
    "        best_alpha = alpha\n",
    "        lowest_mse = mse\n"
   ]
  },
  {
   "cell_type": "markdown",
   "id": "6fc71575-7624-4ac8-aa6d-4668faef2212",
   "metadata": {},
   "source": [
    "Plot MSE vs. Alpha\n",
    "\n",
    "Visualize how the Mean Squared Error changes with different alpha values."
   ]
  },
  {
   "cell_type": "code",
   "execution_count": null,
   "id": "3ab6d5ac-27ff-452b-a6e4-0568bc9a89f8",
   "metadata": {},
   "outputs": [],
   "source": [
    "## use the commands to plot for ridge"
   ]
  },
  {
   "cell_type": "markdown",
   "id": "2a616252-f53c-44e3-8b86-ad808acddf56",
   "metadata": {},
   "source": [
    "Print the Best Alpha and Its MSE\n",
    "Output the best alpha value found and its corresponding lowest MSE."
   ]
  },
  {
   "cell_type": "code",
   "execution_count": null,
   "id": "d8316f72-7848-43eb-b009-d4335f642127",
   "metadata": {},
   "outputs": [],
   "source": [
    "print(f\"Best Alpha: \n",
    "print(f\"Lowest MSE: \n"
   ]
  },
  {
   "cell_type": "markdown",
   "id": "2b72f273-5728-444c-9fa5-7c628935483d",
   "metadata": {},
   "source": [
    "Lasso model can lead to sparse solutions by setting some coefficients to zero. This approach is useful for feature selection in addition to regularization."
   ]
  },
  {
   "cell_type": "markdown",
   "id": "1b7f9dd1-20ef-4eeb-9f15-f78e5d55ce4f",
   "metadata": {},
   "source": [
    " Combine the training and validation sets for the final model training"
   ]
  },
  {
   "cell_type": "code",
   "execution_count": null,
   "id": "e22042bb-0f41-4ba6-adfe-7979fd17a46d",
   "metadata": {},
   "outputs": [],
   "source": [
    "\n",
    "X_train_val = np.vstack\n",
    "y_train_val = np.concatenate\n"
   ]
  },
  {
   "cell_type": "markdown",
   "id": "d1d1789f-6c65-4499-8f5e-822e39673481",
   "metadata": {},
   "source": [
    "Initialize the Lasso model with the best alpha value\n"
   ]
  },
  {
   "cell_type": "code",
   "execution_count": null,
   "id": "ce9faf50-8afc-4029-9eac-3b776bd33bfc",
   "metadata": {},
   "outputs": [],
   "source": [
    "final_lasso_model = Lasso"
   ]
  },
  {
   "cell_type": "markdown",
   "id": "722c419f-bcff-4f50-a27c-bc13b51bad94",
   "metadata": {},
   "source": [
    "Fit the model on the combined training and validation data\n"
   ]
  },
  {
   "cell_type": "code",
   "execution_count": null,
   "id": "b118d7d2-fa92-4740-83ab-1f5d5320ef6e",
   "metadata": {},
   "outputs": [],
   "source": [
    "final_lasso_model.fit"
   ]
  },
  {
   "cell_type": "markdown",
   "id": "b146b969-62ed-4c46-aae0-c47d43e79223",
   "metadata": {},
   "source": [
    " Make predictions on the test set\n"
   ]
  },
  {
   "cell_type": "code",
   "execution_count": null,
   "id": "843b6d44-c32a-4555-a620-aba470d69e33",
   "metadata": {},
   "outputs": [],
   "source": [
    "y_test_pred = final_lasso_model.predict"
   ]
  },
  {
   "cell_type": "markdown",
   "id": "11c78746-cce6-42cc-a781-d85befc04717",
   "metadata": {},
   "source": [
    "Calculate the Mean Squared Error on the test set\n"
   ]
  },
  {
   "cell_type": "code",
   "execution_count": null,
   "id": "e61dc46c-6a1c-4f08-9285-49d681b98919",
   "metadata": {},
   "outputs": [],
   "source": [
    "final_test_mse = mean_squared_error"
   ]
  },
  {
   "cell_type": "code",
   "execution_count": null,
   "id": "54d4d6ea-6e19-4ca2-8c8e-51fc35c74925",
   "metadata": {},
   "outputs": [],
   "source": [
    "# Print the final test MSE\n",
    "print(f\"Final Test MSE for Lasso: \n",
    "print(f\"Final Test MSE for Ridge: \n",
    "\n"
   ]
  }
 ],
 "metadata": {
  "kernelspec": {
   "display_name": "Python 3 (ipykernel)",
   "language": "python",
   "name": "python3"
  },
  "language_info": {
   "codemirror_mode": {
    "name": "ipython",
    "version": 3
   },
   "file_extension": ".py",
   "mimetype": "text/x-python",
   "name": "python",
   "nbconvert_exporter": "python",
   "pygments_lexer": "ipython3",
   "version": "3.9.18"
  }
 },
 "nbformat": 4,
 "nbformat_minor": 5
}
