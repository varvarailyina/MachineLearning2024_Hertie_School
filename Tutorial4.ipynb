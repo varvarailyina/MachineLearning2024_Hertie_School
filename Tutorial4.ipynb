{
 "cells": [
  {
   "cell_type": "markdown",
   "metadata": {},
   "source": [
    "\n",
    "![image](https://storage.googleapis.com/kaggle-datasets-images/4134888/7159329/8685cd8fb7c162e34269921f17687cbe/dataset-cover.jpeg?t=2023-12-09-07-27-45)\n"
   ]
  },
  {
   "cell_type": "markdown",
   "metadata": {},
   "source": [
    "# <div style=\"color:white;display:inline-block;border-radius:5px;background-image: url(https://i.postimg.cc/fyD3nrX4/cardiovas-jcdumlao.png);font-family:Nexa;overflow:hidden\"><p style=\"padding:15px;color:white;overflow:hidden;font-size:95%;letter-spacing:0.5px;margin:0\"><b>ﮩ٨ـ❤️ﮩ٨ـﮩﮩ</b>Introduction</p></div>\n",
    "\n",
    "This heart disease dataset, sourced from a reputable multispecialty hospital in India, comprises a rich array of information encompassing 14 common features, making it a valuable resource for cardiovascular research. With a cohort of 1000 subjects and 12 distinct features, this dataset serves as a pivotal tool for developing early-stage heart disease detection methods and constructing predictive machine-learning models. Its diverse and comprehensive nature positions it as a significant asset in advancing research endeavors aimed at understanding and mitigating cardiovascular risks."
   ]
  },
  {
   "cell_type": "markdown",
   "metadata": {},
   "source": [
    "<h2 style='border:0; border-radius: 15px; font-weight: 150; color:#9b006e; font-size:250%'><center> Cardiovascular Disease Dataset Description\n",
    "</center></h2>\n",
    "\n",
    "|S.No|Attribute|Explain|Unit|Type of Data|\n",
    "|----|---------|-------|----|------------|\n",
    "|1|**Patient Identification Number**|patientid|Numeric|Number|\n",
    "|2|**Age**|age|Numeric|In Years|\n",
    "|3|**Gender**|gender|Binary|0 (female) / 1 (male)|\n",
    "|4|**Resting blood pressure**|restingBP|Numeric|94-200 (in mm HG)|\n",
    "|5|**Serum cholesterol**|serumcholestrol|Numeric|126-564 (in mg/dl)|\n",
    "|6|**Fasting blood sugar**|fastingbloodsugar|Binary|0 (false) / 1 (true) > 120 mg/dl|\n",
    "|7|**Chest pain type**|chestpain|Nominal|0 (typical angina), 1 (atypical angina), 2 (non-anginal pain), 3 (asymptomatic)|\n",
    "|8|**Resting electrocardiogram results**|restingelectro|Nominal|0 (normal), 1 (ST-T wave abnormality), 2 (probable or definite left ventricular hypertrophy)|\n",
    "|9|**Maximum heart rate achieved**|maxheartrate|Numeric|71-202|\n",
    "|10|**Exercise induced angina**|exerciseangina|Binary|0 (no) / 1 (yes)|\n",
    "|11|**Oldpeak = ST**|oldpeak|Numeric|0-6.2|\n",
    "|12|**Slope of the peak exercise ST segment**|slope|Nominal|1 (upsloping), 2 (flat), 3 (downsloping)|\n",
    "|13|**Number of major vessels**|noofmajorvessels|Numeric|0, 1, 2, 3|\n",
    "|14|**Classification (target)**|target|Binary|0 (Absence of Heart Disease), 1 (Presence of Heart Disease)|\n"
   ]
  },
  {
   "cell_type": "markdown",
   "metadata": {},
   "source": [
    "# <div style=\"color:white;display:inline-block;border-radius:5px;background-image: url(https://i.postimg.cc/fyD3nrX4/cardiovas-jcdumlao.png);font-family:Nexa;overflow:hidden\"><p style=\"padding:15px;color:white;overflow:hidden;font-size:95%;letter-spacing:0.5px;margin:0\"><b>ﮩ٨ـ❤️ﮩ٨ـﮩﮩ</b>Import Modules</p></div>\n"
   ]
  },
  {
   "cell_type": "code",
   "execution_count": null,
   "metadata": {},
   "outputs": [],
   "source": [
    "# pip install termcolor\n",
    "#"
   ]
  },
  {
   "cell_type": "markdown",
   "metadata": {},
   "source": [
    "\n",
    "The termcolor module is a Python library that allows developers to add color to text in the terminal. It provides a simple way to make command-line output more visually appealing and easier to read by adding color to text, which can be particularly useful for highlighting, distinguishing, or categorizing output."
   ]
  },
  {
   "cell_type": "code",
   "execution_count": null,
   "metadata": {},
   "outputs": [],
   "source": [
    "import pandas as pd\n",
    "import numpy as np\n",
    "import seaborn as sns\n",
    "import matplotlib.pyplot as plt\n",
    "from termcolor import colored\n",
    "from sklearn.preprocessing import StandardScaler\n",
    "from sklearn.model_selection import train_test_split, GridSearchCV, cross_val_score, KFold\n",
    "from sklearn import metrics\n",
    "# from sklearn.linear_model import LogisticRegression\n",
    "# from sklearn.svm import SVC\n",
    "\n",
    "\n",
    "\n",
    "print(colored('\\nAll libraries imported succesfully.', 'blue'))"
   ]
  },
  {
   "cell_type": "markdown",
   "metadata": {},
   "source": [
    "# <div style=\"color:white;display:inline-block;border-radius:5px;background-image: url(https://i.postimg.cc/fyD3nrX4/cardiovas-jcdumlao.png);font-family:Nexa;overflow:hidden\"><p style=\"padding:15px;color:white;overflow:hidden;font-size:95%;letter-spacing:0.5px;margin:0\"><b>ﮩ٨ـ❤️ﮩ٨ـﮩﮩ</b>Load the Data</p></div>\n"
   ]
  },
  {
   "cell_type": "code",
   "execution_count": null,
   "metadata": {},
   "outputs": [],
   "source": [
    "df = pd.read_csv('Cardiovascular_Disease_Dataset/Cardiovascular_Disease_Dataset.csv')\n",
    "df.head()"
   ]
  },
  {
   "cell_type": "markdown",
   "metadata": {},
   "source": [
    "Check the shape of the dataframe:\n",
    "\n",
    "shape_of_dataframe : df.shape\n",
    "\n",
    "print(\"No. of samples:\")\n",
    "print(\"No. of columns:\")\n",
    "\n",
    "df.info()\n"
   ]
  },
  {
   "cell_type": "markdown",
   "metadata": {},
   "source": [
    "# <div style=\"color:white;display:inline-block;border-radius:5px;background-image: url(https://i.postimg.cc/fyD3nrX4/cardiovas-jcdumlao.png);font-family:Nexa;overflow:hidden\"><p style=\"padding:15px;color:white;overflow:hidden;font-size:95%;letter-spacing:0.5px;margin:0\"><b>ﮩ٨ـ❤️ﮩ٨ـﮩﮩ</b>Data Information</p></div>"
   ]
  },
  {
   "cell_type": "markdown",
   "metadata": {},
   "source": [
    "## Check Summary Statistics:\n",
    "\n",
    "use df.describe()"
   ]
  },
  {
   "cell_type": "markdown",
   "metadata": {},
   "source": [
    "# <div style=\"color:white;display:inline-block;border-radius:5px;background-image: url(https://i.postimg.cc/fyD3nrX4/cardiovas-jcdumlao.png);font-family:Nexa;overflow:hidden\"><p style=\"padding:15px;color:white;overflow:hidden;font-size:95%;letter-spacing:0.5px;margin:0\">ﮩ٨ـ❤️ﮩ٨ـﮩﮩ<b> </b>Data Preprocessning</p></div>"
   ]
  },
  {
   "cell_type": "markdown",
   "metadata": {},
   "source": [
    "## Handling Missing Values\n",
    "\n",
    "**Use df.isna().sum()**:\n",
    "\n",
    "Step 1: Identifying Missing Values with df.isna()\n",
    "When you call df.isna() on a pandas DataFrame, it returns a new DataFrame of the same shape as df, where each cell is either True or False. A True value indicates that the corresponding cell in the original DataFrame contains a missing value (NaN or None), while False indicates that the cell contains a non-missing value.\n",
    "\n",
    "Step 2: Summing Up Missing Values with .sum()\n",
    "After identifying the missing values, the .sum() method is used to count them. Here's how it works:\n",
    "\n",
    "The .sum() method, by default, operates along the columns of a DataFrame, which means it aggregates data vertically down the rows for each column.\n",
    "When .sum() is applied to a DataFrame of boolean values (True or False), pandas internally treats True as 1 and False as 0.\n",
    "Therefore, for each column, .sum() adds up the 1s (i.e., the True values), effectively counting the number of missing values in that column."
   ]
  },
  {
   "cell_type": "code",
   "execution_count": null,
   "metadata": {},
   "outputs": [],
   "source": [
    "df.isna().sum()"
   ]
  },
  {
   "cell_type": "code",
   "execution_count": null,
   "metadata": {},
   "outputs": [],
   "source": [
    "df.columns"
   ]
  },
  {
   "cell_type": "markdown",
   "metadata": {},
   "source": [
    "# <div style=\"color:white;display:inline-block;border-radius:5px;background-image: url(https://i.postimg.cc/fyD3nrX4/cardiovas-jcdumlao.png);font-family:Nexa;overflow:hidden\"><p style=\"padding:15px;color:white;overflow:hidden;font-size:95%;letter-spacing:0.5px;margin:0\"><b>ﮩ٨ـ❤️ﮩ٨ـﮩﮩ</b>Exploratory Data Analysis (EDA)📊</p></div>\n"
   ]
  },
  {
   "cell_type": "markdown",
   "metadata": {},
   "source": [
    "<div style=\"border-radius: 10px; border: 2px solid #FFD700; padding: 15px; background-color:#FDF5E6; font-size: 100%; text-align: left;\">\n",
    "    \n",
    "<font size=\"+1\" color=\"#059c99\"><b>💞 1.What is the age range of patients in the dataset?</b></font>\n",
    "\n",
    "**Answer: Age Range: 20 - 80**\n",
    "\n",
    "**Explanation: The age range is determined by finding the minimum and maximum age values in the dataset. In this case, patients' ages range from 20 to 80 years.**"
   ]
  },
  {
   "cell_type": "code",
   "execution_count": null,
   "metadata": {},
   "outputs": [],
   "source": [
    "age_range = f\"Age Range: {df['age'].min()} - {df['age'].max()}\"\n",
    "print(age_range)\n"
   ]
  },
  {
   "cell_type": "markdown",
   "metadata": {},
   "source": [
    "<div style=\"border-radius: 10px; border: 2px solid #FFD700; padding: 15px; background-color:#FDF5E6; font-size: 100%; text-align: left;\">\n",
    "    \n",
    "<font size=\"+1\" color=\"#059c99\"><b>💞 2. How many males and females are represented in the dataset?</b></font>\n",
    "\n",
    "**Answer: Female: 0, Male: 1**\n",
    "\n",
    "\n"
   ]
  },
  {
   "cell_type": "code",
   "execution_count": null,
   "metadata": {},
   "outputs": [],
   "source": [
    "gender_count = df['gender'].value_counts()\n",
    "print(\"Number of males:\", gender_count[1])\n",
    "print(\"Number of females:\", gender_count[0])\n"
   ]
  },
  {
   "cell_type": "markdown",
   "metadata": {},
   "source": [
    "<div style=\"border-radius: 10px; border: 2px solid #FFD700; padding: 15px; background-color:#FDF5E6; font-size: 100%; text-align: left;\">\n",
    "    \n",
    "<font size=\"+1\" color=\"#059c99\"><b>💞 3. What is the most common type of chest pain observed in the patients?</b></font>\n",
    "\n",
    "chestpain --> 0 (typical angina), 1 (atypical angina), 2 (non-anginal pain), 3 (asymptomatic)\n",
    "\n",
    "**Answer**: \n",
    "\n",
    "**Explanation**: \n"
   ]
  },
  {
   "cell_type": "code",
   "execution_count": null,
   "metadata": {},
   "outputs": [],
   "source": [
    "chest_pain_counts = df['chestpain'].value_counts()\n",
    "print(chest_pain_counts)"
   ]
  },
  {
   "cell_type": "code",
   "execution_count": null,
   "metadata": {},
   "outputs": [],
   "source": [
    "# Visualization:\n",
    "plt.figure(figsize=(10, 6))\n",
    "sns.barplot(x=chest_pain_counts.index, y=chest_pain_counts.values, palette='viridis')\n",
    "plt.title('Counts of Chest Pain Types')\n",
    "plt.xlabel('Chest Pain Type')\n",
    "plt.ylabel('Counts')\n",
    "plt.show()"
   ]
  },
  {
   "cell_type": "markdown",
   "metadata": {},
   "source": [
    "<div style=\"border-radius: 10px; border: 2px solid #FFD700; padding: 15px; background-color:#FDF5E6; font-size: 100%; text-align: left;\">\n",
    "    \n",
    "<font size=\"+1\" color=\"#059c99\"><b>💞 4. What is the average resting blood pressure among the patients?</b></font>\n",
    "\n",
    "**Answer: Average Resting Blood Pressure: 151.75 mm Hg**\n",
    "\n",
    "**Explanation: The average resting blood pressure is calculated by taking the mean of the values in the 'restingBP' column.**\n"
   ]
  },
  {
   "cell_type": "code",
   "execution_count": null,
   "metadata": {},
   "outputs": [],
   "source": [
    "average_resting_bp = df['restingBP'].mean()\n",
    "print(f\"Average Resting Blood Pressure: {average_resting_bp:.2f} mm Hg\")\n"
   ]
  },
  {
   "cell_type": "markdown",
   "metadata": {},
   "source": [
    "## Distribution of resting blood pressure:"
   ]
  },
  {
   "cell_type": "code",
   "execution_count": null,
   "metadata": {},
   "outputs": [],
   "source": [
    "sns.histplot(df['restingBP'], color='mediumseagreen') \n",
    "plt.title('Distribution of Resting Blood Pressure')\n",
    "plt.show()"
   ]
  },
  {
   "cell_type": "markdown",
   "metadata": {},
   "source": [
    "<div style=\"border-radius: 10px; border: 2px solid #FFD700; padding: 15px; background-color:#FDF5E6; font-size: 100%; text-align: left;\">\n",
    "    \n",
    "<font size=\"+1\" color=\"#059c99\"><b>💞 5. How does serum cholesterol vary across different patients?</b></font>\n",
    "\n",
    "**Explanation: Serum cholesterol distribution is visualized using a boxplot, providing insights into the spread and central tendency of cholesterol levels among patients.**\n"
   ]
  },
  {
   "cell_type": "markdown",
   "metadata": {},
   "source": [
    "## Box Plots"
   ]
  },
  {
   "cell_type": "code",
   "execution_count": null,
   "metadata": {},
   "outputs": [],
   "source": [
    "plt.figure(figsize=(10, 6))\n",
    "sns.boxplot(x='serumcholestrol', data=df, color='royalblue')\n",
    "plt.title('Distribution of Serum Cholesterol')\n",
    "plt.xlabel('Serum Cholesterol')\n",
    "plt.show()\n",
    "\n"
   ]
  },
  {
   "cell_type": "markdown",
   "metadata": {},
   "source": [
    "## Annotating the Box Plot"
   ]
  },
  {
   "cell_type": "markdown",
   "metadata": {},
   "source": [
    "plt.text(x, y, text) adds text at position x, y. Here, x is the median value, and y is arbitrarily set to 0.1 to position the text on the plot. The text displays the median value, formatted to two decimal places.\n",
    "\n",
    "ha='center' and va='center' set the horizontal and vertical alignment of the text, respectively.\n",
    "\n",
    "fontweight='bold', color='white', and backgroundcolor='green' style the text, making it bold with white letters on a green background."
   ]
  },
  {
   "cell_type": "code",
   "execution_count": null,
   "metadata": {},
   "outputs": [],
   "source": [
    "\n",
    "# To clearly show medians, quartiles, and outliers, let's annotate the boxplot with these statistics.\n",
    "serumcholestrol_data=df['serumcholestrol']\n",
    "# Recreating the boxplot for serum cholesterol data\n",
    "plt.figure(figsize=(12, 8))\n",
    "boxplot = sns.boxplot(x=serumcholestrol_data, color='royalblue')\n",
    "\n",
    "# Calculating statistics for annotations\n",
    "median = np.median(serumcholestrol_data)\n",
    "quartile1 = np.percentile(serumcholestrol_data, 25)\n",
    "quartile3 = np.percentile(serumcholestrol_data, 75)\n",
    "iqr = quartile3 - quartile1  # Interquartile range\n",
    "upper_whisker = quartile3 + 1.5 * iqr\n",
    "lower_whisker = quartile1 - 1.5 * iqr\n",
    "\n",
    "# Annotating the median\n",
    "plt.text(median, 0.1, f'Median: {median:.2f}', ha='center', va='center', fontweight='bold', color='white', backgroundcolor='green')\n",
    "\n",
    "# Annotating the quartiles\n",
    "plt.text(quartile1, 0.2, f'Q1: {quartile1:.2f}', ha='center', va='center', fontweight='bold', color='white', backgroundcolor='blue')\n",
    "plt.text(quartile3, 0.2, f'Q3: {quartile3:.2f}', ha='center', va='center', fontweight='bold', color='white', backgroundcolor='blue')\n",
    "\n",
    "# Annotating the whiskers\n",
    "plt.text(upper_whisker, 0.1, f'Upper Whisker: {upper_whisker:.2f}', ha='center', va='center', fontweight='bold', color='white', backgroundcolor='red')\n",
    "plt.text(lower_whisker, 0.1, f'Lower Whisker: {lower_whisker:.2f}', ha='center', va='center', fontweight='bold', color='white', backgroundcolor='red')\n",
    "\n",
    "plt.title('Annotated Distribution of Serum Cholesterol')\n",
    "plt.xlabel('Serum Cholesterol')\n",
    "plt.show()"
   ]
  },
  {
   "cell_type": "code",
   "execution_count": null,
   "metadata": {},
   "outputs": [],
   "source": []
  },
  {
   "cell_type": "markdown",
   "metadata": {},
   "source": [
    "<div style=\"border-radius: 10px; border: 2px solid #FFD700; padding: 15px; background-color:#FDF5E6; font-size: 100%; text-align: left;\">\n",
    "    \n",
    "<font size=\"+1\" color=\"#059c99\"><b>💞 6. What percentage of patients have fasting blood sugar greater than 120 mg/dl? </b></font>\n",
    "\n",
    "**Answer: Percentage of patients with fasting blood sugar > 120 mg/dl: 29.60%**\n",
    "\n",
    "**Explanation: The percentage is calculated by dividing the number of patients with fasting blood sugar greater than 120 mg/dl by the total number of patients.**\n"
   ]
  },
  {
   "cell_type": "code",
   "execution_count": null,
   "metadata": {},
   "outputs": [],
   "source": [
    "percentage_high_fasting_sugar = (df['fastingbloodsugar'].sum() / len(df)) * 100\n",
    "print(f\"Percentage of patients with fasting blood sugar > 120 mg/dl: {percentage_high_fasting_sugar:.2f}%\")\n"
   ]
  },
  {
   "cell_type": "markdown",
   "metadata": {},
   "source": [
    "<div style=\"border-radius: 10px; border: 2px solid #FFD700; padding: 15px; background-color:#FDF5E6; font-size: 100%; text-align: left;\">\n",
    "    \n",
    "<font size=\"+1\" color=\"#059c99\"><b>💞 8. What is the average maximum heart rate achieved by the patients on average?</b></font>\n",
    "\n",
    "**Answer: Average Maximum Heart Rate: 145.48**\n",
    "\n",
    "**Explanation: The average maximum heart rate is calculated by taking the mean of values in the 'maxheartrate' column.**\n"
   ]
  },
  {
   "cell_type": "markdown",
   "metadata": {},
   "source": [
    "<div style=\"border-radius: 10px; border: 2px solid #FFD700; padding: 15px; background-color:#FDF5E6; font-size: 100%; text-align: left;\">\n",
    "    \n",
    "<font size=\"+1\" color=\"#059c99\"><b>💞 9. How many patients experienced exercise-induced angina?</b></font>\n",
    "\n",
    "**Answer: Number of Patients with Exercise-Induced Angina: 498**\n",
    "\n",
    "**Explanation: The count of patients with exercise-induced angina is obtained from the 'exerciseangia' column using df['exerciseangia'].sum().**\n"
   ]
  },
  {
   "cell_type": "markdown",
   "metadata": {},
   "source": [
    "<div style=\"border-radius: 10px; border: 2px solid #FFD700; padding: 15px; background-color:#FDF5E6; font-size: 100%; text-align: left;\">\n",
    "    \n",
    "<font size=\"+1\" color=\"#059c99\"><b>💞 10. What is the average oldpeak (ST depression induced by exercise relative to rest) among the patients?</b></font>\n",
    "\n",
    "**Answer: Average Oldpeak: 2.71**\n",
    "\n",
    "**Explanation: The average oldpeak is calculated by taking the mean of values in the 'oldpeak' column.**"
   ]
  },
  {
   "cell_type": "markdown",
   "metadata": {},
   "source": [
    "<div style=\"border-radius: 10px; border: 2px solid #FFD700; padding: 15px; background-color:#FDF5E6; font-size: 100%; text-align: left;\">\n",
    "    \n",
    "<font size=\"+1\" color=\"#059c99\"><b>💞 11. How is the slope of the peak exercise ST segment distributed in the dataset?</b></font>\n",
    "\n",
    "**Explanation: The distribution of the slope is visualized using a countplot, showing the frequency of each slope type in the 'slope' column.**\n"
   ]
  },
  {
   "cell_type": "markdown",
   "metadata": {},
   "source": [
    "<div style=\"border-radius: 10px; border: 2px solid #FFD700; padding: 15px; background-color:#FDF5E6; font-size: 100%; text-align: left;\">\n",
    "    \n",
    "<font size=\"+1\" color=\"#059c99\"><b>💞 12. What is the range of the number of major vessels in the patients?</b></font>\n",
    "\n",
    "**Answer: Number of Major Vessels Range: 0 - 3**\n",
    "\n",
    "**Explanation: The range is determined by finding the minimum and maximum values in the 'noofmajorvessels' column using df['noofmajorvessels'].min()} - {df['noofmajorvessels'].max().**\n"
   ]
  },
  {
   "cell_type": "markdown",
   "metadata": {},
   "source": [
    "<div style=\"border-radius: 10px; border: 2px solid #FFD700; padding: 15px; background-color:#FDF5E6; font-size: 100%; text-align: left;\">\n",
    "    \n",
    "<font size=\"+1\" color=\"#059c99\"><b>💞 13. What percentage of patients in the dataset have heart disease (target = 1)?</b></font>\n",
    "\n",
    "**Answer: Percentage of Patients with Heart Disease: 58.00%**\n",
    "\n",
    "**Explanation: The percentage is calculated by dividing the number of patients with heart disease (target = 1) by the total number of patients.**"
   ]
  },
  {
   "cell_type": "code",
   "execution_count": null,
   "metadata": {},
   "outputs": [],
   "source": [
    "# Visualization:\n",
    "plt.figure(figsize=(10, 6))\n",
    "sns.histplot(x='age', hue='gender', data=df, palette='muted', multiple='stack', bins=15)\n",
    "plt.title('Age Distribution by Gender')\n",
    "plt.xlabel('Age')\n",
    "plt.ylabel('Count')\n",
    "plt.legend(title='Gender', labels=['Female', 'Male'])\n",
    "plt.show()\n"
   ]
  },
  {
   "cell_type": "markdown",
   "metadata": {},
   "source": [
    "<div style=\"border-radius: 10px; border: 2px solid #FFD700; padding: 15px; background-color:#FDF5E6; font-size: 100%; text-align: left;\">\n",
    "    \n",
    "<font size=\"+1\" color=\"#059c99\"><b>💞 14. Can you identify the patient with the highest age in the dataset?</b></font>\n",
    "\n",
    "**Answer:**\n",
    "* Patient ID: 1160678\n",
    "* Age: 80\n",
    "* Gender: Female\n",
    "* Chest Pain: 1\n",
    "* Target: 1 (Heart Disease)\n",
    "\n",
    "**Explanation: The patient with the highest age is identified by finding the maximum value in the 'age' column and extracting other details using df.loc[df['age'].idxmax().**"
   ]
  },
  {
   "cell_type": "markdown",
   "metadata": {},
   "source": [
    "<div style=\"border-radius: 10px; border: 2px solid #FFD700; padding: 15px; background-color:#FDF5E6; font-size: 100%; text-align: left;\">\n",
    "    \n",
    "<font size=\"+1\" color=\"#059c99\"><b>💞 15. Who is the patient with the lowest resting blood pressure?</b></font>\n",
    "\n",
    "**Answer:**\n",
    "* Patient ID: 119250\n",
    "* Age: 40\n",
    "* Gender: Female\n",
    "* Chest Pain: 0\n",
    "* Target: 0 (No Heart Disease)\n",
    "\n",
    "**Explanation: The patient with the lowest resting blood pressure is identified by finding the minimum value in the 'restingBP' column and extracting other details using df['restingBP'].idxmin().**\n"
   ]
  },
  {
   "cell_type": "markdown",
   "metadata": {},
   "source": [
    "<div style=\"border-radius: 10px; border: 2px solid #FFD700; padding: 15px; background-color:#FDF5E6; font-size: 100%; text-align: left;\">\n",
    "    \n",
    "<font size=\"+1\" color=\"#059c99\"><b>💞 16. What is the correlation between age and maximum heart rate?</b></font>\n",
    "\n",
    "**Answer: Correlation between Age and Maximum Heart Rate: -0.04**\n",
    "\n",
    "**Explanation: The correlation coefficient is calculated to quantify the relationship between age and maximum heart rate.**\n"
   ]
  }
 ],
 "metadata": {
  "kaggle": {
   "accelerator": "none",
   "dataSources": [
    {
     "datasetId": 4134888,
     "sourceId": 7159329,
     "sourceType": "datasetVersion"
    }
   ],
   "dockerImageVersionId": 30615,
   "isGpuEnabled": false,
   "isInternetEnabled": true,
   "language": "python",
   "sourceType": "notebook"
  },
  "kernelspec": {
   "display_name": "Python 3 (ipykernel)",
   "language": "python",
   "name": "python3"
  },
  "language_info": {
   "codemirror_mode": {
    "name": "ipython",
    "version": 3
   },
   "file_extension": ".py",
   "mimetype": "text/x-python",
   "name": "python",
   "nbconvert_exporter": "python",
   "pygments_lexer": "ipython3",
   "version": "3.9.18"
  }
 },
 "nbformat": 4,
 "nbformat_minor": 4
}
