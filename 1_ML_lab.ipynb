{
 "cells": [
  {
   "cell_type": "code",
   "execution_count": null,
   "id": "a3c2cba2-058e-436c-b149-86639ed5b6f8",
   "metadata": {},
   "outputs": [],
   "source": []
  },
  {
   "cell_type": "markdown",
   "id": "f1c54519-8a73-4f13-8421-333b251b97fa",
   "metadata": {},
   "source": [
    "# Create two matrices:"
   ]
  },
  {
   "cell_type": "code",
   "execution_count": 88,
   "id": "9890a903-a2bb-4c85-94ef-ebaa92a8b9be",
   "metadata": {},
   "outputs": [],
   "source": [
    "A = np.array([[1,2],[3,4]])\n",
    "B = np.array([[5,6],[7,8]])"
   ]
  },
  {
   "cell_type": "markdown",
   "id": "2b838211-2241-4d87-8f44-59dc4c6e3ff2",
   "metadata": {},
   "source": [
    "## Multiply matrices A and B:"
   ]
  },
  {
   "cell_type": "code",
   "execution_count": 89,
   "id": "dc7b39ef-0d9c-4470-ac74-23d61f8cc3c8",
   "metadata": {},
   "outputs": [
    {
     "data": {
      "text/plain": [
       "array([[ 5, 12],\n",
       "       [21, 32]])"
      ]
     },
     "execution_count": 89,
     "metadata": {},
     "output_type": "execute_result"
    }
   ],
   "source": [
    "A*B"
   ]
  },
  {
   "cell_type": "code",
   "execution_count": 90,
   "id": "916a14a3-5d4e-453b-88ee-bde5cd427a17",
   "metadata": {},
   "outputs": [
    {
     "data": {
      "text/plain": [
       "array([[1, 2],\n",
       "       [3, 4]])"
      ]
     },
     "execution_count": 90,
     "metadata": {},
     "output_type": "execute_result"
    }
   ],
   "source": [
    "A"
   ]
  },
  {
   "cell_type": "markdown",
   "id": "7dafd0b2-a9c2-4628-9b02-4edd8c700ff8",
   "metadata": {},
   "source": [
    "## This command only shows the last input (matrix B):"
   ]
  },
  {
   "cell_type": "code",
   "execution_count": 91,
   "id": "a13b8ce0-5e4f-43d2-90a0-8034b2e320fe",
   "metadata": {},
   "outputs": [
    {
     "data": {
      "text/plain": [
       "array([[5, 6],\n",
       "       [7, 8]])"
      ]
     },
     "execution_count": 91,
     "metadata": {},
     "output_type": "execute_result"
    }
   ],
   "source": [
    "A\n",
    "B"
   ]
  },
  {
   "cell_type": "markdown",
   "id": "908ec6a4-c89c-4406-a9fe-d608b1198cb3",
   "metadata": {},
   "source": [
    "## Use `print()` command to show both A and B:"
   ]
  },
  {
   "cell_type": "code",
   "execution_count": 92,
   "id": "82aa0c63-5e89-4d76-9598-c041b9e45ef5",
   "metadata": {},
   "outputs": [
    {
     "name": "stdout",
     "output_type": "stream",
     "text": [
      "[[1 2]\n",
      " [3 4]]\n",
      "[[5 6]\n",
      " [7 8]]\n"
     ]
    }
   ],
   "source": [
    "print(A)\n",
    "print(B)"
   ]
  },
  {
   "cell_type": "markdown",
   "id": "490c9554-e123-478c-8748-ceda128f0451",
   "metadata": {},
   "source": [
    "# Create a C matrix:"
   ]
  },
  {
   "cell_type": "code",
   "execution_count": 93,
   "id": "8e49a692-7825-4144-afb9-232d939020d5",
   "metadata": {},
   "outputs": [],
   "source": [
    "C = np.array([[1,2,3],[4,5,6],[7,8,9]])"
   ]
  },
  {
   "cell_type": "code",
   "execution_count": 94,
   "id": "bc316f1f-4b09-40f1-813a-52179a3a0023",
   "metadata": {},
   "outputs": [
    {
     "name": "stdout",
     "output_type": "stream",
     "text": [
      "[[1 2 3]\n",
      " [4 5 6]\n",
      " [7 8 9]]\n"
     ]
    }
   ],
   "source": [
    "print(C)"
   ]
  },
  {
   "cell_type": "markdown",
   "id": "a4d377f8-1fc8-45b6-a91f-b4dac48fd3c6",
   "metadata": {},
   "source": [
    "## Give information on all variables in environment:"
   ]
  },
  {
   "cell_type": "code",
   "execution_count": 95,
   "id": "a4e25797-21b7-4f83-9d65-a2ae1f0ef6f5",
   "metadata": {},
   "outputs": [
    {
     "name": "stdout",
     "output_type": "stream",
     "text": [
      "Variable   Type       Data/Info\n",
      "-------------------------------\n",
      "A          ndarray    2x2: 4 elems, type `int64`, 32 bytes\n",
      "A1         ndarray    2x2: 4 elems, type `float64`, 32 bytes\n",
      "B          ndarray    2x2: 4 elems, type `int64`, 32 bytes\n",
      "C          ndarray    3x3: 9 elems, type `int64`, 72 bytes\n",
      "G          ndarray    2x3: 6 elems, type `float64`, 48 bytes\n",
      "I          ndarray    3x4: 12 elems, type `float64`, 96 bytes\n",
      "I3         ndarray    3x3: 9 elems, type `float64`, 72 bytes\n",
      "I4         ndarray    4x4: 16 elems, type `float64`, 128 bytes\n",
      "M          ndarray    2x2: 4 elems, type `int64`, 32 bytes\n",
      "M1         ndarray    2x2: 4 elems, type `int64`, 32 bytes\n",
      "M2         ndarray    2x2: 4 elems, type `int64`, 32 bytes\n",
      "M3         ndarray    2x2: 4 elems, type `int64`, 32 bytes\n",
      "MM         ndarray    2x2: 4 elems, type `int64`, 32 bytes\n",
      "S          ndarray    2x2: 4 elems, type `int64`, 32 bytes\n",
      "Z4         ndarray    4x4: 16 elems, type `int64`, 128 bytes\n",
      "np         module     <module 'numpy' from '/Us<...>kages/numpy/__init__.py'>\n"
     ]
    }
   ],
   "source": [
    "whos"
   ]
  },
  {
   "cell_type": "markdown",
   "id": "33ac1710-4e22-4033-9845-d1bb60f0c25e",
   "metadata": {},
   "source": [
    "## To show the data type:"
   ]
  },
  {
   "cell_type": "code",
   "execution_count": 96,
   "id": "8c175248-5b37-4de0-9424-0fe1315d2249",
   "metadata": {},
   "outputs": [
    {
     "data": {
      "text/plain": [
       "dtype('int64')"
      ]
     },
     "execution_count": 96,
     "metadata": {},
     "output_type": "execute_result"
    }
   ],
   "source": [
    "A.dtype"
   ]
  },
  {
   "cell_type": "markdown",
   "id": "ef4f9202-f398-4f7e-8ead-d20a2a21968c",
   "metadata": {},
   "source": [
    "# Create G as a double variable:"
   ]
  },
  {
   "cell_type": "code",
   "execution_count": 97,
   "id": "697914e1-c9c3-4e02-b453-3b6e9a3bffb5",
   "metadata": {},
   "outputs": [],
   "source": [
    "G = np.array([[1,2,3],[4,5,6]], np.double)"
   ]
  },
  {
   "cell_type": "code",
   "execution_count": 98,
   "id": "9d1ad49d-7c67-4ea9-8a82-0fbea019daa7",
   "metadata": {},
   "outputs": [
    {
     "data": {
      "text/plain": [
       "array([[1., 2., 3.],\n",
       "       [4., 5., 6.]])"
      ]
     },
     "execution_count": 98,
     "metadata": {},
     "output_type": "execute_result"
    }
   ],
   "source": [
    "G"
   ]
  },
  {
   "cell_type": "code",
   "execution_count": 99,
   "id": "07296f92-d95f-4431-ae44-94999fb92b9f",
   "metadata": {},
   "outputs": [
    {
     "name": "stdout",
     "output_type": "stream",
     "text": [
      "Variable   Type       Data/Info\n",
      "-------------------------------\n",
      "A          ndarray    2x2: 4 elems, type `int64`, 32 bytes\n",
      "A1         ndarray    2x2: 4 elems, type `float64`, 32 bytes\n",
      "B          ndarray    2x2: 4 elems, type `int64`, 32 bytes\n",
      "C          ndarray    3x3: 9 elems, type `int64`, 72 bytes\n",
      "G          ndarray    2x3: 6 elems, type `float64`, 48 bytes\n",
      "I          ndarray    3x4: 12 elems, type `float64`, 96 bytes\n",
      "I3         ndarray    3x3: 9 elems, type `float64`, 72 bytes\n",
      "I4         ndarray    4x4: 16 elems, type `float64`, 128 bytes\n",
      "M          ndarray    2x2: 4 elems, type `int64`, 32 bytes\n",
      "M1         ndarray    2x2: 4 elems, type `int64`, 32 bytes\n",
      "M2         ndarray    2x2: 4 elems, type `int64`, 32 bytes\n",
      "M3         ndarray    2x2: 4 elems, type `int64`, 32 bytes\n",
      "MM         ndarray    2x2: 4 elems, type `int64`, 32 bytes\n",
      "S          ndarray    2x2: 4 elems, type `int64`, 32 bytes\n",
      "Z4         ndarray    4x4: 16 elems, type `int64`, 128 bytes\n",
      "np         module     <module 'numpy' from '/Us<...>kages/numpy/__init__.py'>\n"
     ]
    }
   ],
   "source": [
    "whos"
   ]
  },
  {
   "cell_type": "code",
   "execution_count": 100,
   "id": "4b0ebbf3-eb87-4149-8175-d57cebcf4b47",
   "metadata": {},
   "outputs": [
    {
     "data": {
      "text/plain": [
       "dtype('float64')"
      ]
     },
     "execution_count": 100,
     "metadata": {},
     "output_type": "execute_result"
    }
   ],
   "source": [
    "G.dtype"
   ]
  },
  {
   "cell_type": "markdown",
   "id": "dc086536-8548-44fc-856d-ee82e3ed847b",
   "metadata": {},
   "source": [
    "# Zeros & Identity Matrices:"
   ]
  },
  {
   "cell_type": "code",
   "execution_count": 101,
   "id": "e0a97e4f-8725-4d9e-a820-40b141b81e26",
   "metadata": {},
   "outputs": [
    {
     "data": {
      "text/plain": [
       "array([[0, 0, 0, 0],\n",
       "       [0, 0, 0, 0],\n",
       "       [0, 0, 0, 0],\n",
       "       [0, 0, 0, 0]])"
      ]
     },
     "execution_count": 101,
     "metadata": {},
     "output_type": "execute_result"
    }
   ],
   "source": [
    "Z4 = np.zeros(shape = (4,4), dtype = int)\n",
    "Z4"
   ]
  },
  {
   "cell_type": "code",
   "execution_count": 102,
   "id": "0d901e6b-6a2e-4dbd-8bd9-21176604d2a6",
   "metadata": {},
   "outputs": [
    {
     "data": {
      "text/plain": [
       "array([[1., 0., 0., 0.],\n",
       "       [0., 1., 0., 0.],\n",
       "       [0., 0., 1., 0.],\n",
       "       [0., 0., 0., 1.]])"
      ]
     },
     "execution_count": 102,
     "metadata": {},
     "output_type": "execute_result"
    }
   ],
   "source": [
    "I4 = np.identity(4)\n",
    "I4"
   ]
  },
  {
   "cell_type": "code",
   "execution_count": 103,
   "id": "e5d257e7-46b2-464f-8293-8d5628b72230",
   "metadata": {},
   "outputs": [
    {
     "data": {
      "text/plain": [
       "array([[1., 0., 0.],\n",
       "       [0., 1., 0.],\n",
       "       [0., 0., 1.]])"
      ]
     },
     "execution_count": 103,
     "metadata": {},
     "output_type": "execute_result"
    }
   ],
   "source": [
    "I3 = np.eye(3,3)\n",
    "I3"
   ]
  },
  {
   "cell_type": "markdown",
   "id": "58f33286-97de-4631-a3cf-5a43d50bbd91",
   "metadata": {},
   "source": [
    "## Accessing rows and columns of a matrix:"
   ]
  },
  {
   "cell_type": "markdown",
   "id": "ba438689-8657-4441-a361-47a8a3b04a5d",
   "metadata": {},
   "source": [
    "Use C[0,0] to access the value in the first row and column"
   ]
  },
  {
   "cell_type": "code",
   "execution_count": 104,
   "id": "8d4a0ac6-9117-4b4d-97e4-241c59ffc7b8",
   "metadata": {},
   "outputs": [
    {
     "data": {
      "text/plain": [
       "1"
      ]
     },
     "execution_count": 104,
     "metadata": {},
     "output_type": "execute_result"
    }
   ],
   "source": [
    "C[0,0]"
   ]
  },
  {
   "cell_type": "markdown",
   "id": "1589adf5-f167-4b2b-83b6-161a89244e77",
   "metadata": {},
   "source": [
    "## Extract the first row and all columns:"
   ]
  },
  {
   "cell_type": "code",
   "execution_count": 105,
   "id": "58d7e6f4-2e0a-404c-ae0c-bd544b614f34",
   "metadata": {},
   "outputs": [
    {
     "data": {
      "text/plain": [
       "array([1, 2, 3])"
      ]
     },
     "execution_count": 105,
     "metadata": {},
     "output_type": "execute_result"
    }
   ],
   "source": [
    "C[0,:]"
   ]
  },
  {
   "cell_type": "markdown",
   "id": "e455c881-4c8b-44d5-ba13-39d652eeb3b4",
   "metadata": {},
   "source": [
    "## Extract the first column and all rows:"
   ]
  },
  {
   "cell_type": "code",
   "execution_count": 106,
   "id": "e9680dc2-2fa4-4e74-9a3e-fa0162ac0325",
   "metadata": {},
   "outputs": [
    {
     "data": {
      "text/plain": [
       "array([1, 4, 7])"
      ]
     },
     "execution_count": 106,
     "metadata": {},
     "output_type": "execute_result"
    }
   ],
   "source": [
    "C[:,0]"
   ]
  },
  {
   "cell_type": "markdown",
   "id": "95ab8f57-6e51-4487-a255-af555203a915",
   "metadata": {},
   "source": [
    "## Extract values in first two rows and columns"
   ]
  },
  {
   "cell_type": "code",
   "execution_count": 107,
   "id": "d5e27757-93c7-438c-8f66-1047b68e7789",
   "metadata": {},
   "outputs": [
    {
     "data": {
      "text/plain": [
       "array([[1, 2],\n",
       "       [4, 5]])"
      ]
     },
     "execution_count": 107,
     "metadata": {},
     "output_type": "execute_result"
    }
   ],
   "source": [
    "C[0:2,0:2]"
   ]
  },
  {
   "cell_type": "markdown",
   "id": "01ccaa8c-734d-40a1-9830-19409606bcd6",
   "metadata": {},
   "source": [
    "## Extract values in second and third rows and columns (two ways possible)"
   ]
  },
  {
   "cell_type": "code",
   "execution_count": 108,
   "id": "e47e4e20-7b22-4760-9dde-ab46a7e9b954",
   "metadata": {},
   "outputs": [
    {
     "data": {
      "text/plain": [
       "array([[5, 6],\n",
       "       [8, 9]])"
      ]
     },
     "execution_count": 108,
     "metadata": {},
     "output_type": "execute_result"
    }
   ],
   "source": [
    "C[1:3,1:3]\n",
    "C[1:,1:]"
   ]
  },
  {
   "cell_type": "markdown",
   "id": "7e20e91d-9a67-437f-b352-57a1b4651a93",
   "metadata": {},
   "source": [
    "## Slicing (python assumes the last column is -1, the second to last is -2, etc.)"
   ]
  },
  {
   "cell_type": "code",
   "execution_count": 109,
   "id": "57c53cf4-c2d7-4351-b1db-b6c91570171f",
   "metadata": {},
   "outputs": [
    {
     "data": {
      "text/plain": [
       "array([[5, 6],\n",
       "       [8, 9]])"
      ]
     },
     "execution_count": 109,
     "metadata": {},
     "output_type": "execute_result"
    }
   ],
   "source": [
    "C[-2:,-2:]"
   ]
  },
  {
   "cell_type": "code",
   "execution_count": 110,
   "id": "78c3e0f8-8b35-4dba-b3ad-9778a939a4bb",
   "metadata": {},
   "outputs": [
    {
     "data": {
      "text/plain": [
       "array([[4, 5],\n",
       "       [7, 8]])"
      ]
     },
     "execution_count": 110,
     "metadata": {},
     "output_type": "execute_result"
    }
   ],
   "source": [
    "C[-2:,-3:-1]"
   ]
  },
  {
   "cell_type": "markdown",
   "id": "2f3982bf-ebc2-416f-92d6-4941c64ac0cc",
   "metadata": {},
   "source": [
    "# return to G matrix"
   ]
  },
  {
   "cell_type": "markdown",
   "id": "d5583ad6-bfe3-4bfb-a667-04e3d599ecaa",
   "metadata": {},
   "source": [
    "## check G matrix (2 rows and 3 columns)"
   ]
  },
  {
   "cell_type": "code",
   "execution_count": 111,
   "id": "fc5d730e-3ba6-4a30-9cbb-39904676f665",
   "metadata": {},
   "outputs": [
    {
     "data": {
      "text/plain": [
       "(2, 3)"
      ]
     },
     "execution_count": 111,
     "metadata": {},
     "output_type": "execute_result"
    }
   ],
   "source": [
    "G.shape"
   ]
  },
  {
   "cell_type": "code",
   "execution_count": 112,
   "id": "f3d87983-b7da-4c92-b247-0b6b358bb5f9",
   "metadata": {},
   "outputs": [
    {
     "data": {
      "text/plain": [
       "(2, 3)"
      ]
     },
     "execution_count": 112,
     "metadata": {},
     "output_type": "execute_result"
    }
   ],
   "source": [
    "G.shape"
   ]
  },
  {
   "cell_type": "markdown",
   "id": "cf7cde33-8f82-4e01-81bd-cd935deac75d",
   "metadata": {},
   "source": [
    "## Show the first row in the G matrix"
   ]
  },
  {
   "cell_type": "code",
   "execution_count": 113,
   "id": "ca00e4ff-191c-4afd-9f4b-78f2d26a5b41",
   "metadata": {},
   "outputs": [
    {
     "data": {
      "text/plain": [
       "array([1., 2., 3.])"
      ]
     },
     "execution_count": 113,
     "metadata": {},
     "output_type": "execute_result"
    }
   ],
   "source": [
    "G[0]"
   ]
  },
  {
   "cell_type": "markdown",
   "id": "b4eeb133-13f5-4d9f-b630-4fe301f34d70",
   "metadata": {},
   "source": [
    "## Show the second row in the G matrix"
   ]
  },
  {
   "cell_type": "code",
   "execution_count": 114,
   "id": "56395ea8-bebd-4ad2-968e-11c683a64050",
   "metadata": {},
   "outputs": [
    {
     "data": {
      "text/plain": [
       "array([4., 5., 6.])"
      ]
     },
     "execution_count": 114,
     "metadata": {},
     "output_type": "execute_result"
    }
   ],
   "source": [
    "G[1]"
   ]
  },
  {
   "cell_type": "markdown",
   "id": "003d7e4a-3434-48ae-9d01-1a7694ba2c50",
   "metadata": {},
   "source": [
    "## transpose the matrix using `matrix.T` command"
   ]
  },
  {
   "cell_type": "code",
   "execution_count": 115,
   "id": "220d802f-44b9-41ab-a869-12e4cc00c352",
   "metadata": {},
   "outputs": [
    {
     "data": {
      "text/plain": [
       "array([[1., 4.],\n",
       "       [2., 5.],\n",
       "       [3., 6.]])"
      ]
     },
     "execution_count": 115,
     "metadata": {},
     "output_type": "execute_result"
    }
   ],
   "source": [
    "G.T"
   ]
  },
  {
   "cell_type": "markdown",
   "id": "315c3ce3-6927-4708-911a-49ba60a8ea64",
   "metadata": {},
   "source": [
    "# return to matrices A and B"
   ]
  },
  {
   "cell_type": "markdown",
   "id": "3fbc6ae1-f911-41bb-885a-ccf5dbcc75dd",
   "metadata": {},
   "source": [
    "## add A and B"
   ]
  },
  {
   "cell_type": "code",
   "execution_count": 116,
   "id": "0761297f-a9ab-4d45-a19f-746d1d338e59",
   "metadata": {},
   "outputs": [
    {
     "name": "stdout",
     "output_type": "stream",
     "text": [
      "[[ 6  8]\n",
      " [10 12]]\n"
     ]
    }
   ],
   "source": [
    "S = A + B\n",
    "print(S)"
   ]
  },
  {
   "cell_type": "markdown",
   "id": "c65c7df7-3734-470a-89ad-1a4e3a15500c",
   "metadata": {},
   "source": [
    "## multiply A by a scalar"
   ]
  },
  {
   "cell_type": "code",
   "execution_count": 117,
   "id": "9c6a1022-0cd3-46dd-b066-4b147393dcd0",
   "metadata": {},
   "outputs": [
    {
     "name": "stdout",
     "output_type": "stream",
     "text": [
      "[[2 4]\n",
      " [6 8]]\n"
     ]
    }
   ],
   "source": [
    "MM = 2 * A\n",
    "print(MM)"
   ]
  },
  {
   "cell_type": "markdown",
   "id": "2298d130-bc1d-408c-95f1-f7bf942ca5fd",
   "metadata": {},
   "source": [
    "## multiply matrices A and B (this is wrong)"
   ]
  },
  {
   "cell_type": "code",
   "execution_count": 118,
   "id": "ed0e5bd1-c973-4b27-8853-2ac693f12446",
   "metadata": {},
   "outputs": [
    {
     "name": "stdout",
     "output_type": "stream",
     "text": [
      "[[1 2]\n",
      " [3 4]]\n",
      "[[5 6]\n",
      " [7 8]]\n",
      "[[ 5 12]\n",
      " [21 32]]\n"
     ]
    }
   ],
   "source": [
    "M = A * B\n",
    "print(A)\n",
    "print(B)\n",
    "print(M)"
   ]
  },
  {
   "cell_type": "markdown",
   "id": "d57a4dc7-e4fd-4b67-bde2-7b9a89926cc1",
   "metadata": {},
   "source": [
    "## multiply matrices A and B (this is correct)"
   ]
  },
  {
   "cell_type": "code",
   "execution_count": 119,
   "id": "02956df7-9768-4035-9e54-8f7cd83705e9",
   "metadata": {},
   "outputs": [
    {
     "name": "stdout",
     "output_type": "stream",
     "text": [
      "[[19 22]\n",
      " [43 50]]\n"
     ]
    }
   ],
   "source": [
    "M1 = np.matmul(A,B)\n",
    "print(M1)"
   ]
  },
  {
   "cell_type": "code",
   "execution_count": 120,
   "id": "e28e141e-469c-4799-a5f2-41e754b00886",
   "metadata": {},
   "outputs": [
    {
     "name": "stdout",
     "output_type": "stream",
     "text": [
      "[[19 22]\n",
      " [43 50]]\n"
     ]
    }
   ],
   "source": [
    "M2 = A.dot(B)\n",
    "print(M2)"
   ]
  },
  {
   "cell_type": "code",
   "execution_count": 121,
   "id": "e081586a-5c70-4048-a132-b79108eb208e",
   "metadata": {},
   "outputs": [
    {
     "name": "stdout",
     "output_type": "stream",
     "text": [
      "[[19 22]\n",
      " [43 50]]\n"
     ]
    }
   ],
   "source": [
    "M3 = A@B\n",
    "print(M3)"
   ]
  },
  {
   "cell_type": "markdown",
   "id": "5f2a63cf-13f7-4dc0-8352-400dc2fe733c",
   "metadata": {},
   "source": [
    "## test the inverse of matrix A"
   ]
  },
  {
   "cell_type": "code",
   "execution_count": 122,
   "id": "2b7868df-f475-4cd7-b6d0-986ff4acf746",
   "metadata": {},
   "outputs": [
    {
     "name": "stdout",
     "output_type": "stream",
     "text": [
      "[[-2.   1. ]\n",
      " [ 1.5 -0.5]]\n"
     ]
    }
   ],
   "source": [
    "A1 = np.linalg.inv(A)\n",
    "print(A1)"
   ]
  },
  {
   "cell_type": "markdown",
   "id": "949b8b50-0cd0-4643-99b8-ec0c50a2bad2",
   "metadata": {},
   "source": [
    "## prove that A1 really is the inverse of A"
   ]
  },
  {
   "cell_type": "code",
   "execution_count": 123,
   "id": "0b871511-f003-4a19-9518-8d859ec5adf4",
   "metadata": {},
   "outputs": [
    {
     "data": {
      "text/plain": [
       "array([[1.0000000e+00, 0.0000000e+00],\n",
       "       [8.8817842e-16, 1.0000000e+00]])"
      ]
     },
     "execution_count": 123,
     "metadata": {},
     "output_type": "execute_result"
    }
   ],
   "source": [
    "A@A1"
   ]
  }
 ],
 "metadata": {
  "kernelspec": {
   "display_name": "Python 3 (ipykernel)",
   "language": "python",
   "name": "python3"
  },
  "language_info": {
   "codemirror_mode": {
    "name": "ipython",
    "version": 3
   },
   "file_extension": ".py",
   "mimetype": "text/x-python",
   "name": "python",
   "nbconvert_exporter": "python",
   "pygments_lexer": "ipython3",
   "version": "3.11.7"
  }
 },
 "nbformat": 4,
 "nbformat_minor": 5
}
