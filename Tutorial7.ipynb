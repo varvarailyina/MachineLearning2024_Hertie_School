{
 "cells": [
  {
   "cell_type": "markdown",
   "id": "042c4b5a-3844-4102-824a-a1d01f2747b6",
   "metadata": {},
   "source": [
    "## Dataset information:\n",
    "https://islp.readthedocs.io/en/latest/datasets/Carseats.html"
   ]
  },
  {
   "cell_type": "markdown",
   "id": "ecaf4956-7a80-44de-8c5e-6ca9b784299b",
   "metadata": {},
   "source": [
    "## Load libraries:"
   ]
  },
  {
   "cell_type": "code",
   "execution_count": null,
   "id": "549445ad-60ed-4cb6-84a6-7055210eef86",
   "metadata": {},
   "outputs": [],
   "source": [
    "import pandas as pd\n",
    "import numpy as np\n",
    "from sklearn.model_selection import train_test_split\n",
    "from sklearn.preprocessing import StandardScaler\n",
    "from sklearn.ensemble import RandomForestClassifier\n",
    "from sklearn.model_selection import GridSearchCV\n",
    "from sklearn.metrics import classification_report, accuracy_score\n",
    "import matplotlib.pyplot as plt"
   ]
  },
  {
   "cell_type": "markdown",
   "id": "2e26a762-6908-4fdc-a37e-398f758c4501",
   "metadata": {},
   "source": [
    "## Read the dataset"
   ]
  },
  {
   "cell_type": "code",
   "execution_count": null,
   "id": "a121fa9a-c1e3-4a44-80e6-3b2db27c2bd3",
   "metadata": {},
   "outputs": [],
   "source": [
    "# Load the dataset\n",
    "carseats = pd.read_csv('Carseats.csv')\n",
    "\n",
    "# Check for missing values\n",
    "print(carseats.isna().any())\n",
    "\n",
    "# Convert 'Sales' into a binary 'High' variable\n",
    "carseats['High'] = carseats['Sales'] > 8\n",
    "\n",
    "# Convert categorical variables to dummies and drop specific columns\n",
    "carseats = pd.get_dummies(carseats, columns=['ShelveLoc', 'Urban', 'US'])\n",
    "carseats.drop(['ShelveLoc_Bad', 'Urban_No', 'US_No'], axis=1, inplace=True)\n",
    "carseats.head()"
   ]
  },
  {
   "cell_type": "markdown",
   "id": "64e8464b-8a94-49e2-9d93-3c2ee163c8a3",
   "metadata": {},
   "source": [
    "## Splitting the dataset"
   ]
  },
  {
   "cell_type": "code",
   "execution_count": null,
   "id": "5866ef5f-998c-4eb1-9f48-39a09ed82ca7",
   "metadata": {},
   "outputs": [],
   "source": [
    "# Define features and target\n",
    "X = carseats.drop(['High', 'Sales'], axis=1)\n",
    "y = carseats['High']\n",
    "\n",
    "# Split the data into training and testing sets\n",
    "X_train, X_test, y_train, y_test = train_test_split(X, y, test_size=0.3, random_state=42)\n"
   ]
  },
  {
   "cell_type": "markdown",
   "id": "95ea0ee1-c44d-48b5-8143-941360e0db25",
   "metadata": {},
   "source": [
    "## Normalize the Data"
   ]
  },
  {
   "cell_type": "code",
   "execution_count": null,
   "id": "955c8497-d156-433c-99da-286f5d7701a6",
   "metadata": {},
   "outputs": [],
   "source": [
    "# Normalize the data\n",
    "scaler = StandardScaler()\n",
    "X_train_scaled = scaler.fit_transform(X_train)\n",
    "X_test_scaled = scaler.transform(X_test)\n"
   ]
  },
  {
   "cell_type": "markdown",
   "id": "fdb6be88-d148-4693-b185-ca0b4d890b9b",
   "metadata": {},
   "source": [
    "## Random Forest for Feature Selection"
   ]
  },
  {
   "cell_type": "code",
   "execution_count": null,
   "id": "60679244-7c90-4d0e-9053-1dbc0452d099",
   "metadata": {},
   "outputs": [],
   "source": [
    "# Apply Random Forest\n",
    "rf = RandomForestClassifier(random_state=42)\n",
    "rf.fit(X_train_scaled, y_train)\n"
   ]
  },
  {
   "cell_type": "code",
   "execution_count": null,
   "id": "300adc87-4b96-424f-9847-6b45fbc5eef1",
   "metadata": {},
   "outputs": [],
   "source": [
    "# Assuming rf is your trained RandomForestClassifier\n",
    "feature_importances = rf.feature_importances_\n",
    "\n",
    "# Adjusting feature_names to match your processed 'carseats' DataFrame\n",
    "# Ensure this line comes after all preprocessing steps, including get_dummies and drop\n",
    "feature_names = carseats.drop(['High', 'Sales'], axis=1).columns\n",
    "\n",
    "# Sort the feature importances in descending order and get their indices\n",
    "sorted_indices = np.argsort(feature_importances)[::-1]\n",
    "\n",
    "# Create the plot\n",
    "plt.figure(figsize=(10, 8))\n",
    "plt.title('Feature Importances', fontsize=20)\n",
    "plt.bar(range(len(feature_importances)), feature_importances[sorted_indices], align='center', alpha=0.5)\n",
    "plt.xticks(range(len(feature_importances)), feature_names[sorted_indices], rotation=90)\n",
    "plt.ylabel('Relative Importance', fontsize=15)\n",
    "plt.xlabel('Feature', fontsize=15)\n",
    "plt.tight_layout()  # Adjusts the plot to ensure everything fits without overlapping\n",
    "plt.show()"
   ]
  },
  {
   "cell_type": "markdown",
   "id": "80fd0f27-794e-410b-b94c-4fbd87de1518",
   "metadata": {},
   "source": [
    "##  Hyperparameter Tuning and Cross-Validation"
   ]
  },
  {
   "cell_type": "code",
   "execution_count": null,
   "id": "199670ca-77de-41a1-a458-faea5bdc59f8",
   "metadata": {},
   "outputs": [],
   "source": [
    "# Grid search for hyperparameter tuning\n",
    "param_grid = {\n",
    "    'n_estimators': [100, 200, 300],\n",
    "    'max_depth': [None, 10, 20, 30],\n",
    "    'min_samples_split': [2, 5, 10]\n",
    "}\n",
    "\n",
    "cv_rf = GridSearchCV(estimator=rf, param_grid=param_grid, cv=5)\n",
    "cv_rf.fit(X_train_scaled, y_train) \n",
    "#cv_rf is the model after GridSearchCV \n",
    "#has found the best parameters and refitted the model using these parameters on the entire training set\n",
    "\n",
    "# Best parameters\n",
    "print(\"Best parameters:\", cv_rf.best_params_)\n"
   ]
  },
  {
   "cell_type": "markdown",
   "id": "0a75f805-1e8d-4e31-baf9-6df0b922ac93",
   "metadata": {},
   "source": [
    "## Evaluate the model on the test set"
   ]
  },
  {
   "cell_type": "code",
   "execution_count": null,
   "id": "8c728441-1044-4487-baef-1f43c9fe6ad5",
   "metadata": {},
   "outputs": [],
   "source": [
    "# Predictions on the test set\n",
    "y_pred = cv_rf.predict(X_test_scaled)\n",
    "\n",
    "# Performance metrics\n",
    "print(\"Accuracy:\", accuracy_score(y_test, y_pred))\n",
    "# print(classification_report(y_test, y_pred))\n"
   ]
  },
  {
   "cell_type": "code",
   "execution_count": null,
   "id": "3d703639-6161-43c1-bac8-fb4d6a8e9c1c",
   "metadata": {},
   "outputs": [],
   "source": [
    "from sklearn.metrics import confusion_matrix\n",
    "#from sklearn.metrics import plot_roc_curve\n",
    "from sklearn.metrics import roc_curve, auc\n"
   ]
  },
  {
   "cell_type": "code",
   "execution_count": null,
   "id": "33a2d104-cb34-40ad-862e-dbc2a70d8e37",
   "metadata": {},
   "outputs": [],
   "source": [
    "# Confusion Matrix\n",
    "cm = confusion_matrix(y_test, y_pred)\n",
    "print(\"Confusion Matrix:\\n\", cm)"
   ]
  },
  {
   "cell_type": "code",
   "execution_count": null,
   "id": "df046794-8520-4bd4-ae4f-9677e6db4449",
   "metadata": {},
   "outputs": [],
   "source": [
    "#'cv_rf' is your trained classifier model and 'X_test_scaled' is your scaled test dataset\n",
    "y_prob = cv_rf.predict_proba(X_test_scaled)[:, 1]  # Probabilities of the positive class\n"
   ]
  },
  {
   "cell_type": "code",
   "execution_count": null,
   "id": "cb826d42-a19b-46d6-9ca3-5cd5fab1959a",
   "metadata": {},
   "outputs": [],
   "source": [
    "# ROC_AUC Curve\n",
    "# 'cv_rf' is your fitted model and X_test_scaled is your test set\n",
    "# plot_roc_curve(cv_rf, X_test_scaled, y_test)\n",
    "# plt.title('ROC Curve')\n",
    "# plt.show()\n",
    "\n",
    "# Assuming y_prob contains your model predictions\n",
    "fpr, tpr, thresholds = roc_curve(y_test, y_prob)\n",
    "roc_auc = auc(fpr, tpr)\n",
    "\n",
    "plt.figure(figsize=(8, 6))\n",
    "plt.plot(fpr, tpr, color='darkorange', lw=2, label='ROC curve (area = %0.2f)' % roc_auc)\n",
    "plt.plot([0, 1], [0, 1], color='navy', lw=2, linestyle='--')\n",
    "plt.xlabel('False Positive Rate')\n",
    "plt.ylabel('True Positive Rate')\n",
    "plt.title('Receiver Operating Characteristic')\n",
    "plt.legend(loc=\"lower right\")\n",
    "plt.show()\n"
   ]
  },
  {
   "cell_type": "markdown",
   "id": "42a3d5d1-09b5-47d5-9cf1-f8372ede9379",
   "metadata": {},
   "source": [
    "### next week's tutorial will be on boosting and feature selection. \n",
    "Try to look up feature selection before next tutorial."
   ]
  },
  {
   "cell_type": "code",
   "execution_count": null,
   "id": "33368d30-8015-44fd-b1f3-209ac3f866e4",
   "metadata": {},
   "outputs": [],
   "source": []
  }
 ],
 "metadata": {
  "kernelspec": {
   "display_name": "Python 3 (ipykernel)",
   "language": "python",
   "name": "python3"
  },
  "language_info": {
   "codemirror_mode": {
    "name": "ipython",
    "version": 3
   },
   "file_extension": ".py",
   "mimetype": "text/x-python",
   "name": "python",
   "nbconvert_exporter": "python",
   "pygments_lexer": "ipython3",
   "version": "3.9.18"
  }
 },
 "nbformat": 4,
 "nbformat_minor": 5
}
