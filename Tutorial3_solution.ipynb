{
 "cells": [
  {
   "cell_type": "markdown",
   "id": "1e455bbf-d581-49cc-bfe8-bdf10730e084",
   "metadata": {},
   "source": [
    "### Ridge Regression:"
   ]
  },
  {
   "cell_type": "markdown",
   "id": "70f20cb8-9d5a-4ebc-8b93-114890d44943",
   "metadata": {},
   "source": [
    "Use scikit-learn to perform Ridge Regression"
   ]
  },
  {
   "cell_type": "markdown",
   "id": "71f7b2ce-9159-44da-9d32-fdcdf4a4d02a",
   "metadata": {},
   "source": [
    "Import Necessary Libraries"
   ]
  },
  {
   "cell_type": "code",
   "execution_count": 1,
   "id": "2f657465-c319-4f58-bd12-298f9751915d",
   "metadata": {},
   "outputs": [],
   "source": [
    "import numpy as np\n",
    "import matplotlib.pyplot as plt\n",
    "import pandas as pd\n",
    "from sklearn.linear_model import Ridge\n",
    "from sklearn.metrics import mean_squared_error\n",
    "from sklearn.model_selection import train_test_split\n"
   ]
  },
  {
   "cell_type": "markdown",
   "id": "a3452ea1-e7c8-4015-adf6-2283a88405d0",
   "metadata": {},
   "source": [
    "Load Your Data"
   ]
  },
  {
   "cell_type": "code",
   "execution_count": 42,
   "id": "4b63c84b-0672-446b-a886-b861f7d713f9",
   "metadata": {},
   "outputs": [],
   "source": [
    "attrib = pd.read_csv('communitiesandcrime/attributes.csv', delim_whitespace = True)"
   ]
  },
  {
   "cell_type": "code",
   "execution_count": 3,
   "id": "4d862890-6124-45bb-bbfa-a9ea45bbbf4a",
   "metadata": {},
   "outputs": [
    {
     "name": "stdout",
     "output_type": "stream",
     "text": [
      "              attributes\n",
      "0                  state\n",
      "1                 county\n",
      "2              community\n",
      "3          communityname\n",
      "4                   fold\n",
      "..                   ...\n",
      "123  LemasPctPolicOnPatr\n",
      "124  LemasGangUnitDeploy\n",
      "125  LemasPctOfficDrugUn\n",
      "126      PolicBudgPerPop\n",
      "127  ViolentCrimesPerPop\n",
      "\n",
      "[128 rows x 1 columns]\n"
     ]
    }
   ],
   "source": [
    "print(attrib)"
   ]
  },
  {
   "cell_type": "code",
   "execution_count": 4,
   "id": "baae369c-c6d5-435d-9f6a-9a3c1d8ef5ce",
   "metadata": {},
   "outputs": [],
   "source": [
    "data = pd.read_csv('/Users/sitani/Documents/HertieSchool/Tutorials/communitiesandcrime/communities.data', names = attrib['attributes'])"
   ]
  },
  {
   "cell_type": "markdown",
   "id": "2ebccc6c-481d-4214-a14d-9f90d563b374",
   "metadata": {},
   "source": [
    "### Remove non-predictive features\n",
    " \n",
    "1. state: US state (by number) - not counted as predictive above, but if considered, should be considered nominal (nominal)\n",
    "\n",
    "2. county: numeric code for county - not predictive, and many missing values (numeric)\n",
    "\n",
    "3. community: numeric code for community - not predictive and many missing values (numeric)\n",
    "\n",
    "4. communityname: community name - not predictive - for information only (string)\n",
    "\n",
    "5. fold: fold number for non-random 10 fold cross validation, potentially useful for debugging, paired tests - not predictive (numeric)"
   ]
  },
  {
   "cell_type": "code",
   "execution_count": 5,
   "id": "ba4ae913-0846-4f54-b305-caafac7e4ca3",
   "metadata": {},
   "outputs": [
    {
     "data": {
      "text/html": [
       "<div>\n",
       "<style scoped>\n",
       "    .dataframe tbody tr th:only-of-type {\n",
       "        vertical-align: middle;\n",
       "    }\n",
       "\n",
       "    .dataframe tbody tr th {\n",
       "        vertical-align: top;\n",
       "    }\n",
       "\n",
       "    .dataframe thead th {\n",
       "        text-align: right;\n",
       "    }\n",
       "</style>\n",
       "<table border=\"1\" class=\"dataframe\">\n",
       "  <thead>\n",
       "    <tr style=\"text-align: right;\">\n",
       "      <th></th>\n",
       "      <th>population</th>\n",
       "      <th>householdsize</th>\n",
       "      <th>racepctblack</th>\n",
       "      <th>racePctWhite</th>\n",
       "      <th>racePctAsian</th>\n",
       "      <th>racePctHisp</th>\n",
       "      <th>agePct12t21</th>\n",
       "      <th>agePct12t29</th>\n",
       "      <th>agePct16t24</th>\n",
       "      <th>agePct65up</th>\n",
       "      <th>...</th>\n",
       "      <th>LandArea</th>\n",
       "      <th>PopDens</th>\n",
       "      <th>PctUsePubTrans</th>\n",
       "      <th>PolicCars</th>\n",
       "      <th>PolicOperBudg</th>\n",
       "      <th>LemasPctPolicOnPatr</th>\n",
       "      <th>LemasGangUnitDeploy</th>\n",
       "      <th>LemasPctOfficDrugUn</th>\n",
       "      <th>PolicBudgPerPop</th>\n",
       "      <th>ViolentCrimesPerPop</th>\n",
       "    </tr>\n",
       "  </thead>\n",
       "  <tbody>\n",
       "    <tr>\n",
       "      <th>0</th>\n",
       "      <td>0.19</td>\n",
       "      <td>0.33</td>\n",
       "      <td>0.02</td>\n",
       "      <td>0.90</td>\n",
       "      <td>0.12</td>\n",
       "      <td>0.17</td>\n",
       "      <td>0.34</td>\n",
       "      <td>0.47</td>\n",
       "      <td>0.29</td>\n",
       "      <td>0.32</td>\n",
       "      <td>...</td>\n",
       "      <td>0.12</td>\n",
       "      <td>0.26</td>\n",
       "      <td>0.20</td>\n",
       "      <td>0.06</td>\n",
       "      <td>0.04</td>\n",
       "      <td>0.9</td>\n",
       "      <td>0.5</td>\n",
       "      <td>0.32</td>\n",
       "      <td>0.14</td>\n",
       "      <td>0.20</td>\n",
       "    </tr>\n",
       "    <tr>\n",
       "      <th>1</th>\n",
       "      <td>0.00</td>\n",
       "      <td>0.16</td>\n",
       "      <td>0.12</td>\n",
       "      <td>0.74</td>\n",
       "      <td>0.45</td>\n",
       "      <td>0.07</td>\n",
       "      <td>0.26</td>\n",
       "      <td>0.59</td>\n",
       "      <td>0.35</td>\n",
       "      <td>0.27</td>\n",
       "      <td>...</td>\n",
       "      <td>0.02</td>\n",
       "      <td>0.12</td>\n",
       "      <td>0.45</td>\n",
       "      <td>?</td>\n",
       "      <td>?</td>\n",
       "      <td>?</td>\n",
       "      <td>?</td>\n",
       "      <td>0.00</td>\n",
       "      <td>?</td>\n",
       "      <td>0.67</td>\n",
       "    </tr>\n",
       "    <tr>\n",
       "      <th>2</th>\n",
       "      <td>0.00</td>\n",
       "      <td>0.42</td>\n",
       "      <td>0.49</td>\n",
       "      <td>0.56</td>\n",
       "      <td>0.17</td>\n",
       "      <td>0.04</td>\n",
       "      <td>0.39</td>\n",
       "      <td>0.47</td>\n",
       "      <td>0.28</td>\n",
       "      <td>0.32</td>\n",
       "      <td>...</td>\n",
       "      <td>0.01</td>\n",
       "      <td>0.21</td>\n",
       "      <td>0.02</td>\n",
       "      <td>?</td>\n",
       "      <td>?</td>\n",
       "      <td>?</td>\n",
       "      <td>?</td>\n",
       "      <td>0.00</td>\n",
       "      <td>?</td>\n",
       "      <td>0.43</td>\n",
       "    </tr>\n",
       "    <tr>\n",
       "      <th>3</th>\n",
       "      <td>0.04</td>\n",
       "      <td>0.77</td>\n",
       "      <td>1.00</td>\n",
       "      <td>0.08</td>\n",
       "      <td>0.12</td>\n",
       "      <td>0.10</td>\n",
       "      <td>0.51</td>\n",
       "      <td>0.50</td>\n",
       "      <td>0.34</td>\n",
       "      <td>0.21</td>\n",
       "      <td>...</td>\n",
       "      <td>0.02</td>\n",
       "      <td>0.39</td>\n",
       "      <td>0.28</td>\n",
       "      <td>?</td>\n",
       "      <td>?</td>\n",
       "      <td>?</td>\n",
       "      <td>?</td>\n",
       "      <td>0.00</td>\n",
       "      <td>?</td>\n",
       "      <td>0.12</td>\n",
       "    </tr>\n",
       "    <tr>\n",
       "      <th>4</th>\n",
       "      <td>0.01</td>\n",
       "      <td>0.55</td>\n",
       "      <td>0.02</td>\n",
       "      <td>0.95</td>\n",
       "      <td>0.09</td>\n",
       "      <td>0.05</td>\n",
       "      <td>0.38</td>\n",
       "      <td>0.38</td>\n",
       "      <td>0.23</td>\n",
       "      <td>0.36</td>\n",
       "      <td>...</td>\n",
       "      <td>0.04</td>\n",
       "      <td>0.09</td>\n",
       "      <td>0.02</td>\n",
       "      <td>?</td>\n",
       "      <td>?</td>\n",
       "      <td>?</td>\n",
       "      <td>?</td>\n",
       "      <td>0.00</td>\n",
       "      <td>?</td>\n",
       "      <td>0.03</td>\n",
       "    </tr>\n",
       "  </tbody>\n",
       "</table>\n",
       "<p>5 rows × 123 columns</p>\n",
       "</div>"
      ],
      "text/plain": [
       "   population  householdsize  racepctblack  racePctWhite  racePctAsian  \\\n",
       "0        0.19           0.33          0.02          0.90          0.12   \n",
       "1        0.00           0.16          0.12          0.74          0.45   \n",
       "2        0.00           0.42          0.49          0.56          0.17   \n",
       "3        0.04           0.77          1.00          0.08          0.12   \n",
       "4        0.01           0.55          0.02          0.95          0.09   \n",
       "\n",
       "   racePctHisp  agePct12t21  agePct12t29  agePct16t24  agePct65up  ...  \\\n",
       "0         0.17         0.34         0.47         0.29        0.32  ...   \n",
       "1         0.07         0.26         0.59         0.35        0.27  ...   \n",
       "2         0.04         0.39         0.47         0.28        0.32  ...   \n",
       "3         0.10         0.51         0.50         0.34        0.21  ...   \n",
       "4         0.05         0.38         0.38         0.23        0.36  ...   \n",
       "\n",
       "   LandArea  PopDens  PctUsePubTrans  PolicCars  PolicOperBudg  \\\n",
       "0      0.12     0.26            0.20       0.06           0.04   \n",
       "1      0.02     0.12            0.45          ?              ?   \n",
       "2      0.01     0.21            0.02          ?              ?   \n",
       "3      0.02     0.39            0.28          ?              ?   \n",
       "4      0.04     0.09            0.02          ?              ?   \n",
       "\n",
       "   LemasPctPolicOnPatr  LemasGangUnitDeploy  LemasPctOfficDrugUn  \\\n",
       "0                  0.9                  0.5                 0.32   \n",
       "1                    ?                    ?                 0.00   \n",
       "2                    ?                    ?                 0.00   \n",
       "3                    ?                    ?                 0.00   \n",
       "4                    ?                    ?                 0.00   \n",
       "\n",
       "   PolicBudgPerPop  ViolentCrimesPerPop  \n",
       "0             0.14                 0.20  \n",
       "1                ?                 0.67  \n",
       "2                ?                 0.43  \n",
       "3                ?                 0.12  \n",
       "4                ?                 0.03  \n",
       "\n",
       "[5 rows x 123 columns]"
      ]
     },
     "execution_count": 5,
     "metadata": {},
     "output_type": "execute_result"
    }
   ],
   "source": [
    "data = data.drop(columns=['state','county',\n",
    "                          'community','communityname',\n",
    "                          'fold'], axis=1)\n",
    "data.head()"
   ]
  },
  {
   "cell_type": "markdown",
   "id": "e9503226-5a81-4ca5-b8e9-501f51ee6cc0",
   "metadata": {},
   "source": [
    "Replace all columns containing missing values(?) with nan"
   ]
  },
  {
   "cell_type": "code",
   "execution_count": 6,
   "id": "37af7a4c-1d98-4cde-87d0-9750c5520c73",
   "metadata": {},
   "outputs": [
    {
     "data": {
      "text/html": [
       "<div>\n",
       "<style scoped>\n",
       "    .dataframe tbody tr th:only-of-type {\n",
       "        vertical-align: middle;\n",
       "    }\n",
       "\n",
       "    .dataframe tbody tr th {\n",
       "        vertical-align: top;\n",
       "    }\n",
       "\n",
       "    .dataframe thead th {\n",
       "        text-align: right;\n",
       "    }\n",
       "</style>\n",
       "<table border=\"1\" class=\"dataframe\">\n",
       "  <thead>\n",
       "    <tr style=\"text-align: right;\">\n",
       "      <th></th>\n",
       "      <th>population</th>\n",
       "      <th>householdsize</th>\n",
       "      <th>racepctblack</th>\n",
       "      <th>racePctWhite</th>\n",
       "      <th>racePctAsian</th>\n",
       "      <th>racePctHisp</th>\n",
       "      <th>agePct12t21</th>\n",
       "      <th>agePct12t29</th>\n",
       "      <th>agePct16t24</th>\n",
       "      <th>agePct65up</th>\n",
       "      <th>...</th>\n",
       "      <th>LandArea</th>\n",
       "      <th>PopDens</th>\n",
       "      <th>PctUsePubTrans</th>\n",
       "      <th>PolicCars</th>\n",
       "      <th>PolicOperBudg</th>\n",
       "      <th>LemasPctPolicOnPatr</th>\n",
       "      <th>LemasGangUnitDeploy</th>\n",
       "      <th>LemasPctOfficDrugUn</th>\n",
       "      <th>PolicBudgPerPop</th>\n",
       "      <th>ViolentCrimesPerPop</th>\n",
       "    </tr>\n",
       "  </thead>\n",
       "  <tbody>\n",
       "    <tr>\n",
       "      <th>0</th>\n",
       "      <td>0.19</td>\n",
       "      <td>0.33</td>\n",
       "      <td>0.02</td>\n",
       "      <td>0.90</td>\n",
       "      <td>0.12</td>\n",
       "      <td>0.17</td>\n",
       "      <td>0.34</td>\n",
       "      <td>0.47</td>\n",
       "      <td>0.29</td>\n",
       "      <td>0.32</td>\n",
       "      <td>...</td>\n",
       "      <td>0.12</td>\n",
       "      <td>0.26</td>\n",
       "      <td>0.20</td>\n",
       "      <td>0.06</td>\n",
       "      <td>0.04</td>\n",
       "      <td>0.9</td>\n",
       "      <td>0.5</td>\n",
       "      <td>0.32</td>\n",
       "      <td>0.14</td>\n",
       "      <td>0.20</td>\n",
       "    </tr>\n",
       "    <tr>\n",
       "      <th>1</th>\n",
       "      <td>0.00</td>\n",
       "      <td>0.16</td>\n",
       "      <td>0.12</td>\n",
       "      <td>0.74</td>\n",
       "      <td>0.45</td>\n",
       "      <td>0.07</td>\n",
       "      <td>0.26</td>\n",
       "      <td>0.59</td>\n",
       "      <td>0.35</td>\n",
       "      <td>0.27</td>\n",
       "      <td>...</td>\n",
       "      <td>0.02</td>\n",
       "      <td>0.12</td>\n",
       "      <td>0.45</td>\n",
       "      <td>NaN</td>\n",
       "      <td>NaN</td>\n",
       "      <td>NaN</td>\n",
       "      <td>NaN</td>\n",
       "      <td>0.00</td>\n",
       "      <td>NaN</td>\n",
       "      <td>0.67</td>\n",
       "    </tr>\n",
       "    <tr>\n",
       "      <th>2</th>\n",
       "      <td>0.00</td>\n",
       "      <td>0.42</td>\n",
       "      <td>0.49</td>\n",
       "      <td>0.56</td>\n",
       "      <td>0.17</td>\n",
       "      <td>0.04</td>\n",
       "      <td>0.39</td>\n",
       "      <td>0.47</td>\n",
       "      <td>0.28</td>\n",
       "      <td>0.32</td>\n",
       "      <td>...</td>\n",
       "      <td>0.01</td>\n",
       "      <td>0.21</td>\n",
       "      <td>0.02</td>\n",
       "      <td>NaN</td>\n",
       "      <td>NaN</td>\n",
       "      <td>NaN</td>\n",
       "      <td>NaN</td>\n",
       "      <td>0.00</td>\n",
       "      <td>NaN</td>\n",
       "      <td>0.43</td>\n",
       "    </tr>\n",
       "    <tr>\n",
       "      <th>3</th>\n",
       "      <td>0.04</td>\n",
       "      <td>0.77</td>\n",
       "      <td>1.00</td>\n",
       "      <td>0.08</td>\n",
       "      <td>0.12</td>\n",
       "      <td>0.10</td>\n",
       "      <td>0.51</td>\n",
       "      <td>0.50</td>\n",
       "      <td>0.34</td>\n",
       "      <td>0.21</td>\n",
       "      <td>...</td>\n",
       "      <td>0.02</td>\n",
       "      <td>0.39</td>\n",
       "      <td>0.28</td>\n",
       "      <td>NaN</td>\n",
       "      <td>NaN</td>\n",
       "      <td>NaN</td>\n",
       "      <td>NaN</td>\n",
       "      <td>0.00</td>\n",
       "      <td>NaN</td>\n",
       "      <td>0.12</td>\n",
       "    </tr>\n",
       "    <tr>\n",
       "      <th>4</th>\n",
       "      <td>0.01</td>\n",
       "      <td>0.55</td>\n",
       "      <td>0.02</td>\n",
       "      <td>0.95</td>\n",
       "      <td>0.09</td>\n",
       "      <td>0.05</td>\n",
       "      <td>0.38</td>\n",
       "      <td>0.38</td>\n",
       "      <td>0.23</td>\n",
       "      <td>0.36</td>\n",
       "      <td>...</td>\n",
       "      <td>0.04</td>\n",
       "      <td>0.09</td>\n",
       "      <td>0.02</td>\n",
       "      <td>NaN</td>\n",
       "      <td>NaN</td>\n",
       "      <td>NaN</td>\n",
       "      <td>NaN</td>\n",
       "      <td>0.00</td>\n",
       "      <td>NaN</td>\n",
       "      <td>0.03</td>\n",
       "    </tr>\n",
       "  </tbody>\n",
       "</table>\n",
       "<p>5 rows × 123 columns</p>\n",
       "</div>"
      ],
      "text/plain": [
       "   population  householdsize  racepctblack  racePctWhite  racePctAsian  \\\n",
       "0        0.19           0.33          0.02          0.90          0.12   \n",
       "1        0.00           0.16          0.12          0.74          0.45   \n",
       "2        0.00           0.42          0.49          0.56          0.17   \n",
       "3        0.04           0.77          1.00          0.08          0.12   \n",
       "4        0.01           0.55          0.02          0.95          0.09   \n",
       "\n",
       "   racePctHisp  agePct12t21  agePct12t29  agePct16t24  agePct65up  ...  \\\n",
       "0         0.17         0.34         0.47         0.29        0.32  ...   \n",
       "1         0.07         0.26         0.59         0.35        0.27  ...   \n",
       "2         0.04         0.39         0.47         0.28        0.32  ...   \n",
       "3         0.10         0.51         0.50         0.34        0.21  ...   \n",
       "4         0.05         0.38         0.38         0.23        0.36  ...   \n",
       "\n",
       "   LandArea  PopDens  PctUsePubTrans  PolicCars  PolicOperBudg  \\\n",
       "0      0.12     0.26            0.20       0.06           0.04   \n",
       "1      0.02     0.12            0.45        NaN            NaN   \n",
       "2      0.01     0.21            0.02        NaN            NaN   \n",
       "3      0.02     0.39            0.28        NaN            NaN   \n",
       "4      0.04     0.09            0.02        NaN            NaN   \n",
       "\n",
       "   LemasPctPolicOnPatr  LemasGangUnitDeploy  LemasPctOfficDrugUn  \\\n",
       "0                  0.9                  0.5                 0.32   \n",
       "1                  NaN                  NaN                 0.00   \n",
       "2                  NaN                  NaN                 0.00   \n",
       "3                  NaN                  NaN                 0.00   \n",
       "4                  NaN                  NaN                 0.00   \n",
       "\n",
       "   PolicBudgPerPop  ViolentCrimesPerPop  \n",
       "0             0.14                 0.20  \n",
       "1              NaN                 0.67  \n",
       "2              NaN                 0.43  \n",
       "3              NaN                 0.12  \n",
       "4              NaN                 0.03  \n",
       "\n",
       "[5 rows x 123 columns]"
      ]
     },
     "execution_count": 6,
     "metadata": {},
     "output_type": "execute_result"
    }
   ],
   "source": [
    "data = data.replace('?', np.nan)\n",
    "data.head()"
   ]
  },
  {
   "cell_type": "markdown",
   "id": "8a6eaf0a-1fb2-4118-995c-050f148cdc87",
   "metadata": {},
   "source": [
    "print the names of all features with missing values"
   ]
  },
  {
   "cell_type": "code",
   "execution_count": 7,
   "id": "ab9eeedf-e8b5-4d68-9f9d-cf817ce44c3e",
   "metadata": {},
   "outputs": [
    {
     "name": "stdout",
     "output_type": "stream",
     "text": [
      "Index(['OtherPerCap', 'LemasSwornFT', 'LemasSwFTPerPop', 'LemasSwFTFieldOps',\n",
      "       'LemasSwFTFieldPerPop', 'LemasTotalReq', 'LemasTotReqPerPop',\n",
      "       'PolicReqPerOffic', 'PolicPerPop', 'RacialMatchCommPol',\n",
      "       'PctPolicWhite', 'PctPolicBlack', 'PctPolicHisp', 'PctPolicAsian',\n",
      "       'PctPolicMinor', 'OfficAssgnDrugUnits', 'NumKindsDrugsSeiz',\n",
      "       'PolicAveOTWorked', 'PolicCars', 'PolicOperBudg', 'LemasPctPolicOnPatr',\n",
      "       'LemasGangUnitDeploy', 'PolicBudgPerPop'],\n",
      "      dtype='object')\n"
     ]
    },
    {
     "data": {
      "text/plain": [
       "(23,)"
      ]
     },
     "execution_count": 7,
     "metadata": {},
     "output_type": "execute_result"
    }
   ],
   "source": [
    "feat_miss = data.columns[data.isnull().any()]\n",
    "\n",
    "print(feat_miss)\n",
    "feat_miss.shape"
   ]
  },
  {
   "cell_type": "markdown",
   "id": "609fae17-3dbc-4dd9-97e9-c87eb9d0f610",
   "metadata": {},
   "source": [
    "From 122 predictive features, 23 contain missing values."
   ]
  },
  {
   "cell_type": "markdown",
   "id": "a657cec1-f2ab-47ca-81dd-019fbca3d9bb",
   "metadata": {},
   "source": [
    "Look at the features with missing values: "
   ]
  },
  {
   "cell_type": "code",
   "execution_count": 8,
   "id": "776e7856-5978-454f-a74b-904114b8c8e1",
   "metadata": {},
   "outputs": [
    {
     "data": {
      "text/html": [
       "<div>\n",
       "<style scoped>\n",
       "    .dataframe tbody tr th:only-of-type {\n",
       "        vertical-align: middle;\n",
       "    }\n",
       "\n",
       "    .dataframe tbody tr th {\n",
       "        vertical-align: top;\n",
       "    }\n",
       "\n",
       "    .dataframe thead th {\n",
       "        text-align: right;\n",
       "    }\n",
       "</style>\n",
       "<table border=\"1\" class=\"dataframe\">\n",
       "  <thead>\n",
       "    <tr style=\"text-align: right;\">\n",
       "      <th></th>\n",
       "      <th>OtherPerCap</th>\n",
       "      <th>LemasSwornFT</th>\n",
       "      <th>LemasSwFTPerPop</th>\n",
       "      <th>LemasSwFTFieldOps</th>\n",
       "      <th>LemasSwFTFieldPerPop</th>\n",
       "      <th>LemasTotalReq</th>\n",
       "      <th>LemasTotReqPerPop</th>\n",
       "      <th>PolicReqPerOffic</th>\n",
       "      <th>PolicPerPop</th>\n",
       "      <th>RacialMatchCommPol</th>\n",
       "      <th>PctPolicWhite</th>\n",
       "      <th>PctPolicBlack</th>\n",
       "      <th>PctPolicHisp</th>\n",
       "    </tr>\n",
       "  </thead>\n",
       "  <tbody>\n",
       "    <tr>\n",
       "      <th>count</th>\n",
       "      <td>1993</td>\n",
       "      <td>319</td>\n",
       "      <td>319</td>\n",
       "      <td>319</td>\n",
       "      <td>319</td>\n",
       "      <td>319</td>\n",
       "      <td>319</td>\n",
       "      <td>319</td>\n",
       "      <td>319</td>\n",
       "      <td>319</td>\n",
       "      <td>319</td>\n",
       "      <td>319</td>\n",
       "      <td>319</td>\n",
       "    </tr>\n",
       "    <tr>\n",
       "      <th>unique</th>\n",
       "      <td>97</td>\n",
       "      <td>38</td>\n",
       "      <td>52</td>\n",
       "      <td>34</td>\n",
       "      <td>55</td>\n",
       "      <td>44</td>\n",
       "      <td>59</td>\n",
       "      <td>75</td>\n",
       "      <td>52</td>\n",
       "      <td>76</td>\n",
       "      <td>74</td>\n",
       "      <td>73</td>\n",
       "      <td>54</td>\n",
       "    </tr>\n",
       "    <tr>\n",
       "      <th>top</th>\n",
       "      <td>0</td>\n",
       "      <td>0.02</td>\n",
       "      <td>0.1</td>\n",
       "      <td>0.98</td>\n",
       "      <td>0.19</td>\n",
       "      <td>0.02</td>\n",
       "      <td>0.14</td>\n",
       "      <td>0.23</td>\n",
       "      <td>0.1</td>\n",
       "      <td>0.78</td>\n",
       "      <td>0.72</td>\n",
       "      <td>0</td>\n",
       "      <td>0</td>\n",
       "    </tr>\n",
       "    <tr>\n",
       "      <th>freq</th>\n",
       "      <td>129</td>\n",
       "      <td>80</td>\n",
       "      <td>19</td>\n",
       "      <td>81</td>\n",
       "      <td>17</td>\n",
       "      <td>55</td>\n",
       "      <td>23</td>\n",
       "      <td>15</td>\n",
       "      <td>19</td>\n",
       "      <td>12</td>\n",
       "      <td>11</td>\n",
       "      <td>23</td>\n",
       "      <td>72</td>\n",
       "    </tr>\n",
       "  </tbody>\n",
       "</table>\n",
       "</div>"
      ],
      "text/plain": [
       "       OtherPerCap LemasSwornFT LemasSwFTPerPop LemasSwFTFieldOps  \\\n",
       "count         1993          319             319               319   \n",
       "unique          97           38              52                34   \n",
       "top              0         0.02             0.1              0.98   \n",
       "freq           129           80              19                81   \n",
       "\n",
       "       LemasSwFTFieldPerPop LemasTotalReq LemasTotReqPerPop PolicReqPerOffic  \\\n",
       "count                   319           319               319              319   \n",
       "unique                   55            44                59               75   \n",
       "top                    0.19          0.02              0.14             0.23   \n",
       "freq                     17            55                23               15   \n",
       "\n",
       "       PolicPerPop RacialMatchCommPol PctPolicWhite PctPolicBlack PctPolicHisp  \n",
       "count          319                319           319           319          319  \n",
       "unique          52                 76            74            73           54  \n",
       "top            0.1               0.78          0.72             0            0  \n",
       "freq            19                 12            11            23           72  "
      ]
     },
     "execution_count": 8,
     "metadata": {},
     "output_type": "execute_result"
    }
   ],
   "source": [
    "data[feat_miss[0:13]].describe() # we look at half of the features at a time."
   ]
  },
  {
   "cell_type": "code",
   "execution_count": 9,
   "id": "9a0a5d8e-5450-474e-a3a3-249d3b09cc12",
   "metadata": {},
   "outputs": [
    {
     "data": {
      "text/html": [
       "<div>\n",
       "<style scoped>\n",
       "    .dataframe tbody tr th:only-of-type {\n",
       "        vertical-align: middle;\n",
       "    }\n",
       "\n",
       "    .dataframe tbody tr th {\n",
       "        vertical-align: top;\n",
       "    }\n",
       "\n",
       "    .dataframe thead th {\n",
       "        text-align: right;\n",
       "    }\n",
       "</style>\n",
       "<table border=\"1\" class=\"dataframe\">\n",
       "  <thead>\n",
       "    <tr style=\"text-align: right;\">\n",
       "      <th></th>\n",
       "      <th>PctPolicAsian</th>\n",
       "      <th>PctPolicMinor</th>\n",
       "      <th>OfficAssgnDrugUnits</th>\n",
       "      <th>NumKindsDrugsSeiz</th>\n",
       "      <th>PolicAveOTWorked</th>\n",
       "      <th>PolicCars</th>\n",
       "      <th>PolicOperBudg</th>\n",
       "      <th>LemasPctPolicOnPatr</th>\n",
       "      <th>LemasGangUnitDeploy</th>\n",
       "      <th>PolicBudgPerPop</th>\n",
       "    </tr>\n",
       "  </thead>\n",
       "  <tbody>\n",
       "    <tr>\n",
       "      <th>count</th>\n",
       "      <td>319</td>\n",
       "      <td>319</td>\n",
       "      <td>319</td>\n",
       "      <td>319</td>\n",
       "      <td>319</td>\n",
       "      <td>319</td>\n",
       "      <td>319</td>\n",
       "      <td>319</td>\n",
       "      <td>319</td>\n",
       "      <td>319</td>\n",
       "    </tr>\n",
       "    <tr>\n",
       "      <th>unique</th>\n",
       "      <td>50</td>\n",
       "      <td>72</td>\n",
       "      <td>30</td>\n",
       "      <td>15</td>\n",
       "      <td>77</td>\n",
       "      <td>63</td>\n",
       "      <td>38</td>\n",
       "      <td>72</td>\n",
       "      <td>3</td>\n",
       "      <td>51</td>\n",
       "    </tr>\n",
       "    <tr>\n",
       "      <th>top</th>\n",
       "      <td>0</td>\n",
       "      <td>0.07</td>\n",
       "      <td>0.03</td>\n",
       "      <td>0.57</td>\n",
       "      <td>0.19</td>\n",
       "      <td>0.02</td>\n",
       "      <td>0.02</td>\n",
       "      <td>0.74</td>\n",
       "      <td>0</td>\n",
       "      <td>0.12</td>\n",
       "    </tr>\n",
       "    <tr>\n",
       "      <th>freq</th>\n",
       "      <td>189</td>\n",
       "      <td>14</td>\n",
       "      <td>48</td>\n",
       "      <td>54</td>\n",
       "      <td>12</td>\n",
       "      <td>27</td>\n",
       "      <td>69</td>\n",
       "      <td>13</td>\n",
       "      <td>126</td>\n",
       "      <td>22</td>\n",
       "    </tr>\n",
       "  </tbody>\n",
       "</table>\n",
       "</div>"
      ],
      "text/plain": [
       "       PctPolicAsian PctPolicMinor OfficAssgnDrugUnits NumKindsDrugsSeiz  \\\n",
       "count            319           319                 319               319   \n",
       "unique            50            72                  30                15   \n",
       "top                0          0.07                0.03              0.57   \n",
       "freq             189            14                  48                54   \n",
       "\n",
       "       PolicAveOTWorked PolicCars PolicOperBudg LemasPctPolicOnPatr  \\\n",
       "count               319       319           319                 319   \n",
       "unique               77        63            38                  72   \n",
       "top                0.19      0.02          0.02                0.74   \n",
       "freq                 12        27            69                  13   \n",
       "\n",
       "       LemasGangUnitDeploy PolicBudgPerPop  \n",
       "count                  319             319  \n",
       "unique                   3              51  \n",
       "top                      0            0.12  \n",
       "freq                   126              22  "
      ]
     },
     "execution_count": 9,
     "metadata": {},
     "output_type": "execute_result"
    }
   ],
   "source": [
    "data[feat_miss[13:23]].describe() # Next, we look at the rest half of the features containing missing values."
   ]
  },
  {
   "cell_type": "code",
   "execution_count": 10,
   "id": "d702b8df-aee4-4b0d-bdca-9e7b949a33cd",
   "metadata": {},
   "outputs": [],
   "source": [
    "from sklearn.impute import SimpleImputer"
   ]
  },
  {
   "cell_type": "markdown",
   "id": "6c92649e-4396-4aca-addd-42eecb696880",
   "metadata": {},
   "source": [
    "We use SimpleImputer to fill in the missing value for the variable OtherPerCap because it has only 1 missing values(look at the count above. It shows non 'nan' values)"
   ]
  },
  {
   "cell_type": "code",
   "execution_count": 11,
   "id": "62f7dc3d-daeb-42c9-ba49-fd76ce353a2c",
   "metadata": {},
   "outputs": [],
   "source": [
    "# Create an instance of SimpleImputer with mean strategy\n",
    "imputer = SimpleImputer(missing_values=np.nan, strategy='mean')\n",
    "\n",
    "# Fit the imputer on the data and transform the column in one step\n",
    "data['OtherPerCap'] = imputer.fit_transform(data[['OtherPerCap']])"
   ]
  },
  {
   "cell_type": "markdown",
   "id": "cf195304-a4c2-4a8d-9fe0-a73c460f8d17",
   "metadata": {},
   "source": [
    "We drop remaining features with missing values because they contain a lot of missing values (look at count above). You can explore other strategies from SimpleImputer on how to fill missing values."
   ]
  },
  {
   "cell_type": "code",
   "execution_count": 12,
   "id": "b5199d00-1e0d-46bc-800f-67f2b075c9a9",
   "metadata": {},
   "outputs": [
    {
     "name": "stdout",
     "output_type": "stream",
     "text": [
      "(1994, 101)\n"
     ]
    },
    {
     "data": {
      "text/html": [
       "<div>\n",
       "<style scoped>\n",
       "    .dataframe tbody tr th:only-of-type {\n",
       "        vertical-align: middle;\n",
       "    }\n",
       "\n",
       "    .dataframe tbody tr th {\n",
       "        vertical-align: top;\n",
       "    }\n",
       "\n",
       "    .dataframe thead th {\n",
       "        text-align: right;\n",
       "    }\n",
       "</style>\n",
       "<table border=\"1\" class=\"dataframe\">\n",
       "  <thead>\n",
       "    <tr style=\"text-align: right;\">\n",
       "      <th></th>\n",
       "      <th>population</th>\n",
       "      <th>householdsize</th>\n",
       "      <th>racepctblack</th>\n",
       "      <th>racePctWhite</th>\n",
       "      <th>racePctAsian</th>\n",
       "      <th>racePctHisp</th>\n",
       "      <th>agePct12t21</th>\n",
       "      <th>agePct12t29</th>\n",
       "      <th>agePct16t24</th>\n",
       "      <th>agePct65up</th>\n",
       "      <th>...</th>\n",
       "      <th>PctForeignBorn</th>\n",
       "      <th>PctBornSameState</th>\n",
       "      <th>PctSameHouse85</th>\n",
       "      <th>PctSameCity85</th>\n",
       "      <th>PctSameState85</th>\n",
       "      <th>LandArea</th>\n",
       "      <th>PopDens</th>\n",
       "      <th>PctUsePubTrans</th>\n",
       "      <th>LemasPctOfficDrugUn</th>\n",
       "      <th>ViolentCrimesPerPop</th>\n",
       "    </tr>\n",
       "  </thead>\n",
       "  <tbody>\n",
       "    <tr>\n",
       "      <th>0</th>\n",
       "      <td>0.19</td>\n",
       "      <td>0.33</td>\n",
       "      <td>0.02</td>\n",
       "      <td>0.90</td>\n",
       "      <td>0.12</td>\n",
       "      <td>0.17</td>\n",
       "      <td>0.34</td>\n",
       "      <td>0.47</td>\n",
       "      <td>0.29</td>\n",
       "      <td>0.32</td>\n",
       "      <td>...</td>\n",
       "      <td>0.12</td>\n",
       "      <td>0.42</td>\n",
       "      <td>0.50</td>\n",
       "      <td>0.51</td>\n",
       "      <td>0.64</td>\n",
       "      <td>0.12</td>\n",
       "      <td>0.26</td>\n",
       "      <td>0.20</td>\n",
       "      <td>0.32</td>\n",
       "      <td>0.20</td>\n",
       "    </tr>\n",
       "    <tr>\n",
       "      <th>1</th>\n",
       "      <td>0.00</td>\n",
       "      <td>0.16</td>\n",
       "      <td>0.12</td>\n",
       "      <td>0.74</td>\n",
       "      <td>0.45</td>\n",
       "      <td>0.07</td>\n",
       "      <td>0.26</td>\n",
       "      <td>0.59</td>\n",
       "      <td>0.35</td>\n",
       "      <td>0.27</td>\n",
       "      <td>...</td>\n",
       "      <td>0.21</td>\n",
       "      <td>0.50</td>\n",
       "      <td>0.34</td>\n",
       "      <td>0.60</td>\n",
       "      <td>0.52</td>\n",
       "      <td>0.02</td>\n",
       "      <td>0.12</td>\n",
       "      <td>0.45</td>\n",
       "      <td>0.00</td>\n",
       "      <td>0.67</td>\n",
       "    </tr>\n",
       "    <tr>\n",
       "      <th>2</th>\n",
       "      <td>0.00</td>\n",
       "      <td>0.42</td>\n",
       "      <td>0.49</td>\n",
       "      <td>0.56</td>\n",
       "      <td>0.17</td>\n",
       "      <td>0.04</td>\n",
       "      <td>0.39</td>\n",
       "      <td>0.47</td>\n",
       "      <td>0.28</td>\n",
       "      <td>0.32</td>\n",
       "      <td>...</td>\n",
       "      <td>0.14</td>\n",
       "      <td>0.49</td>\n",
       "      <td>0.54</td>\n",
       "      <td>0.67</td>\n",
       "      <td>0.56</td>\n",
       "      <td>0.01</td>\n",
       "      <td>0.21</td>\n",
       "      <td>0.02</td>\n",
       "      <td>0.00</td>\n",
       "      <td>0.43</td>\n",
       "    </tr>\n",
       "    <tr>\n",
       "      <th>3</th>\n",
       "      <td>0.04</td>\n",
       "      <td>0.77</td>\n",
       "      <td>1.00</td>\n",
       "      <td>0.08</td>\n",
       "      <td>0.12</td>\n",
       "      <td>0.10</td>\n",
       "      <td>0.51</td>\n",
       "      <td>0.50</td>\n",
       "      <td>0.34</td>\n",
       "      <td>0.21</td>\n",
       "      <td>...</td>\n",
       "      <td>0.19</td>\n",
       "      <td>0.30</td>\n",
       "      <td>0.73</td>\n",
       "      <td>0.64</td>\n",
       "      <td>0.65</td>\n",
       "      <td>0.02</td>\n",
       "      <td>0.39</td>\n",
       "      <td>0.28</td>\n",
       "      <td>0.00</td>\n",
       "      <td>0.12</td>\n",
       "    </tr>\n",
       "    <tr>\n",
       "      <th>4</th>\n",
       "      <td>0.01</td>\n",
       "      <td>0.55</td>\n",
       "      <td>0.02</td>\n",
       "      <td>0.95</td>\n",
       "      <td>0.09</td>\n",
       "      <td>0.05</td>\n",
       "      <td>0.38</td>\n",
       "      <td>0.38</td>\n",
       "      <td>0.23</td>\n",
       "      <td>0.36</td>\n",
       "      <td>...</td>\n",
       "      <td>0.11</td>\n",
       "      <td>0.72</td>\n",
       "      <td>0.64</td>\n",
       "      <td>0.61</td>\n",
       "      <td>0.53</td>\n",
       "      <td>0.04</td>\n",
       "      <td>0.09</td>\n",
       "      <td>0.02</td>\n",
       "      <td>0.00</td>\n",
       "      <td>0.03</td>\n",
       "    </tr>\n",
       "  </tbody>\n",
       "</table>\n",
       "<p>5 rows × 101 columns</p>\n",
       "</div>"
      ],
      "text/plain": [
       "   population  householdsize  racepctblack  racePctWhite  racePctAsian  \\\n",
       "0        0.19           0.33          0.02          0.90          0.12   \n",
       "1        0.00           0.16          0.12          0.74          0.45   \n",
       "2        0.00           0.42          0.49          0.56          0.17   \n",
       "3        0.04           0.77          1.00          0.08          0.12   \n",
       "4        0.01           0.55          0.02          0.95          0.09   \n",
       "\n",
       "   racePctHisp  agePct12t21  agePct12t29  agePct16t24  agePct65up  ...  \\\n",
       "0         0.17         0.34         0.47         0.29        0.32  ...   \n",
       "1         0.07         0.26         0.59         0.35        0.27  ...   \n",
       "2         0.04         0.39         0.47         0.28        0.32  ...   \n",
       "3         0.10         0.51         0.50         0.34        0.21  ...   \n",
       "4         0.05         0.38         0.38         0.23        0.36  ...   \n",
       "\n",
       "   PctForeignBorn  PctBornSameState  PctSameHouse85  PctSameCity85  \\\n",
       "0            0.12              0.42            0.50           0.51   \n",
       "1            0.21              0.50            0.34           0.60   \n",
       "2            0.14              0.49            0.54           0.67   \n",
       "3            0.19              0.30            0.73           0.64   \n",
       "4            0.11              0.72            0.64           0.61   \n",
       "\n",
       "   PctSameState85  LandArea  PopDens  PctUsePubTrans  LemasPctOfficDrugUn  \\\n",
       "0            0.64      0.12     0.26            0.20                 0.32   \n",
       "1            0.52      0.02     0.12            0.45                 0.00   \n",
       "2            0.56      0.01     0.21            0.02                 0.00   \n",
       "3            0.65      0.02     0.39            0.28                 0.00   \n",
       "4            0.53      0.04     0.09            0.02                 0.00   \n",
       "\n",
       "   ViolentCrimesPerPop  \n",
       "0                 0.20  \n",
       "1                 0.67  \n",
       "2                 0.43  \n",
       "3                 0.12  \n",
       "4                 0.03  \n",
       "\n",
       "[5 rows x 101 columns]"
      ]
     },
     "execution_count": 12,
     "metadata": {},
     "output_type": "execute_result"
    }
   ],
   "source": [
    "data = data.dropna(axis=1)\n",
    "print(data.shape)\n",
    "data.head()\n",
    "# print(max(data['householdsize']))"
   ]
  },
  {
   "cell_type": "markdown",
   "id": "db88287a-1c70-4814-9b1c-9ef24f827d8c",
   "metadata": {},
   "source": [
    "Our variable 'data' is a dataframe and for indexing a dataframe we use iloc attribute."
   ]
  },
  {
   "cell_type": "code",
   "execution_count": 14,
   "id": "21562f8d-93b9-4fa8-83cf-0605684dc579",
   "metadata": {},
   "outputs": [],
   "source": [
    "X = data.iloc[:, 0:100].values #(data)\n",
    "y = data.iloc[:, 100].values  #(the attribute/feature to be predicted)"
   ]
  },
  {
   "cell_type": "markdown",
   "id": "ce88f9f2-a1e5-4749-8086-c3ca73469de4",
   "metadata": {},
   "source": [
    "Divide the total dataset into train and test."
   ]
  },
  {
   "cell_type": "code",
   "execution_count": 15,
   "id": "058616a4-806d-468d-a0e1-2e038eab0227",
   "metadata": {},
   "outputs": [
    {
     "name": "stdout",
     "output_type": "stream",
     "text": [
      "(1994, 100)\n",
      "(1994,)\n"
     ]
    }
   ],
   "source": [
    "seed = 0\n",
    "\n",
    "X_train, X_test, y_train, y_test = train_test_split(X, y, test_size = 0.3, random_state = seed)\n",
    "\n",
    "print(X.shape)\n",
    "print(y.shape)"
   ]
  },
  {
   "cell_type": "markdown",
   "id": "2fbfa5c6-e182-4435-9d3e-88d141559fb9",
   "metadata": {},
   "source": [
    "Standardizing the datasets:"
   ]
  },
  {
   "cell_type": "code",
   "execution_count": 16,
   "id": "a616d77e-9239-43ae-9c13-d77d9d73044a",
   "metadata": {},
   "outputs": [
    {
     "name": "stdout",
     "output_type": "stream",
     "text": [
      "[[-0.22795496 -1.35990003  0.90037182 ... -0.51808417 -0.53917548\n",
      "  -0.40184998]\n",
      " [-0.14887086  1.44938384 -0.39818442 ... -0.02411423  0.13186758\n",
      "  -0.40184998]\n",
      " [-0.38612316  0.10581329 -0.67363574 ... -0.2710992  -0.6733841\n",
      "  -0.40184998]\n",
      " ...\n",
      " [-0.46520727  0.16688468 -0.71298593 ...  1.21081061  0.08713137\n",
      "  -0.40184998]\n",
      " [-0.30703906 -0.9934717  -0.59493537 ...  1.06261963  0.44502101\n",
      "  -0.40184998]\n",
      " [-0.06978676 -0.32168643 -0.16208329 ... -0.36989319  1.25027268\n",
      "  -0.40184998]]\n",
      "[[-0.22795496 -0.93240031 -0.63428556 ... -0.71567214 -0.44970308\n",
      "  -0.40184998]\n",
      " [-0.22795496  0.89974135 -0.20143348 ... -0.41929018 -0.22602206\n",
      "  -0.40184998]\n",
      " [-0.38612316 -1.11561448  0.42816955 ...  0.22287074  0.04239517\n",
      "  -0.40184998]\n",
      " ...\n",
      " [-0.38612316 -0.4438292  -0.71298593 ... -0.86386312 -0.62864789\n",
      "  -0.40184998]\n",
      " [-0.38612316 -0.26061504 -0.59493537 ... -0.86386312 -0.53917548\n",
      "  -0.40184998]\n",
      " [ 2.93540909  0.96081274  3.22203297 ...  3.6312633   3.75550012\n",
      "  -0.40184998]]\n"
     ]
    }
   ],
   "source": [
    "from sklearn.preprocessing import StandardScaler\n",
    "\n",
    "# Standardize features by removing the mean and scaling to unit variance\n",
    "\n",
    "sc = StandardScaler()\n",
    "X_train = sc.fit_transform(X_train)\n",
    "X_test = sc.transform(X_test)\n",
    "print(X_train)\n",
    "print(X_test)"
   ]
  },
  {
   "cell_type": "markdown",
   "id": "59a05ab7-a2d1-43da-87a1-c64f2752e540",
   "metadata": {},
   "source": [
    " Split your training data further into training and validation sets"
   ]
  },
  {
   "cell_type": "code",
   "execution_count": 18,
   "id": "3568e347-7c3f-44a2-8a2a-9cd0e38b7872",
   "metadata": {},
   "outputs": [],
   "source": [
    "\n",
    "X_train_1, X_val, y_train_1, y_val = train_test_split(X_train, y_train, test_size=0.2, random_state=42)\n"
   ]
  },
  {
   "cell_type": "markdown",
   "id": "7ec599c4-46b0-485a-93fc-11adcd5359cb",
   "metadata": {},
   "source": [
    "Define a Range of Alpha Values\n",
    "\n",
    "In scikit learn, the lambda of ridge regression is referred to as alpha.\n",
    "\n",
    "try to see what np.linspace(-4,4,100) does. "
   ]
  },
  {
   "cell_type": "code",
   "execution_count": 20,
   "id": "9e3ee7de-805b-4288-b80f-7da9b5f8944d",
   "metadata": {},
   "outputs": [
    {
     "name": "stdout",
     "output_type": "stream",
     "text": [
      "[1.00000000e-04 1.20450354e-04 1.45082878e-04 1.74752840e-04\n",
      " 2.10490414e-04 2.53536449e-04 3.05385551e-04 3.67837977e-04\n",
      " 4.43062146e-04 5.33669923e-04 6.42807312e-04 7.74263683e-04\n",
      " 9.32603347e-04 1.12332403e-03 1.35304777e-03 1.62975083e-03\n",
      " 1.96304065e-03 2.36448941e-03 2.84803587e-03 3.43046929e-03\n",
      " 4.13201240e-03 4.97702356e-03 5.99484250e-03 7.22080902e-03\n",
      " 8.69749003e-03 1.04761575e-02 1.26185688e-02 1.51991108e-02\n",
      " 1.83073828e-02 2.20513074e-02 2.65608778e-02 3.19926714e-02\n",
      " 3.85352859e-02 4.64158883e-02 5.59081018e-02 6.73415066e-02\n",
      " 8.11130831e-02 9.77009957e-02 1.17681195e-01 1.41747416e-01\n",
      " 1.70735265e-01 2.05651231e-01 2.47707636e-01 2.98364724e-01\n",
      " 3.59381366e-01 4.32876128e-01 5.21400829e-01 6.28029144e-01\n",
      " 7.56463328e-01 9.11162756e-01 1.09749877e+00 1.32194115e+00\n",
      " 1.59228279e+00 1.91791026e+00 2.31012970e+00 2.78255940e+00\n",
      " 3.35160265e+00 4.03701726e+00 4.86260158e+00 5.85702082e+00\n",
      " 7.05480231e+00 8.49753436e+00 1.02353102e+01 1.23284674e+01\n",
      " 1.48496826e+01 1.78864953e+01 2.15443469e+01 2.59502421e+01\n",
      " 3.12571585e+01 3.76493581e+01 4.53487851e+01 5.46227722e+01\n",
      " 6.57933225e+01 7.92482898e+01 9.54548457e+01 1.14975700e+02\n",
      " 1.38488637e+02 1.66810054e+02 2.00923300e+02 2.42012826e+02\n",
      " 2.91505306e+02 3.51119173e+02 4.22924287e+02 5.09413801e+02\n",
      " 6.13590727e+02 7.39072203e+02 8.90215085e+02 1.07226722e+03\n",
      " 1.29154967e+03 1.55567614e+03 1.87381742e+03 2.25701972e+03\n",
      " 2.71858824e+03 3.27454916e+03 3.94420606e+03 4.75081016e+03\n",
      " 5.72236766e+03 6.89261210e+03 8.30217568e+03 1.00000000e+04]\n"
     ]
    }
   ],
   "source": [
    "alphas = np.logspace(-4, 4, 100)\n",
    "print(alphas)"
   ]
  },
  {
   "cell_type": "markdown",
   "id": "5d40bdc4-6db9-41c3-aac1-3220cf041bba",
   "metadata": {},
   "source": [
    "Initialize Lists of alpha values and mse values to Store Results:"
   ]
  },
  {
   "cell_type": "code",
   "execution_count": 21,
   "id": "12aaea3f-8526-405d-8dfa-24d7f8f7fc76",
   "metadata": {},
   "outputs": [],
   "source": [
    "alpha_values = []\n",
    "mse_values = []\n"
   ]
  },
  {
   "cell_type": "markdown",
   "id": "6fee2e12-d328-47a5-9790-130a426d7cce",
   "metadata": {},
   "source": [
    "Loop Over Alpha Values, Fit the Model, and Record MSE\n",
    "\n",
    "For each alpha value, fit a Ridge Regression model and evaluate its performance on the validation set."
   ]
  },
  {
   "cell_type": "code",
   "execution_count": 22,
   "id": "d388cdfc-636b-4ca8-bb70-fc284c153ce7",
   "metadata": {},
   "outputs": [],
   "source": [
    "for alpha in alphas:\n",
    "    model = Ridge(alpha=alpha)\n",
    "    model.fit(X_train_1, y_train_1)  # Train the model\n",
    "    y_pred = model.predict(X_val)  # Predict on validation set\n",
    "    mse = mean_squared_error(y_val, y_pred)  # Calculate MSE\n",
    "    \n",
    "    alpha_values.append(alpha)  # Store alpha\n",
    "    mse_values.append(mse)  # Store MSE\n"
   ]
  },
  {
   "cell_type": "markdown",
   "id": "9f629a8c-d358-494a-b101-b3ddad9267e0",
   "metadata": {},
   "source": [
    "Identify the Best Alpha and Its Corresponding MSE"
   ]
  },
  {
   "cell_type": "markdown",
   "id": "ce53235c-87b5-4649-946e-88686e79e295",
   "metadata": {},
   "source": [
    "Find the alpha value that results in the lowest MSE."
   ]
  },
  {
   "cell_type": "code",
   "execution_count": 23,
   "id": "27cfe5d2-f6ba-417a-a7c8-c81f7cc879c0",
   "metadata": {},
   "outputs": [
    {
     "name": "stdout",
     "output_type": "stream",
     "text": [
      "Best Alpha: 5.857020818056673\n",
      "Lowest MSE: 0.020743349632969234\n"
     ]
    }
   ],
   "source": [
    "best_alpha = alpha_values[np.argmin(mse_values)]\n",
    "best_mse = min(mse_values)\n",
    "print(f\"Best Alpha: {best_alpha}\")\n",
    "print(f\"Lowest MSE: {best_mse}\")\n"
   ]
  },
  {
   "cell_type": "markdown",
   "id": "dce08fa8-95d9-4556-a88d-05e581086cc6",
   "metadata": {},
   "source": [
    "Plot MSE vs. Alpha\n",
    "Create a plot to visualize how MSE changes with different alpha values."
   ]
  },
  {
   "cell_type": "code",
   "execution_count": 24,
   "id": "d0793ad8-6dd4-4094-a16d-db27b6157e71",
   "metadata": {},
   "outputs": [
    {
     "data": {
      "image/png": "[encoded data removed]",
      "text/plain": [
       "<Figure size 1000x600 with 1 Axes>"
      ]
     },
     "metadata": {},
     "output_type": "display_data"
    }
   ],
   "source": [
    "plt.figure(figsize=(10, 6))\n",
    "plt.semilogx(alpha_values, mse_values, marker='o', linestyle='-', color='b')\n",
    "plt.xlabel('Alpha')\n",
    "plt.ylabel('Mean Squared Error (MSE)')\n",
    "plt.title('MSE vs. Alpha for Ridge Regression')\n",
    "plt.grid(True)\n",
    "plt.show()\n"
   ]
  },
  {
   "cell_type": "markdown",
   "id": "27b843d3-b419-4c77-832d-5d819d2e6db7",
   "metadata": {},
   "source": [
    "To calculate the final Mean Squared Error (MSE) on the test set using the best alpha value identified from the validation set, we follow the steps ahead. This will give us an estimate of how well your Ridge Regression model is expected to perform on unseen data."
   ]
  },
  {
   "cell_type": "markdown",
   "id": "cf49a203-a4a8-4207-baf6-d3b890b64466",
   "metadata": {},
   "source": [
    "Combine Training and Validation Sets\n",
    "For the final model, you'll use both the training and validation data to train it, maximizing the amount of data the model can learn from."
   ]
  },
  {
   "cell_type": "code",
   "execution_count": 26,
   "id": "e9b776ee-4103-468b-a1cd-450c0d5f44cc",
   "metadata": {},
   "outputs": [],
   "source": [
    "# Combine the training and validation sets\n",
    "X_train_val = np.vstack((X_train_1, X_val))\n",
    "y_train_val = np.concatenate((y_train_1, y_val))\n"
   ]
  },
  {
   "cell_type": "markdown",
   "id": "0475f607-5333-4b63-a8e2-358e5a9bac98",
   "metadata": {},
   "source": [
    "Train the Final Model on the Combined Data\n",
    "Using the best alpha value found, train the Ridge Regression model on the combined training and validation data."
   ]
  },
  {
   "cell_type": "code",
   "execution_count": 27,
   "id": "1b5dc160-cf26-42d5-849d-1bf0ac725bc1",
   "metadata": {},
   "outputs": [
    {
     "data": {
      "text/html": [
       "<style>#sk-container-id-1 {color: black;}#sk-container-id-1 pre{padding: 0;}#sk-container-id-1 div.sk-toggleable {background-color: white;}#sk-container-id-1 label.sk-toggleable__label {cursor: pointer;display: block;width: 100%;margin-bottom: 0;padding: 0.3em;box-sizing: border-box;text-align: center;}#sk-container-id-1 label.sk-toggleable__label-arrow:before {content: \"▸\";float: left;margin-right: 0.25em;color: #696969;}#sk-container-id-1 label.sk-toggleable__label-arrow:hover:before {color: black;}#sk-container-id-1 div.sk-estimator:hover label.sk-toggleable__label-arrow:before {color: black;}#sk-container-id-1 div.sk-toggleable__content {max-height: 0;max-width: 0;overflow: hidden;text-align: left;background-color: #f0f8ff;}#sk-container-id-1 div.sk-toggleable__content pre {margin: 0.2em;color: black;border-radius: 0.25em;background-color: #f0f8ff;}#sk-container-id-1 input.sk-toggleable__control:checked~div.sk-toggleable__content {max-height: 200px;max-width: 100%;overflow: auto;}#sk-container-id-1 input.sk-toggleable__control:checked~label.sk-toggleable__label-arrow:before {content: \"▾\";}#sk-container-id-1 div.sk-estimator input.sk-toggleable__control:checked~label.sk-toggleable__label {background-color: #d4ebff;}#sk-container-id-1 div.sk-label input.sk-toggleable__control:checked~label.sk-toggleable__label {background-color: #d4ebff;}#sk-container-id-1 input.sk-hidden--visually {border: 0;clip: rect(1px 1px 1px 1px);clip: rect(1px, 1px, 1px, 1px);height: 1px;margin: -1px;overflow: hidden;padding: 0;position: absolute;width: 1px;}#sk-container-id-1 div.sk-estimator {font-family: monospace;background-color: #f0f8ff;border: 1px dotted black;border-radius: 0.25em;box-sizing: border-box;margin-bottom: 0.5em;}#sk-container-id-1 div.sk-estimator:hover {background-color: #d4ebff;}#sk-container-id-1 div.sk-parallel-item::after {content: \"\";width: 100%;border-bottom: 1px solid gray;flex-grow: 1;}#sk-container-id-1 div.sk-label:hover label.sk-toggleable__label {background-color: #d4ebff;}#sk-container-id-1 div.sk-serial::before {content: \"\";position: absolute;border-left: 1px solid gray;box-sizing: border-box;top: 0;bottom: 0;left: 50%;z-index: 0;}#sk-container-id-1 div.sk-serial {display: flex;flex-direction: column;align-items: center;background-color: white;padding-right: 0.2em;padding-left: 0.2em;position: relative;}#sk-container-id-1 div.sk-item {position: relative;z-index: 1;}#sk-container-id-1 div.sk-parallel {display: flex;align-items: stretch;justify-content: center;background-color: white;position: relative;}#sk-container-id-1 div.sk-item::before, #sk-container-id-1 div.sk-parallel-item::before {content: \"\";position: absolute;border-left: 1px solid gray;box-sizing: border-box;top: 0;bottom: 0;left: 50%;z-index: -1;}#sk-container-id-1 div.sk-parallel-item {display: flex;flex-direction: column;z-index: 1;position: relative;background-color: white;}#sk-container-id-1 div.sk-parallel-item:first-child::after {align-self: flex-end;width: 50%;}#sk-container-id-1 div.sk-parallel-item:last-child::after {align-self: flex-start;width: 50%;}#sk-container-id-1 div.sk-parallel-item:only-child::after {width: 0;}#sk-container-id-1 div.sk-dashed-wrapped {border: 1px dashed gray;margin: 0 0.4em 0.5em 0.4em;box-sizing: border-box;padding-bottom: 0.4em;background-color: white;}#sk-container-id-1 div.sk-label label {font-family: monospace;font-weight: bold;display: inline-block;line-height: 1.2em;}#sk-container-id-1 div.sk-label-container {text-align: center;}#sk-container-id-1 div.sk-container {/* jupyter's `normalize.less` sets `[hidden] { display: none; }` but bootstrap.min.css set `[hidden] { display: none !important; }` so we also need the `!important` here to be able to override the default hidden behavior on the sphinx rendered scikit-learn.org. See: https://github.com/scikit-learn/scikit-learn/issues/21755 */display: inline-block !important;position: relative;}#sk-container-id-1 div.sk-text-repr-fallback {display: none;}</style><div id=\"sk-container-id-1\" class=\"sk-top-container\"><div class=\"sk-text-repr-fallback\"><pre>Ridge(alpha=5.857020818056673)</pre><b>In a Jupyter environment, please rerun this cell to show the HTML representation or trust the notebook. <br />On GitHub, the HTML representation is unable to render, please try loading this page with nbviewer.org.</b></div><div class=\"sk-container\" hidden><div class=\"sk-item\"><div class=\"sk-estimator sk-toggleable\"><input class=\"sk-toggleable__control sk-hidden--visually\" id=\"sk-estimator-id-1\" type=\"checkbox\" checked><label for=\"sk-estimator-id-1\" class=\"sk-toggleable__label sk-toggleable__label-arrow\">Ridge</label><div class=\"sk-toggleable__content\"><pre>Ridge(alpha=5.857020818056673)</pre></div></div></div></div></div>"
      ],
      "text/plain": [
       "Ridge(alpha=5.857020818056673)"
      ]
     },
     "execution_count": 27,
     "metadata": {},
     "output_type": "execute_result"
    }
   ],
   "source": [
    "final_model = Ridge(alpha=best_alpha)\n",
    "final_model.fit(X_train_val, y_train_val)\n"
   ]
  },
  {
   "cell_type": "markdown",
   "id": "5ca9a996-ecd4-4231-82e7-79bb79b5d680",
   "metadata": {},
   "source": [
    "Make Predictions on the Test Set and Calculate MSE.\n",
    "\n",
    "Finally, predict on the test set using the final model and calculate the Mean Squared Error."
   ]
  },
  {
   "cell_type": "code",
   "execution_count": 28,
   "id": "e899e863-7ffc-4e53-a61e-41018e17e059",
   "metadata": {},
   "outputs": [
    {
     "name": "stdout",
     "output_type": "stream",
     "text": [
      "Training MSE is: 0.020743349632969234\n",
      "Final Test MSE: 0.018957929288861558\n"
     ]
    }
   ],
   "source": [
    "y_test_pred_ridge = final_model.predict(X_test)  # Predict on the test set\n",
    "final_test_mse_ridge = mean_squared_error(y_test, y_test_pred_ridge)  # Calculate MSE on the test set\n",
    "print(f\"Training MSE is: {best_mse}\") # the mse that you get with the best alpha.\n",
    "print(f\"Final Test MSE: {final_test_mse_ridge}\")\n"
   ]
  },
  {
   "cell_type": "markdown",
   "id": "8092637e-bf16-4770-82f9-7431ff3e2eb1",
   "metadata": {},
   "source": [
    "what do you conclude from training and test mse?"
   ]
  },
  {
   "cell_type": "markdown",
   "id": "f6ae12e4-73b5-4fbb-9f14-07254774ed63",
   "metadata": {},
   "source": [
    "### Lasso Regression:"
   ]
  },
  {
   "cell_type": "code",
   "execution_count": 29,
   "id": "7ba5200a-eae6-4949-b4fc-fecbdd8def48",
   "metadata": {},
   "outputs": [],
   "source": [
    "from sklearn.linear_model import Lasso"
   ]
  },
  {
   "cell_type": "markdown",
   "id": "3e9e148b-a3be-4156-91fc-f3e4d064ac46",
   "metadata": {},
   "source": [
    "Define a Range of Alpha Values\n",
    "Choose a range of alpha values to test. "
   ]
  },
  {
   "cell_type": "code",
   "execution_count": 30,
   "id": "97bcc44f-07b0-466d-9cca-7b77470ec66a",
   "metadata": {},
   "outputs": [],
   "source": [
    "alphas = np.logspace(-4, 4, 100)\n"
   ]
  },
  {
   "cell_type": "markdown",
   "id": "071f5151-c135-49c0-9ce0-296722382549",
   "metadata": {},
   "source": [
    "Loop Over Alpha Values and Store Results\n",
    "\n",
    "Initialize lists to store alpha values and their corresponding MSEs. Then, loop over the alpha values, fit a Lasso model for each, and evaluate its performance on the validation set."
   ]
  },
  {
   "cell_type": "markdown",
   "id": "b13fa760-aeb0-45c2-bd4a-8f4adfc4d4dc",
   "metadata": {},
   "source": [
    "np.inf represents infinity in NumPy. Setting lowest_mse to np.inf at the start is a common technique used to ensure that the first comparison (if mse < lowest_mse:) will always be true for the first alpha value tested. This way, lowest_mse will be updated to a finite value (the MSE of the first model tested), and best_alpha will be set to the corresponding alpha value."
   ]
  },
  {
   "cell_type": "code",
   "execution_count": 31,
   "id": "0b96e0b7-1c61-4a56-a651-c421ee151390",
   "metadata": {},
   "outputs": [
    {
     "name": "stderr",
     "output_type": "stream",
     "text": [
      "/opt/anaconda3/envs/ml_tutorial/lib/python3.9/site-packages/sklearn/linear_model/_coordinate_descent.py:628: ConvergenceWarning: Objective did not converge. You might want to increase the number of iterations, check the scale of the features or consider increasing regularisation. Duality gap: 3.041e-02, tolerance: 5.715e-03\n",
      "  model = cd_fast.enet_coordinate_descent(\n",
      "/opt/anaconda3/envs/ml_tutorial/lib/python3.9/site-packages/sklearn/linear_model/_coordinate_descent.py:628: ConvergenceWarning: Objective did not converge. You might want to increase the number of iterations, check the scale of the features or consider increasing regularisation. Duality gap: 8.359e-03, tolerance: 5.715e-03\n",
      "  model = cd_fast.enet_coordinate_descent(\n"
     ]
    }
   ],
   "source": [
    "alpha_values = []\n",
    "mse_values = []\n",
    "best_alpha = None\n",
    "lowest_mse = np.inf\n",
    "\n",
    "for alpha in alphas:\n",
    "    model = Lasso(alpha=alpha)\n",
    "    model.fit(X_train_1, y_train_1)\n",
    "    y_pred = model.predict(X_val)\n",
    "    mse = mean_squared_error(y_val, y_pred)\n",
    "    \n",
    "    alpha_values.append(alpha)\n",
    "    mse_values.append(mse)\n",
    "    \n",
    "    if mse < lowest_mse:\n",
    "        best_alpha = alpha\n",
    "        lowest_mse = mse\n"
   ]
  },
  {
   "cell_type": "markdown",
   "id": "a2ad4bb0-e0c3-43c2-8895-f028d64e0009",
   "metadata": {},
   "source": [
    "### How to Address the Warnings\n",
    "\n",
    "You can increase the maximum number of iterations allowed for the model to converge by setting the max_iter parameter in the Lasso constructor to a higher value."
   ]
  },
  {
   "cell_type": "markdown",
   "id": "6fc71575-7624-4ac8-aa6d-4668faef2212",
   "metadata": {},
   "source": [
    "Plot MSE vs. Alpha\n",
    "\n",
    "Visualize how the Mean Squared Error changes with different alpha values."
   ]
  },
  {
   "cell_type": "code",
   "execution_count": 32,
   "id": "3ab6d5ac-27ff-452b-a6e4-0568bc9a89f8",
   "metadata": {},
   "outputs": [
    {
     "data": {
      "image/png": "[encoded data removed]",
      "text/plain": [
       "<Figure size 1000x600 with 1 Axes>"
      ]
     },
     "metadata": {},
     "output_type": "display_data"
    }
   ],
   "source": [
    "plt.figure(figsize=(10, 6))\n",
    "plt.semilogx(alpha_values, mse_values, marker='o', linestyle='-', color='b')\n",
    "plt.xlabel('Alpha')\n",
    "plt.ylabel('Mean Squared Error (MSE)')\n",
    "plt.title('MSE vs. Alpha for Lasso Regression')\n",
    "plt.grid(True)\n",
    "plt.show()\n"
   ]
  },
  {
   "cell_type": "markdown",
   "id": "2a616252-f53c-44e3-8b86-ad808acddf56",
   "metadata": {},
   "source": [
    "Print the Best Alpha and Its MSE\n",
    "Output the best alpha value found and its corresponding lowest MSE."
   ]
  },
  {
   "cell_type": "markdown",
   "id": "da4be546-425d-4c63-a59d-bdf00f517576",
   "metadata": {},
   "source": [
    "Why do you think the MSE in Lasso increases after a certain point with the increase in lambda (alpha)?"
   ]
  },
  {
   "cell_type": "code",
   "execution_count": 33,
   "id": "d8316f72-7848-43eb-b009-d4335f642127",
   "metadata": {},
   "outputs": [
    {
     "name": "stdout",
     "output_type": "stream",
     "text": [
      "Best Alpha: 0.00025353644939701115\n",
      "Lowest MSE: 0.02073091136721493\n"
     ]
    }
   ],
   "source": [
    "print(f\"Best Alpha: {best_alpha}\")\n",
    "print(f\"Lowest MSE: {lowest_mse}\")\n"
   ]
  },
  {
   "cell_type": "markdown",
   "id": "2b72f273-5728-444c-9fa5-7c628935483d",
   "metadata": {},
   "source": [
    "Lasso model can lead to sparse solutions by setting some coefficients to zero. This approach is useful for feature selection in addition to regularization."
   ]
  },
  {
   "cell_type": "markdown",
   "id": "1b7f9dd1-20ef-4eeb-9f15-f78e5d55ce4f",
   "metadata": {},
   "source": [
    " Combine the training and validation sets for the final model training"
   ]
  },
  {
   "cell_type": "code",
   "execution_count": 34,
   "id": "e22042bb-0f41-4ba6-adfe-7979fd17a46d",
   "metadata": {},
   "outputs": [],
   "source": [
    "\n",
    "X_train_val = np.vstack((X_train_1, X_val))\n",
    "y_train_val = np.concatenate((y_train_1, y_val))\n"
   ]
  },
  {
   "cell_type": "markdown",
   "id": "d1d1789f-6c65-4499-8f5e-822e39673481",
   "metadata": {},
   "source": [
    "Initialize the Lasso model with the best alpha value\n"
   ]
  },
  {
   "cell_type": "code",
   "execution_count": 35,
   "id": "ce9faf50-8afc-4029-9eac-3b776bd33bfc",
   "metadata": {},
   "outputs": [],
   "source": [
    "final_lasso_model = Lasso(alpha=best_alpha)"
   ]
  },
  {
   "cell_type": "markdown",
   "id": "722c419f-bcff-4f50-a27c-bc13b51bad94",
   "metadata": {},
   "source": [
    "Fit the model on the combined training and validation data\n"
   ]
  },
  {
   "cell_type": "code",
   "execution_count": 36,
   "id": "b118d7d2-fa92-4740-83ab-1f5d5320ef6e",
   "metadata": {},
   "outputs": [
    {
     "data": {
      "text/html": [
       "<style>#sk-container-id-2 {color: black;}#sk-container-id-2 pre{padding: 0;}#sk-container-id-2 div.sk-toggleable {background-color: white;}#sk-container-id-2 label.sk-toggleable__label {cursor: pointer;display: block;width: 100%;margin-bottom: 0;padding: 0.3em;box-sizing: border-box;text-align: center;}#sk-container-id-2 label.sk-toggleable__label-arrow:before {content: \"▸\";float: left;margin-right: 0.25em;color: #696969;}#sk-container-id-2 label.sk-toggleable__label-arrow:hover:before {color: black;}#sk-container-id-2 div.sk-estimator:hover label.sk-toggleable__label-arrow:before {color: black;}#sk-container-id-2 div.sk-toggleable__content {max-height: 0;max-width: 0;overflow: hidden;text-align: left;background-color: #f0f8ff;}#sk-container-id-2 div.sk-toggleable__content pre {margin: 0.2em;color: black;border-radius: 0.25em;background-color: #f0f8ff;}#sk-container-id-2 input.sk-toggleable__control:checked~div.sk-toggleable__content {max-height: 200px;max-width: 100%;overflow: auto;}#sk-container-id-2 input.sk-toggleable__control:checked~label.sk-toggleable__label-arrow:before {content: \"▾\";}#sk-container-id-2 div.sk-estimator input.sk-toggleable__control:checked~label.sk-toggleable__label {background-color: #d4ebff;}#sk-container-id-2 div.sk-label input.sk-toggleable__control:checked~label.sk-toggleable__label {background-color: #d4ebff;}#sk-container-id-2 input.sk-hidden--visually {border: 0;clip: rect(1px 1px 1px 1px);clip: rect(1px, 1px, 1px, 1px);height: 1px;margin: -1px;overflow: hidden;padding: 0;position: absolute;width: 1px;}#sk-container-id-2 div.sk-estimator {font-family: monospace;background-color: #f0f8ff;border: 1px dotted black;border-radius: 0.25em;box-sizing: border-box;margin-bottom: 0.5em;}#sk-container-id-2 div.sk-estimator:hover {background-color: #d4ebff;}#sk-container-id-2 div.sk-parallel-item::after {content: \"\";width: 100%;border-bottom: 1px solid gray;flex-grow: 1;}#sk-container-id-2 div.sk-label:hover label.sk-toggleable__label {background-color: #d4ebff;}#sk-container-id-2 div.sk-serial::before {content: \"\";position: absolute;border-left: 1px solid gray;box-sizing: border-box;top: 0;bottom: 0;left: 50%;z-index: 0;}#sk-container-id-2 div.sk-serial {display: flex;flex-direction: column;align-items: center;background-color: white;padding-right: 0.2em;padding-left: 0.2em;position: relative;}#sk-container-id-2 div.sk-item {position: relative;z-index: 1;}#sk-container-id-2 div.sk-parallel {display: flex;align-items: stretch;justify-content: center;background-color: white;position: relative;}#sk-container-id-2 div.sk-item::before, #sk-container-id-2 div.sk-parallel-item::before {content: \"\";position: absolute;border-left: 1px solid gray;box-sizing: border-box;top: 0;bottom: 0;left: 50%;z-index: -1;}#sk-container-id-2 div.sk-parallel-item {display: flex;flex-direction: column;z-index: 1;position: relative;background-color: white;}#sk-container-id-2 div.sk-parallel-item:first-child::after {align-self: flex-end;width: 50%;}#sk-container-id-2 div.sk-parallel-item:last-child::after {align-self: flex-start;width: 50%;}#sk-container-id-2 div.sk-parallel-item:only-child::after {width: 0;}#sk-container-id-2 div.sk-dashed-wrapped {border: 1px dashed gray;margin: 0 0.4em 0.5em 0.4em;box-sizing: border-box;padding-bottom: 0.4em;background-color: white;}#sk-container-id-2 div.sk-label label {font-family: monospace;font-weight: bold;display: inline-block;line-height: 1.2em;}#sk-container-id-2 div.sk-label-container {text-align: center;}#sk-container-id-2 div.sk-container {/* jupyter's `normalize.less` sets `[hidden] { display: none; }` but bootstrap.min.css set `[hidden] { display: none !important; }` so we also need the `!important` here to be able to override the default hidden behavior on the sphinx rendered scikit-learn.org. See: https://github.com/scikit-learn/scikit-learn/issues/21755 */display: inline-block !important;position: relative;}#sk-container-id-2 div.sk-text-repr-fallback {display: none;}</style><div id=\"sk-container-id-2\" class=\"sk-top-container\"><div class=\"sk-text-repr-fallback\"><pre>Lasso(alpha=0.00025353644939701115)</pre><b>In a Jupyter environment, please rerun this cell to show the HTML representation or trust the notebook. <br />On GitHub, the HTML representation is unable to render, please try loading this page with nbviewer.org.</b></div><div class=\"sk-container\" hidden><div class=\"sk-item\"><div class=\"sk-estimator sk-toggleable\"><input class=\"sk-toggleable__control sk-hidden--visually\" id=\"sk-estimator-id-2\" type=\"checkbox\" checked><label for=\"sk-estimator-id-2\" class=\"sk-toggleable__label sk-toggleable__label-arrow\">Lasso</label><div class=\"sk-toggleable__content\"><pre>Lasso(alpha=0.00025353644939701115)</pre></div></div></div></div></div>"
      ],
      "text/plain": [
       "Lasso(alpha=0.00025353644939701115)"
      ]
     },
     "execution_count": 36,
     "metadata": {},
     "output_type": "execute_result"
    }
   ],
   "source": [
    "final_lasso_model.fit(X_train_val, y_train_val)"
   ]
  },
  {
   "cell_type": "markdown",
   "id": "b146b969-62ed-4c46-aae0-c47d43e79223",
   "metadata": {},
   "source": [
    " Make predictions on the test set\n"
   ]
  },
  {
   "cell_type": "code",
   "execution_count": 37,
   "id": "843b6d44-c32a-4555-a620-aba470d69e33",
   "metadata": {},
   "outputs": [],
   "source": [
    "y_test_pred_lasso = final_lasso_model.predict(X_test)"
   ]
  },
  {
   "cell_type": "markdown",
   "id": "11c78746-cce6-42cc-a781-d85befc04717",
   "metadata": {},
   "source": [
    "Calculate the Mean Squared Error on the test set\n"
   ]
  },
  {
   "cell_type": "code",
   "execution_count": 38,
   "id": "e61dc46c-6a1c-4f08-9285-49d681b98919",
   "metadata": {},
   "outputs": [],
   "source": [
    "final_test_mse_lasso = mean_squared_error(y_test, y_test_pred_lasso)"
   ]
  },
  {
   "cell_type": "markdown",
   "id": "c9da8e49-2435-4b93-a2ca-5245ebb58f28",
   "metadata": {},
   "source": [
    "Print the final test MSE\n"
   ]
  },
  {
   "cell_type": "code",
   "execution_count": 39,
   "id": "1eb78d4e-acfd-41c3-bdb0-713dafcf8524",
   "metadata": {},
   "outputs": [
    {
     "name": "stdout",
     "output_type": "stream",
     "text": [
      "Final Test MSE for Lasso: 0.018950275510584664\n",
      "Final Test MSE for Ridge: 0.018957929288861558\n"
     ]
    }
   ],
   "source": [
    "print(f\"Final Test MSE for Lasso: {final_test_mse_lasso}\")\n",
    "print(f\"Final Test MSE for Ridge: {final_test_mse_ridge}\")\n"
   ]
  },
  {
   "cell_type": "code",
   "execution_count": null,
   "id": "dfb29458-cf6b-4e42-8bb2-f2a35303a0e3",
   "metadata": {},
   "outputs": [],
   "source": []
  }
 ],
 "metadata": {
  "kernelspec": {
   "display_name": "Python 3 (ipykernel)",
   "language": "python",
   "name": "python3"
  },
  "language_info": {
   "codemirror_mode": {
    "name": "ipython",
    "version": 3
   },
   "file_extension": ".py",
   "mimetype": "text/x-python",
   "name": "python",
   "nbconvert_exporter": "python",
   "pygments_lexer": "ipython3",
   "version": "3.9.18"
  }
 },
 "nbformat": 4,
 "nbformat_minor": 5
}
