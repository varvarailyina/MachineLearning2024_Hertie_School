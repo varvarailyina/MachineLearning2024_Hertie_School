{
 "cells": [
  {
   "cell_type": "markdown",
   "id": "6d7c91c1-db98-4ee1-b5ac-dc677b0571ee",
   "metadata": {},
   "source": [
    "## Machine Learning\n",
    "***\n",
    "#### Problem Set 1\n",
    "#### Varvara Ilyina\n",
    "#### 2024-02-28"
   ]
  },
  {
   "cell_type": "markdown",
   "id": "b4a54101-3c27-4ad0-9d5a-5cdceeb83381",
   "metadata": {},
   "source": [
    "The following exercises have been solved with the help of the lecture slides, as well as Chapters 1, 4 and 5 in _Probabilistic Machine Learning: An Introduction_ by Kevin Murphy. Additionally, various internet resources, friends and ChatGPT were used to aid me in generating the correct commands for my Python code (especially for questions 5, 7 and 8).\n",
    "\n",
    "***\n",
    "***"
   ]
  },
  {
   "cell_type": "markdown",
   "id": "83fbeeb2-95f2-4777-a1c1-d62380cae7aa",
   "metadata": {},
   "source": [
    "#### 1. The particular task we will be considering is predicting `vote` based on five features: `TVnews`, `PID`, `age`, `educ`, and `popul`. Calculate summary statistics for the label and five features described above. Pay attention to the meaning of each variable and present a summary of it that makes sense given how it is coded."
   ]
  },
  {
   "cell_type": "code",
   "execution_count": 151,
   "id": "b5637a7d-8d56-4048-bbcc-701f33a82675",
   "metadata": {},
   "outputs": [],
   "source": [
    "# load packages\n",
    "import numpy as np\n",
    "import matplotlib.pyplot as plt\n",
    "import statsmodels.api as sm\n",
    "import pandas as pd\n",
    "\n",
    "from sklearn.linear_model import Ridge\n",
    "from sklearn.metrics import mean_squared_error\n",
    "from sklearn.model_selection import train_test_split\n",
    "from sklearn.linear_model import LinearRegression\n",
    "from scipy.stats import norm"
   ]
  },
  {
   "cell_type": "code",
   "execution_count": 165,
   "id": "71284c35",
   "metadata": {},
   "outputs": [
    {
     "name": "stdout",
     "output_type": "stream",
     "text": [
      "(944, 6)\n"
     ]
    },
    {
     "data": {
      "text/html": [
       "<div>\n",
       "<style scoped>\n",
       "    .dataframe tbody tr th:only-of-type {\n",
       "        vertical-align: middle;\n",
       "    }\n",
       "\n",
       "    .dataframe tbody tr th {\n",
       "        vertical-align: top;\n",
       "    }\n",
       "\n",
       "    .dataframe thead th {\n",
       "        text-align: right;\n",
       "    }\n",
       "</style>\n",
       "<table border=\"1\" class=\"dataframe\">\n",
       "  <thead>\n",
       "    <tr style=\"text-align: right;\">\n",
       "      <th></th>\n",
       "      <th>TVnews</th>\n",
       "      <th>PID</th>\n",
       "      <th>age</th>\n",
       "      <th>educ</th>\n",
       "      <th>popul</th>\n",
       "      <th>vote</th>\n",
       "    </tr>\n",
       "  </thead>\n",
       "  <tbody>\n",
       "    <tr>\n",
       "      <th>0</th>\n",
       "      <td>7.0</td>\n",
       "      <td>6.0</td>\n",
       "      <td>36.0</td>\n",
       "      <td>3.0</td>\n",
       "      <td>0.0</td>\n",
       "      <td>1.0</td>\n",
       "    </tr>\n",
       "    <tr>\n",
       "      <th>1</th>\n",
       "      <td>1.0</td>\n",
       "      <td>1.0</td>\n",
       "      <td>20.0</td>\n",
       "      <td>4.0</td>\n",
       "      <td>190.0</td>\n",
       "      <td>0.0</td>\n",
       "    </tr>\n",
       "    <tr>\n",
       "      <th>2</th>\n",
       "      <td>7.0</td>\n",
       "      <td>1.0</td>\n",
       "      <td>24.0</td>\n",
       "      <td>6.0</td>\n",
       "      <td>31.0</td>\n",
       "      <td>0.0</td>\n",
       "    </tr>\n",
       "    <tr>\n",
       "      <th>3</th>\n",
       "      <td>4.0</td>\n",
       "      <td>1.0</td>\n",
       "      <td>28.0</td>\n",
       "      <td>6.0</td>\n",
       "      <td>83.0</td>\n",
       "      <td>0.0</td>\n",
       "    </tr>\n",
       "    <tr>\n",
       "      <th>4</th>\n",
       "      <td>7.0</td>\n",
       "      <td>0.0</td>\n",
       "      <td>68.0</td>\n",
       "      <td>6.0</td>\n",
       "      <td>640.0</td>\n",
       "      <td>0.0</td>\n",
       "    </tr>\n",
       "  </tbody>\n",
       "</table>\n",
       "</div>"
      ],
      "text/plain": [
       "   TVnews  PID   age  educ  popul  vote\n",
       "0     7.0  6.0  36.0   3.0    0.0   1.0\n",
       "1     1.0  1.0  20.0   4.0  190.0   0.0\n",
       "2     7.0  1.0  24.0   6.0   31.0   0.0\n",
       "3     4.0  1.0  28.0   6.0   83.0   0.0\n",
       "4     7.0  0.0  68.0   6.0  640.0   0.0"
      ]
     },
     "execution_count": 165,
     "metadata": {},
     "output_type": "execute_result"
    }
   ],
   "source": [
    "# load dataset\n",
    "data = sm.datasets.anes96.load_pandas().data\n",
    "\n",
    "# extract necessary columns\n",
    "features = ['TVnews', 'PID', 'age', 'educ', 'popul']\n",
    "label = 'vote'\n",
    "df = data[features + [label]]\n",
    "\n",
    "# replace missings with NaN\n",
    "df = df.replace('?', np.nan)\n",
    "\n",
    "# drop missing values\n",
    "df = df.dropna(axis = 1)\n",
    "\n",
    "print(df.shape)\n",
    "df.head()"
   ]
  },
  {
   "cell_type": "code",
   "execution_count": 30,
   "id": "c2875d15",
   "metadata": {},
   "outputs": [
    {
     "name": "stdout",
     "output_type": "stream",
     "text": [
      "           TVnews         PID         age        educ        popul        vote\n",
      "count  944.000000  944.000000  944.000000  944.000000   944.000000  944.000000\n",
      "mean     3.727754    2.842161   47.043432    4.565678   306.381356    0.416314\n",
      "std      2.677235    2.273337   16.423130    1.599287  1082.606745    0.493208\n",
      "min      0.000000    0.000000   19.000000    1.000000     0.000000    0.000000\n",
      "25%      1.000000    1.000000   34.000000    3.000000     1.000000    0.000000\n",
      "50%      3.000000    2.000000   44.000000    4.000000    22.000000    0.000000\n",
      "75%      7.000000    5.000000   58.000000    6.000000   110.000000    1.000000\n",
      "max      7.000000    6.000000   91.000000    7.000000  7300.000000    1.000000\n"
     ]
    }
   ],
   "source": [
    "# print summary statistics\n",
    "summary = df.describe()\n",
    "print(summary)"
   ]
  },
  {
   "cell_type": "code",
   "execution_count": 105,
   "id": "c40ed29a",
   "metadata": {},
   "outputs": [
    {
     "name": "stdout",
     "output_type": "stream",
     "text": [
      "[[ 1.22289631  1.38981276 -0.67278806 -0.97950413 -0.28315338]\n",
      " [-1.01941016 -0.81076296 -1.64754019 -0.35389391 -0.10755803]\n",
      " [ 1.22289631 -0.81076296 -1.40385216  0.89732651 -0.25450362]\n",
      " ...\n",
      " [-0.27197467  0.94969762 -0.24633401  0.89732651 -0.28315338]\n",
      " [ 0.84917856  1.38981276 -0.06356798  1.52293673 -0.28315338]\n",
      " [ 1.22289631  0.06946733  0.85026213  1.52293673 -0.26651803]]\n"
     ]
    }
   ],
   "source": [
    "# index df using `iloc`\n",
    "X_no_intercept = df.iloc[:, 0:5].values  # data from first 5 columns\n",
    "y = df.iloc[:, 5].values  # extract attribute/feature to be predicted from 6th column of df\n",
    "\n",
    "# use seed to get a randomized sample with a 70%/30% split\n",
    "seed = 0\n",
    "\n",
    "X_train, X_test, y_train, y_test = train_test_split(X, y, test_size = 0.3, random_state = seed)\n",
    "\n",
    "# standardize testing data\n",
    "from sklearn.preprocessing import StandardScaler\n",
    "\n",
    "sc = StandardScaler()\n",
    "\n",
    "X_train = sc.fit_transform(X_no_intercept)\n",
    "print(X_train)"
   ]
  },
  {
   "cell_type": "code",
   "execution_count": 110,
   "id": "fe77c434",
   "metadata": {},
   "outputs": [
    {
     "name": "stdout",
     "output_type": "stream",
     "text": [
      "X features:\n",
      "      intercept    TVnews       PID       age      educ     popul\n",
      "0          1.0  1.222896  1.389813 -0.672788 -0.979504 -0.283153\n",
      "1          1.0 -1.019410 -0.810763 -1.647540 -0.353894 -0.107558\n",
      "2          1.0  1.222896 -0.810763 -1.403852  0.897327 -0.254504\n",
      "3          1.0  0.101743 -0.810763 -1.160164  0.897327 -0.206446\n",
      "4          1.0  1.222896 -1.250878  1.276716  0.897327  0.308326\n",
      "..         ...       ...       ...       ...       ...       ...\n",
      "939        1.0  1.222896  0.509582  1.581326  0.897327 -0.283153\n",
      "940        1.0  1.222896  1.389813  0.180120  0.897327 -0.283153\n",
      "941        1.0 -0.271975  0.949698 -0.246334  0.897327 -0.283153\n",
      "942        1.0  0.849179  1.389813 -0.063568  1.522937 -0.283153\n",
      "943        1.0  1.222896  0.069467  0.850262  1.522937 -0.266518\n",
      "\n",
      "[944 rows x 6 columns]\n",
      "Y label:\n",
      " 0      1.0\n",
      "1      0.0\n",
      "2      0.0\n",
      "3      0.0\n",
      "4      0.0\n",
      "      ... \n",
      "939    1.0\n",
      "940    1.0\n",
      "941    1.0\n",
      "942    1.0\n",
      "943    1.0\n",
      "Name: vote, Length: 944, dtype: float64\n"
     ]
    }
   ],
   "source": [
    "# add intercept\n",
    "X_train_intercept = sm.add_constant(X_train)\n",
    "\n",
    "# create dataframe\n",
    "X_train_intercept = pd.DataFrame(X_train_intercept, columns = ['intercept', 'TVnews', 'PID', 'age', 'educ', 'popul'])\n",
    "print(\"X features:\\n\", X_train_intercept)\n",
    "\n",
    "y_train = df.iloc[:, 5]\n",
    "print(\"Y label:\\n\", y_train)"
   ]
  },
  {
   "cell_type": "markdown",
   "id": "eccbec7c-925e-4933-b59e-8b3de3a41a82",
   "metadata": {},
   "source": [
    "#### 2. What is the formula for the closed form estimate of the coefficient vector in ordinary least squares regression? Estimate the coefficients using `numpy` in Python by performing the matrix operations from the closed form solution we worked out in class."
   ]
  },
  {
   "cell_type": "markdown",
   "id": "679467c0",
   "metadata": {},
   "source": [
    "__Solution__: The closed form solution is $\\hat{\\beta} = (X^TX)^{-1}X^Ty$. This formula is used to estimate the coefficients in OLS regression below."
   ]
  },
  {
   "cell_type": "code",
   "execution_count": 111,
   "id": "e97bea0f",
   "metadata": {},
   "outputs": [
    {
     "name": "stdout",
     "output_type": "stream",
     "text": [
      "Estimated coefficients (closed form solution):\n",
      " 0    0.416314\n",
      "1    0.004639\n",
      "2    0.392557\n",
      "3    0.022259\n",
      "4    0.005333\n",
      "5    0.000051\n",
      "dtype: float64\n"
     ]
    }
   ],
   "source": [
    "# estimate coefficients using the closed-form solution\n",
    "beta = np.linalg.inv(X_train_intercept.T @ X_train_intercept) @ X_train_intercept.T @ y_train\n",
    "\n",
    "print(\"Estimated coefficients (closed form solution):\\n\", beta)"
   ]
  },
  {
   "cell_type": "markdown",
   "id": "5cd7fdc5-b66f-4b32-9b16-b45f887f02d0",
   "metadata": {},
   "source": [
    "#### 3. Estimate the coefficients using the `statsmodels` package. Compare them."
   ]
  },
  {
   "cell_type": "markdown",
   "id": "4275f0d0",
   "metadata": {},
   "source": [
    "__Solution__: Both estimations, whether with an ordinary least squares regression or the `statsmodel` package, result in the same coefficients. The work to prove this is shown below."
   ]
  },
  {
   "cell_type": "code",
   "execution_count": 112,
   "id": "7376311c",
   "metadata": {},
   "outputs": [
    {
     "name": "stdout",
     "output_type": "stream",
     "text": [
      "Estimated coefficients (statsmodel OLS):\n",
      "                             OLS Regression Results                            \n",
      "==============================================================================\n",
      "Dep. Variable:                   vote   R-squared:                       0.638\n",
      "Model:                            OLS   Adj. R-squared:                  0.636\n",
      "Method:                 Least Squares   F-statistic:                     330.9\n",
      "Date:                Wed, 28 Feb 2024   Prob (F-statistic):          3.46e-204\n",
      "Time:                        18:44:29   Log-Likelihood:                -191.93\n",
      "No. Observations:                 944   AIC:                             395.9\n",
      "Df Residuals:                     938   BIC:                             425.0\n",
      "Df Model:                           5                                         \n",
      "Covariance Type:            nonrobust                                         \n",
      "==============================================================================\n",
      "                 coef    std err          t      P>|t|      [0.025      0.975]\n",
      "------------------------------------------------------------------------------\n",
      "intercept      0.4163      0.010     42.999      0.000       0.397       0.435\n",
      "TVnews         0.0046      0.011      0.436      0.663      -0.016       0.026\n",
      "PID            0.3926      0.010     40.087      0.000       0.373       0.412\n",
      "age            0.0223      0.011      2.070      0.039       0.001       0.043\n",
      "educ           0.0053      0.010      0.541      0.589      -0.014       0.025\n",
      "popul       5.051e-05      0.010      0.005      0.996      -0.019       0.019\n",
      "==============================================================================\n",
      "Omnibus:                       70.909   Durbin-Watson:                   1.945\n",
      "Prob(Omnibus):                  0.000   Jarque-Bera (JB):              210.328\n",
      "Skew:                          -0.350   Prob(JB):                     2.13e-46\n",
      "Kurtosis:                       5.204   Cond. No.                         1.61\n",
      "==============================================================================\n",
      "\n",
      "Notes:\n",
      "[1] Standard Errors assume that the covariance matrix of the errors is correctly specified.\n"
     ]
    }
   ],
   "source": [
    "# fit the model\n",
    "model = sm.OLS(y_train, X_train_intercept).fit()\n",
    "\n",
    "print(\"Estimated coefficients (statsmodel OLS):\\n\", model.summary())"
   ]
  },
  {
   "cell_type": "code",
   "execution_count": 85,
   "id": "7ce7ffa3",
   "metadata": {},
   "outputs": [
    {
     "name": "stdout",
     "output_type": "stream",
     "text": [
      "Coefficients from closed form solution:\n",
      " 0    0.416314\n",
      "1    0.004639\n",
      "2    0.392557\n",
      "3    0.022259\n",
      "4    0.005333\n",
      "5    0.000051\n",
      "dtype: float64\n",
      "Coefficients from statsmodels:\n",
      " intercept    0.416314\n",
      "TVnews       0.004639\n",
      "PID          0.392557\n",
      "age          0.022259\n",
      "educ         0.005333\n",
      "popul        0.000051\n",
      "dtype: float64\n"
     ]
    }
   ],
   "source": [
    "# compare coefficients\n",
    "print(\"Coefficients from closed form solution:\\n\", beta)\n",
    "print(\"Coefficients from statsmodels:\\n\", model.params)"
   ]
  },
  {
   "cell_type": "markdown",
   "id": "c441b84d-c640-474b-a326-a38fe090ff6c",
   "metadata": {},
   "source": [
    "#### 4. Now, think about the model you just estimated. In class, we talked about two assumptions we could use to motivate estimation of the variance of this coefficient vector. Which would you choose and why?"
   ]
  },
  {
   "cell_type": "markdown",
   "id": "91168d3e",
   "metadata": {},
   "source": [
    "__Solution__: In the plot below, two parallel lines are seen. Since the results are not binary, they are difficult to interpret. With the help of ChatGPT, I was able to determine that the variance $\\sigma^{2}$ varies between units, thus indicating _heteroskedasticity_. This violates the basic assumption of linear regression models and can lead to biased estimates of the regression coefficients."
   ]
  },
  {
   "cell_type": "code",
   "execution_count": 92,
   "id": "eb56c0d9",
   "metadata": {},
   "outputs": [
    {
     "data": {
      "image/png": "[encoded data removed]",
      "text/plain": [
       "<Figure size 640x480 with 1 Axes>"
      ]
     },
     "metadata": {},
     "output_type": "display_data"
    }
   ],
   "source": [
    "residuals = sm_results.resid\n",
    "\n",
    "plt.scatter(sm_results.fittedvalues, residuals)\n",
    "plt.title(\"Residual Plot\")\n",
    "plt.xlabel(\"fitted values\")\n",
    "plt.ylabel(\"residuals\")\n",
    "plt.axhline(y = 0, color = 'black', linestyle = '-')\n",
    "plt.show()"
   ]
  },
  {
   "cell_type": "markdown",
   "id": "0db81a40-9626-4f3c-abfe-03747dfa8c1c",
   "metadata": {},
   "source": [
    "#### 5. Estimate the variance of these coefficients using the matrix formula."
   ]
  },
  {
   "cell_type": "markdown",
   "id": "403ee9e0",
   "metadata": {},
   "source": [
    "__Solution__: To estimate the variance of the coefficients, I apply the concept of the \"sandwich\" estimator using the matrix formula $\\text{Var}(\\hat{\\beta}) = (X^T X)^{-1} X^T \\text{diag}(\\hat{e}^2) X (X^T X)^{-1}$. This formula is used to correct any bias resulting from the heteroskedasticity found above. $\\hat{e}^2 = (y - \\hat{y})^2$ is used to calculate the squared residuals, where $\\hat{e}^2$ are the squared differences between the observed values ($y$) and the predicted values ($\\hat{y}$) obtained from the regression model."
   ]
  },
  {
   "cell_type": "code",
   "execution_count": 144,
   "id": "6ffdbf3e",
   "metadata": {},
   "outputs": [
    {
     "name": "stdout",
     "output_type": "stream",
     "text": [
      "(6, 944)\n",
      "(944, 944)\n",
      "(944, 6)\n",
      "Estimated variance of coefficients:\n",
      "           0             1         2         3             4         5\n",
      "0  0.000093  3.645171e-06  0.000028  0.000002 -2.560040e-06  0.000012\n",
      "1  0.000004  1.151078e-04  0.000013 -0.000042  8.624614e-08  0.000013\n",
      "2  0.000028  1.318217e-05  0.000066 -0.000009 -1.625723e-05  0.000008\n",
      "3  0.000002 -4.166116e-05 -0.000009  0.000107  2.010585e-05 -0.000001\n",
      "4 -0.000003  8.624614e-08 -0.000016  0.000020  9.479563e-05  0.000015\n",
      "5  0.000012  1.255711e-05  0.000008 -0.000001  1.529698e-05  0.000155\n"
     ]
    }
   ],
   "source": [
    "# calculate needed values\n",
    "X = X_train_intercept\n",
    "y = y_train\n",
    "\n",
    "# generate diagonal matrix of residuals\n",
    "resid_diag_matrix = np.diag(residuals ** 2)\n",
    "\n",
    "# calculate \"sandwich\" values\n",
    "bread_1 = np.linalg.inv(X.T @ X) @ X.T\n",
    "meat = resid_diag_matrix\n",
    "bread_2 = X @ np.linalg.inv(X.T @ X)\n",
    "\n",
    "# check matrix dimensions\n",
    "print(bread_1.shape)\n",
    "print(meat.shape)\n",
    "print(bread_2.shape)\n",
    "\n",
    "# plug into \"sandwich\" formula\n",
    "variance_coeff = bread_1 @ meat @ bread_2\n",
    "print(\"Estimated variance of coefficients:\\n\", variance_coeff)"
   ]
  },
  {
   "cell_type": "markdown",
   "id": "68887f16-e4c1-477b-8c75-9e757d4a6d72",
   "metadata": {},
   "source": [
    "#### 6. Create a table showing, for each feature, _j_, the estimate ($\\hat{β}_{j}$), the standard error $\\sqrt{\\hat{Var}(\\hat{β})}_{jj}$, and the upper and lower bounds of the 95% confidence interval ($\\hat{β}_{j}±z_{\\alpha}\\sqrt{\\hat{Var}(\\hat{β})}_{jj}$). Compare the variance to what you got from statsmodels. What assumption are they using on the variance?"
   ]
  },
  {
   "cell_type": "code",
   "execution_count": 173,
   "id": "747558ac",
   "metadata": {},
   "outputs": [
    {
     "name": "stdout",
     "output_type": "stream",
     "text": [
      "     Feature  Coefficient  Std. Error  Lower Bound (95% CI)  \\\n",
      "0  Intercept     0.416314    0.009651              0.397398   \n",
      "1     TVnews     0.004639    0.010729             -0.016389   \n",
      "2        PID     0.392557    0.008107              0.376667   \n",
      "3        age     0.022259    0.010340              0.001993   \n",
      "4       educ     0.005333    0.009736             -0.013749   \n",
      "5      popul     0.000051    0.012445             -0.024342   \n",
      "\n",
      "   Upper Bound (95% CI)  \n",
      "0              0.435229  \n",
      "1              0.025667  \n",
      "2              0.408447  \n",
      "3              0.042525  \n",
      "4              0.024416  \n",
      "5              0.024443  \n"
     ]
    }
   ],
   "source": [
    "# specify features\n",
    "features_int = ['Intercept'] + features\n",
    "\n",
    "# calculate standard error\n",
    "std_err = np.sqrt(np.diag(variance_coeff))\n",
    "\n",
    "# calculate upper / lower bounds of 95% confidence interval\n",
    "z_alpha = norm.ppf(0.975)\n",
    "\n",
    "lower_bound = beta - z_alpha * std_err\n",
    "upper_bound = beta + z_alpha * std_err\n",
    "\n",
    "# generate table\n",
    "table_6 = pd.DataFrame({'Feature': features_int,\n",
    "                        'Coefficient': beta,\n",
    "                        'Std. Error': std_err,\n",
    "                        'Lower Bound (95% CI)': lower_bound,\n",
    "                        'Upper Bound (95% CI)': upper_bound})\n",
    "\n",
    "print(table_6)"
   ]
  },
  {
   "cell_type": "markdown",
   "id": "6e69a1d8-1e5c-4466-840c-f059b43b9cfd",
   "metadata": {},
   "source": [
    "#### 7. Write a function with three arguments:\n",
    "* `beta`: A 1D numpy array representing a particular value of your coefficients, $β$.\n",
    "* `label`: A 1D numpy array of the labels in your dataset.\n",
    "* `features`: A 2D numpy array representing the features in your dataset.\n",
    "##### This function should output a single number, the negative log-likelihood evaluated at the chosen value of $β$."
   ]
  },
  {
   "cell_type": "markdown",
   "id": "58fd4ecb",
   "metadata": {},
   "source": [
    "I had help from ChatGPT for this exercise, as I am still new to writing Python code.\n",
    "\n",
    "Input into my `nll` function are three arguments, namely the `beta` coefficient, the `label` with `vote` and then the five `features` . Within the function, I first create `features_coeff` for the scores for each observations, which represent the strength of the association between the feature and the outcome. Next, I apply the sigmoid function to transform these into interpretable probabilities ($\\hat{p}$). The negative log likelihood is a quantitative measure of how well the model was able to predict the data, i.e., whether the predicted probabilities align with the actual observed data."
   ]
  },
  {
   "cell_type": "code",
   "execution_count": 176,
   "id": "ad974aea",
   "metadata": {},
   "outputs": [],
   "source": [
    "# define function\n",
    "def nll(beta, label, features):\n",
    "    features_coeff = np.dot(features, beta)\n",
    "    p_hat = 1 / (1 + np.exp(-features_coeff))\n",
    "    nll_value = -np.sum(label * np.log(p_hat) + (1 - label) * np.log(1 - p_hat))\n",
    "    return nll_value"
   ]
  },
  {
   "cell_type": "markdown",
   "id": "78e10294-059b-4e5b-b4bf-1de32e88a144",
   "metadata": {},
   "source": [
    "#### 8. Using the `SciPy` library, minimize the objective function we discussed in class for logistic regression."
   ]
  },
  {
   "cell_type": "markdown",
   "id": "45c20450",
   "metadata": {},
   "source": [
    "The `nll` function is adjusted to restrict the outputted values"
   ]
  },
  {
   "cell_type": "code",
   "execution_count": null,
   "id": "9795ec67-cb79-4b9f-a6f2-7e75718717df",
   "metadata": {},
   "outputs": [],
   "source": [
    "# me\n",
    "\n",
    "\n",
    "\n",
    "\n",
    "opt_result = scipy.optimize.minimize(\n",
    "nll, args = (X, y), x0 = [0] * 6, method = 'BFGS'\n",
    ")\n",
    "beta_logistic = opt_result.x"
   ]
  },
  {
   "cell_type": "code",
   "execution_count": null,
   "id": "991226c7",
   "metadata": {},
   "outputs": [],
   "source": [
    "# armande\n",
    "\n",
    "from scipy.optimize import minimize\n",
    "\n",
    "def negative_log_likelihood(beta, X, y):\n",
    "    features_coeff = np.dot(X, beta)\n",
    "    p_hat = 1 / (1 + np.exp(-features_coeff))\n",
    "    eps = np.finfo(float).eps #use of the command to know the smallest floating point number\n",
    "    p_hat_clipped = np.clip(p_hat, eps, 1 - eps)  # Clip probabilities to avoid zeros and ones\n",
    "    nll = -np.sum(y * np.log(p_hat_clipped) + (1 - y) * np.log(1 - p_hat_clipped))\n",
    "    return nll\n",
    "\n",
    "initial_beta = np.zeros(X.shape[1])\n",
    "\n",
    "# Minimize the negative log-likelihood function\n",
    "opt_result = minimize(negative_log_likelihood, initial_beta, args=(X, y), method='BFGS')\n",
    "\n",
    "# Extract the optimal coefficients\n",
    "beta_logistic = opt_result.x\n",
    "\n",
    "print(\"Optimal coefficients:\", beta_logistic)"
   ]
  },
  {
   "cell_type": "code",
   "execution_count": null,
   "id": "e555e5e5",
   "metadata": {},
   "outputs": [],
   "source": [
    "# giulia\n",
    "\n",
    "def nll_function(beta, features, label):  # same function as above but we are clipping, or bounding, values within  specified range \n",
    "    # we need the features coefficients to reproduce scores for each observation\n",
    "    # the scores represent the strenght of association between the feature and the outcome \n",
    "    features_coeff = np.dot(features, beta) \n",
    "    # to trasform the raw scores into interpretable probabilities of class membership (Dole or Clinton), we apply the sigmoid function \n",
    "    p_hat = 1 / (1 + np.exp(-features_coeff))\n",
    "\n",
    "    eps = np.finfo(float).eps # a very small number close to zero\n",
    "    # np.clip() function is used to ensure that the predicted probabilities (p_hat) are bounded between eps and 1 - eps\n",
    "    # its basically to avoid 0 but still getting extremely close to it \n",
    "    p_hat_clipped = np.clip(p_hat, eps, 1 - eps) # p_hat variable used here is the clipped version\n",
    "    # This ensures that the predicted probabilities passed to the negative log-likelihood calculation are within a valid range \n",
    "    \n",
    "    # next step quantifies how well the model's predicted probabilities align with the actual labels observed in the dataset.\n",
    "    nll = -np.sum(label * np.log(p_hat_clipped) + (1 - label) * np.log(1 - p_hat_clipped))\n",
    "    return nll # discrepancy between the observed data and the predictions made by the model\n",
    "\n",
    "initial_beta = np.zeros(X.shape[1])  # ChatGPT suggested this and taught me its scope in this function \n",
    "# By setting the initial coefficients to zero, the optimization algorithm starts from a neutral point \n",
    "# The algorithm iteratively adjusts the coefficients to minimize the negative log-likelihood function\n",
    "\n",
    "# Minimize the negative log-likelihood function\n",
    "opt_result = minimize(nll_function, initial_beta, args=(X, y), method='BFGS')\n",
    "\n",
    "beta_logistic = opt_result.x# these are the optimal coefficients \n",
    "\n",
    "print(\"Optimal coefficients:\", beta_logistic)\n",
    "\n",
    "# These coefficients are optimal because they do a better job at minimizing the difference the observed data and the predictions made by the model."
   ]
  },
  {
   "cell_type": "markdown",
   "id": "f0d86cfa-c124-4e13-87d9-9e887fa6a5b3",
   "metadata": {},
   "source": [
    "#### 9. Now you can construct your predictions by taking the dot-product between beta logistic and your feature matrix and then passing that dot-product through the sigmoid function. This provides an estimate of the probability of class membership. Also calculate the most likely class for each unit by predicting a 1 when $p(y$<sub>i</sub>$|x$<sub>i</sub>$; β) > 0.5$ (i.e. the Heaviside function)."
   ]
  },
  {
   "cell_type": "code",
   "execution_count": null,
   "id": "25d30d03-d3ed-48c2-a5b3-65b9a4220a7b",
   "metadata": {},
   "outputs": [],
   "source": []
  },
  {
   "cell_type": "markdown",
   "id": "7277f3d1-e873-42c4-b31c-8b65dcabd490",
   "metadata": {},
   "source": [
    "#### 10. Construct class estimates for your OLS predictions as well by calculating $1(Xβ_{ols} > 0.5)$ (i.e. output a $1$ if the OLS predicted value is greater than $0.5$)."
   ]
  },
  {
   "cell_type": "code",
   "execution_count": null,
   "id": "8fb68d86-93e3-40b8-8db2-9ea4645ce725",
   "metadata": {},
   "outputs": [],
   "source": []
  },
  {
   "cell_type": "markdown",
   "id": "486121d4-9987-439a-a6f0-0b805839e0a2",
   "metadata": {},
   "source": [
    "#### 11. Calculate the full confusion matrix for the logistic regression and the OLS model."
   ]
  },
  {
   "cell_type": "code",
   "execution_count": null,
   "id": "7581ba09-d8c3-417f-a156-335152cdb261",
   "metadata": {},
   "outputs": [],
   "source": []
  },
  {
   "cell_type": "markdown",
   "id": "0a05c1ed-9b08-4b94-826c-43d248967f49",
   "metadata": {},
   "source": [
    "#### 12. Plot the relationship between the predictions from the linear regression in Question 1 (on the x-axis) and the predictions from the logistic regression (on the y-axis). What do you see?"
   ]
  },
  {
   "cell_type": "code",
   "execution_count": null,
   "id": "38d83508-51a2-4d72-bc7f-afc2be2a5853",
   "metadata": {},
   "outputs": [],
   "source": []
  },
  {
   "cell_type": "markdown",
   "id": "f8a2c7d6-54fd-4094-97d5-e45474e9bd14",
   "metadata": {},
   "source": [
    "#### 13. Separating users into communities based on the kind of stories they engage with and other users they interact with."
   ]
  },
  {
   "cell_type": "code",
   "execution_count": null,
   "id": "07dad3a3-08e9-454b-9b2d-bf55c61b7b81",
   "metadata": {},
   "outputs": [],
   "source": []
  },
  {
   "cell_type": "markdown",
   "id": "58ee11ba-1bc1-43f6-9774-607198b4dea4",
   "metadata": {},
   "source": [
    "#### 14. Predicting whether users will click on a story or not based on their past behavior."
   ]
  },
  {
   "cell_type": "code",
   "execution_count": null,
   "id": "f6b8fc38-b6c7-4e2d-9a81-14fb90d6086d",
   "metadata": {},
   "outputs": [],
   "source": []
  },
  {
   "cell_type": "markdown",
   "id": "a516eb79-151c-4c63-ad73-97ea5a529538",
   "metadata": {},
   "source": [
    "#### 15. Choosing which story to show a user in order to keep them active on the platform for longer."
   ]
  },
  {
   "cell_type": "code",
   "execution_count": null,
   "id": "625e72ec-f0bb-459b-a395-57f478e2d64c",
   "metadata": {},
   "outputs": [],
   "source": []
  }
 ],
 "metadata": {
  "kernelspec": {
   "display_name": "Python 3 (ipykernel)",
   "language": "python",
   "name": "python3"
  },
  "language_info": {
   "codemirror_mode": {
    "name": "ipython",
    "version": 3
   },
   "file_extension": ".py",
   "mimetype": "text/x-python",
   "name": "python",
   "nbconvert_exporter": "python",
   "pygments_lexer": "ipython3",
   "version": "3.11.7"
  }
 },
 "nbformat": 4,
 "nbformat_minor": 5
}
